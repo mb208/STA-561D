{
 "cells": [
  {
   "cell_type": "markdown",
   "id": "available-spread",
   "metadata": {},
   "source": [
    "$$\n",
    "\\begin{align}\n",
    "\\sqrt{n}(\\hat{\\beta}_{n} - \\beta^{*}) &= (P_n XX^{T})^{-1}P_n XY -  \\beta^{*} \\\\\n",
    "&= \\sqrt{n}(P_nXX^{T})^{-1}P_nX\\left\\{Y - X^{T}\\beta^{*}\\right\\} \\\\\n",
    "&= \\sqrt{n}(P_nXX^{T})^{-1}(P_n - P)X\\left\\{Y -  X^{T}\\beta^{*}\\right\\} \\\\\n",
    "&= \\sqrt{n}(P_nXX^{T})^{-1}(P_n - P)XY  && \\text{ since } \\beta^{*} = \\textbf{0} \\\\\n",
    "&\\to  \\text{N}(\\textbf{0}, (P_nXX^{T})^{-1}XX^TY^2(P_nXX^{T})^{-1}) && \\text{ By CLT } \n",
    "\\end{align}\n",
    "$$\n",
    "\n",
    "   \n",
    "\n",
    "$PXX^T = P \\begin{bmatrix} 1 \\\\ X \\end{bmatrix}\\begin{bmatrix} 1 & X \\end{bmatrix} =  \\begin{bmatrix}1 & PX \\\\ PX & PX^2\\end{bmatrix}=  \\begin{bmatrix}1 & 0 \\\\ 0 & \\frac{1}{2}\\end{bmatrix}$\n",
    "\n",
    "$(PXX^T)^{-1} = \\begin{bmatrix}1 & 0 \\\\ 0 & 2\\end{bmatrix}$\n",
    "\n",
    "As Y is the sign of an expression, Y = {-1,1}. $Y^2 = 1$ always, and $PXX^T Y = PXX^T$\n",
    "$PXX^TY^2 =PXX^T$.\n",
    "\n",
    "\n",
    "So, $(P_nXX^{T})^{-1}XX^TY^2(P_nXX^{T})^{-1}) = (P_nXX^{T})^{-1} =  \\begin{bmatrix}1 & 0 \\\\ 0 & 2\\end{bmatrix}$\n",
    "\n",
    "Therefore, $\\sqrt{n}(\\hat{\\beta}_{n} - \\beta^{*}) \\sim  \\text{N}\\left(\\begin{bmatrix} 0 \\\\ 0 \\end{bmatrix}, \\Sigma = \\begin{bmatrix}1 & 0 \\\\ 0 & 2\\end{bmatrix}\\right)$"
   ]
  }
 ],
 "metadata": {
  "kernelspec": {
   "display_name": "Python 3",
   "language": "python",
   "name": "python3"
  },
  "language_info": {
   "codemirror_mode": {
    "name": "ipython",
    "version": 3
   },
   "file_extension": ".py",
   "mimetype": "text/x-python",
   "name": "python",
   "nbconvert_exporter": "python",
   "pygments_lexer": "ipython3",
   "version": "3.6.10"
  }
 },
 "nbformat": 4,
 "nbformat_minor": 5
}
