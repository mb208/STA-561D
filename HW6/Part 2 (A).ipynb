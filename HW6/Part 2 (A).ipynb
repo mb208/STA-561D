{
 "cells": [
  {
   "cell_type": "markdown",
   "metadata": {},
   "source": [
    "## Part 2 A"
   ]
  },
  {
   "cell_type": "markdown",
   "metadata": {},
   "source": [
    "### Solving for $\\beta_0$"
   ]
  },
  {
   "cell_type": "markdown",
   "metadata": {},
   "source": [
    "$$\n",
    "\\begin{align}\n",
    "\\hat\\beta_n &= \\underset{\\beta}{argmin}\\mathbb{P}_n(Y-\\beta_0-\\beta_1X)^2\\\\\n",
    "\\text{Derivative w.r.t }\\beta_0\\rightarrow &= -2\\mathbb{P}_n(Y-\\beta_0-\\beta_1X)\\\\\n",
    "0&=\\mathbb{P}_n(Y)-\\beta_0-\\mathbb{P}_n(\\beta_1X)\\\\\n",
    "\\beta_0^*&=\\mathbb{P}_n(Y-\\beta_1X)\n",
    "\\end{align}\n",
    "$$"
   ]
  },
  {
   "cell_type": "markdown",
   "metadata": {},
   "source": [
    "### Solving for $\\beta_1$"
   ]
  },
  {
   "cell_type": "markdown",
   "metadata": {},
   "source": [
    "$$\n",
    "\\begin{align}\n",
    "\\hat\\beta_n &= \\underset{\\beta}{argmin}\\mathbb{P}_n(Y-\\beta_0-\\beta_1X)^2\\\\\n",
    "\\text{Derivative w.r.t }\\beta_1\\rightarrow &= -2\\mathbb{P}_nX(Y-\\beta_0-\\beta_1X)\\\\\n",
    "0 &= \\mathbb{P}_n(XY)-\\beta_0\\mathbb{P}_n(X)-\\mathbb{P}_n(X\\beta_1X)\\\\\n",
    "\\text{Substitute in } \\beta_0^*\\\\\n",
    "0&=\\mathbb{P}_n(XY)-\\mathbb{P}_n(Y-\\beta_1X)\\mathbb{P}_n(X)-\\mathbb{P}_n(X\\beta_1X)\\\\\n",
    "0&=\\mathbb{P}_n(XY)-\\mathbb{P}_n(Y)\\mathbb{P}_n(X)-\\mathbb{P}_n(X)\\beta_1\\mathbb{P}_n(X)-\\mathbb{P}_n(X\\beta_1X)\\\\\n",
    "0&=\\mathbb{P}_n(XY)-\\mathbb{P}_n(Y)\\mathbb{P}_n(X)-\\beta_1\\mathbb{P}_n(X)^2-\\beta_1\\mathbb{P}_n(XX)\\\\\n",
    "\\beta_1(\\mathbb{P}_n(X)^2+\\mathbb{P}_n(XX))&=\\mathbb{P}_n(XY)-\\mathbb{P}_n(Y)\\mathbb{P}_n(X)\\\\\n",
    "\\beta_1^*&=(\\mathbb{P}_n(X)^2+\\mathbb{P}_n(XX))^{-1}[\\mathbb{P}_n(XY)-\\mathbb{P}_n(Y)\\mathbb{P}_n(X)]\\\\\n",
    "\\end{align}\n",
    "$$"
   ]
  },
  {
   "cell_type": "markdown",
   "metadata": {},
   "source": [
    "### Solving for $\\beta^*$"
   ]
  },
  {
   "cell_type": "markdown",
   "metadata": {},
   "source": [
    "Based on the distributions of X and Y defined in the problem\n",
    "$$\n",
    "\\begin{align}\n",
    "&\\mathbb{P}_n(Y) = 0\\\\\n",
    "&\\mathbb{P}_n(XY) = 0\\\\\n",
    "&\\text{Thus}\\\\\n",
    "\\beta_1^*&=(\\mathbb{P}_n(X)^2+\\mathbb{P}_n(XX))^{-1}[\\mathbb{P}_n(XY)-\\mathbb{P}_n(Y)\\mathbb{P}_n(X)]\\\\\n",
    "\\beta_1^*&=(\\mathbb{P}_n(X)^2+\\mathbb{P}_n(XX))^{-1}[0-0]\\\\\n",
    "\\beta_1^*&=0\\\\\n",
    "\\beta_0^*&=\\mathbb{P}_n(Y-\\beta_1^*X)\\\\\n",
    "\\beta_0^*&=\\mathbb{P}_n(Y)-\\mathbb{P}_n(0X)\\\\\n",
    "\\beta_0^*&= 0\\\\\n",
    "\\beta^* &= [0 \\,\\,0]^T\n",
    "\\end{align}\n",
    "$$"
   ]
  }
 ],
 "metadata": {
  "kernelspec": {
   "display_name": "Python 3",
   "language": "python",
   "name": "python3"
  },
  "language_info": {
   "codemirror_mode": {
    "name": "ipython",
    "version": 3
   },
   "file_extension": ".py",
   "mimetype": "text/x-python",
   "name": "python",
   "nbconvert_exporter": "python",
   "pygments_lexer": "ipython3",
   "version": "3.8.5"
  }
 },
 "nbformat": 4,
 "nbformat_minor": 4
}
