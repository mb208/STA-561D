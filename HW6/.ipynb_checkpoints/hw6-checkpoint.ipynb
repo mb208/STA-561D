{
 "cells": [
  {
   "cell_type": "markdown",
   "metadata": {
    "collapsed": true
   },
   "source": [
    "### 1."
   ]
  },
  {
   "cell_type": "markdown",
   "metadata": {},
   "source": [
    "The misclassification rate can be defined as the probability that an observation is not assigned to its true class, or $P(Y \\neq c(X))$.\n",
    "\n",
    "\n",
    "\\begin{aligned}\n",
    "P(Y \\neq c(X)) \n",
    "&= \\mathbb{E} P(Y \\neq c(X) \\mid X) \\\\\n",
    "&= \\mathbb{E} \\left\\{ \\mathbb{1}_{c(X) = 1} P(Y = -1 \\mid X) + \\mathbb{1}_{c(X) = -1} P(Y = 1 \\mid X) \\right\\} \\\\\n",
    "&= \\mathbb{E} \\left\\{ \\mathbb{1}_{c(X) = 1} (1 - q(X)) + \\mathbb{1}_{c(X) = -1} q(X) \\right\\} \\\\\n",
    "\\end{aligned}\n",
    "\n",
    "By the definition of the Bayes Classifier, we know\n",
    "\n",
    "$$\\mathbb{1}_{c(X) = 1} = \\mathbb{1}_{q(X) \\ge 0.5}$$ \n",
    "\n",
    "and \n",
    "\n",
    "$$\\mathbb{1}_{c(X) = -1} = \\mathbb{1}_{c(X) \\lt 0.5}$$\n",
    "\n",
    "so we can rewrite the above expression as:\n",
    "\n",
    "$$ \\mathbb{E} \\left\\{ \\mathbb{1}_{q(X) \\ge 0.5} (1 - q(X)) + \\mathbb{1}_{q(X) \\lt 0.5} q(X) \\right\\} $$\n",
    "\n",
    "We observe the inside of the expectation to be equivalent to $\\text{min}\\{ q(X), 1 - q(X) \\}$, so...\n",
    "\n",
    "$$ P(Y \\neq c(X)) = \\mathbb{E} \\; \\text{min}\\{ q(X), 1 - q(X) \\} $$"
   ]
  },
  {
   "cell_type": "code",
   "execution_count": null,
   "metadata": {},
   "outputs": [],
   "source": []
  }
 ],
 "metadata": {
  "kernelspec": {
   "display_name": "Python 3",
   "language": "python",
   "name": "python3"
  },
  "language_info": {
   "codemirror_mode": {
    "name": "ipython",
    "version": 3
   },
   "file_extension": ".py",
   "mimetype": "text/x-python",
   "name": "python",
   "nbconvert_exporter": "python",
   "pygments_lexer": "ipython3",
   "version": "3.8.5"
  }
 },
 "nbformat": 4,
 "nbformat_minor": 1
}
