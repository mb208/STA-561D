{
 "cells": [
  {
   "cell_type": "markdown",
   "metadata": {
    "collapsed": true
   },
   "source": [
    "### 1."
   ]
  },
  {
   "cell_type": "markdown",
   "metadata": {},
   "source": [
    "The misclassification rate can be defined as the probability that an observation is not assigned to its true class, or $P(Y \\neq c(X))$.\n",
    "\n",
    "\n",
    "\\begin{aligned}\n",
    "P(Y \\neq c(X)) \n",
    "&= \\mathbb{E} P(Y \\neq c(X) \\mid X) \\\\\n",
    "&= \\mathbb{E} \\left\\{ \\mathbb{1}_{c(X) = 1} P(Y = -1 \\mid X) + \\mathbb{1}_{c(X) = -1} P(Y = 1 \\mid X) \\right\\} \\\\\n",
    "&= \\mathbb{E} \\left\\{ \\mathbb{1}_{c(X) = 1} (1 - q(X)) + \\mathbb{1}_{c(X) = -1} q(X) \\right\\} \\\\\n",
    "\\end{aligned}\n",
    "\n",
    "By the definition of the Bayes Classifier, we know\n",
    "\n",
    "$$\\mathbb{1}_{c(X) = 1} = \\mathbb{1}_{q(X) \\ge 0.5}$$ \n",
    "\n",
    "and \n",
    "\n",
    "$$\\mathbb{1}_{c(X) = -1} = \\mathbb{1}_{q(X) \\lt 0.5}$$\n",
    "\n",
    "so we can rewrite the above expression as:\n",
    "\n",
    "$$ \\mathbb{E} \\left\\{ \\mathbb{1}_{q(X) \\ge 0.5} (1 - q(X)) + \\mathbb{1}_{q(X) \\lt 0.5} q(X) \\right\\} $$\n",
    "\n",
    "We observe the inside of the expectation to be equivalent to $\\text{min}\\{ q(X), 1 - q(X) \\}$, so...\n",
    "\n",
    "$$ P(Y \\neq c(X)) = \\mathbb{E} \\; \\text{min}\\{ q(X), 1 - q(X) \\} $$"
   ]
  },
  {
   "cell_type": "markdown",
   "metadata": {
    "collapsed": true
   },
   "source": [
    "### 2."
   ]
  },
  {
   "cell_type": "markdown",
   "metadata": {},
   "source": [
    "### a.)"
   ]
  },
  {
   "cell_type": "markdown",
   "metadata": {},
   "source": [
    "### Solving for $\\beta_0$"
   ]
  },
  {
   "cell_type": "markdown",
   "metadata": {},
   "source": [
    "$$\n",
    "\\begin{align}\n",
    "\\hat\\beta_n &= \\underset{\\beta}{argmin}\\mathbb{P}_n(Y-\\beta_0-\\beta_1X)^2\\\\\n",
    "\\text{Derivative w.r.t }\\beta_0\\rightarrow &= -2\\mathbb{P}_n(Y-\\beta_0-\\beta_1X)\\\\\n",
    "0&=\\mathbb{P}_n(Y)-\\beta_0-\\mathbb{P}_n(\\beta_1X)\\\\\n",
    "\\beta_0^*&=\\mathbb{P}_n(Y-\\beta_1X)\n",
    "\\end{align}\n",
    "$$"
   ]
  },
  {
   "cell_type": "markdown",
   "metadata": {},
   "source": [
    "### Solving for $\\beta_1$"
   ]
  },
  {
   "cell_type": "markdown",
   "metadata": {},
   "source": [
    "$$\n",
    "\\begin{align}\n",
    "\\hat\\beta_n &= \\underset{\\beta}{argmin}\\mathbb{P}_n(Y-\\beta_0-\\beta_1X)^2\\\\\n",
    "\\text{Derivative w.r.t }\\beta_1\\rightarrow &= -2\\mathbb{P}_nX(Y-\\beta_0-\\beta_1X)\\\\\n",
    "0 &= \\mathbb{P}_n(XY)-\\beta_0\\mathbb{P}_n(X)-\\mathbb{P}_n(X\\beta_1X)\\\\\n",
    "\\text{Substitute in } \\beta_0^*\\\\\n",
    "0&=\\mathbb{P}_n(XY)-\\mathbb{P}_n(Y-\\beta_1X)\\mathbb{P}_n(X)-\\mathbb{P}_n(X\\beta_1X)\\\\\n",
    "0&=\\mathbb{P}_n(XY)-\\mathbb{P}_n(Y)\\mathbb{P}_n(X)-\\mathbb{P}_n(X)\\beta_1\\mathbb{P}_n(X)-\\mathbb{P}_n(X\\beta_1X)\\\\\n",
    "0&=\\mathbb{P}_n(XY)-\\mathbb{P}_n(Y)\\mathbb{P}_n(X)-\\beta_1\\mathbb{P}_n(X)^2-\\beta_1\\mathbb{P}_n(XX)\\\\\n",
    "\\beta_1(\\mathbb{P}_n(X)^2+\\mathbb{P}_n(XX))&=\\mathbb{P}_n(XY)-\\mathbb{P}_n(Y)\\mathbb{P}_n(X)\\\\\n",
    "\\beta_1^*&=(\\mathbb{P}_n(X)^2+\\mathbb{P}_n(XX))^{-1}[\\mathbb{P}_n(XY)-\\mathbb{P}_n(Y)\\mathbb{P}_n(X)]\\\\\n",
    "\\end{align}\n",
    "$$"
   ]
  },
  {
   "cell_type": "markdown",
   "metadata": {},
   "source": [
    "### Solving for $\\beta^*$"
   ]
  },
  {
   "cell_type": "markdown",
   "metadata": {},
   "source": [
    "Based on the distributions of X and Y defined in the problem\n",
    "$$\n",
    "\\begin{align}\n",
    "&\\mathbb{P}_n(Y) = 0\\\\\n",
    "&\\mathbb{P}_n(XY) = 0\\\\\n",
    "&\\text{Thus}\\\\\n",
    "\\beta_1^*&=(\\mathbb{P}_n(X)^2+\\mathbb{P}_n(XX))^{-1}[\\mathbb{P}_n(XY)-\\mathbb{P}_n(Y)\\mathbb{P}_n(X)]\\\\\n",
    "\\beta_1^*&=(\\mathbb{P}_n(X)^2+\\mathbb{P}_n(XX))^{-1}[0-0]\\\\\n",
    "\\beta_1^*&=0\\\\\n",
    "\\beta_0^*&=\\mathbb{P}_n(Y-\\beta_1^*X)\\\\\n",
    "\\beta_0^*&=\\mathbb{P}_n(Y)-\\mathbb{P}_n(0X)\\\\\n",
    "\\beta_0^*&= 0\\\\\n",
    "\\beta^* &= [0 \\,\\,0]^T\n",
    "\\end{align}\n",
    "$$"
   ]
  },
  {
   "cell_type": "markdown",
   "metadata": {},
   "source": [
    "#### b.)"
   ]
  },
  {
   "cell_type": "markdown",
   "metadata": {},
   "source": [
    "$$\n",
    "\\begin{align}\n",
    "\\sqrt{n}(\\hat{\\beta}_{n} - \\beta^{*}) &= (P_n XX^{T})^{-1}P_n XY -  \\beta^{*} \\\\\n",
    "&= \\sqrt{n}(P_nXX^{T})^{-1}P_nX\\left\\{Y - X^{T}\\beta^{*}\\right\\} \\\\\n",
    "&= \\sqrt{n}(P_nXX^{T})^{-1}(P_n - P)X\\left\\{Y -  X^{T}\\beta^{*}\\right\\} \\\\\n",
    "&= \\sqrt{n}(P_nXX^{T})^{-1}(P_n - P)XY  && \\text{ since } \\beta^{*} = \\textbf{0} \\\\\n",
    "&\\to  \\text{N}(\\textbf{0}, (P_nXX^{T})^{-1}XX^TY^2(P_nXX^{T})^{-1}) && \\text{ By CLT } \n",
    "\\end{align}\n",
    "$$\n",
    "\n",
    "   \n",
    "\n",
    "$PXX^T = P \\begin{bmatrix} 1 \\\\ X \\end{bmatrix}\\begin{bmatrix} 1 & X \\end{bmatrix} =  \\begin{bmatrix}1 & PX \\\\ PX & PX^2\\end{bmatrix}=  \\begin{bmatrix}1 & 0 \\\\ 0 & \\frac{1}{2}\\end{bmatrix}$\n",
    "\n",
    "$(PXX^T)^{-1} = \\begin{bmatrix}1 & 0 \\\\ 0 & 2\\end{bmatrix}$\n",
    "\n",
    "As Y is the sign of an expression, Y = {-1,1}. $Y^2 = 1$ always, and $PXX^T Y = PXX^T$\n",
    "$PXX^TY^2 =PXX^T$.\n",
    "\n",
    "\n",
    "So, $(P_nXX^{T})^{-1}XX^TY^2(P_nXX^{T})^{-1}) = (P_nXX^{T})^{-1} =  \\begin{bmatrix}1 & 0 \\\\ 0 & 2\\end{bmatrix}$\n",
    "\n",
    "Therefore, $\\sqrt{n}(\\hat{\\beta}_{n} - \\beta^{*}) \\sim  \\text{N}\\left(\\begin{bmatrix} 0 \\\\ 0 \\end{bmatrix}, \\Sigma = \\begin{bmatrix}1 & 0 \\\\ 0 & 2\\end{bmatrix}\\right)$"
   ]
  },
  {
   "cell_type": "markdown",
   "metadata": {},
   "source": [
    "#### c.)"
   ]
  },
  {
   "cell_type": "code",
   "execution_count": null,
   "metadata": {},
   "outputs": [],
   "source": []
  },
  {
   "cell_type": "markdown",
   "metadata": {},
   "source": [
    "#### b.)"
   ]
  }
 ],
 "metadata": {
  "kernelspec": {
   "display_name": "Python 3",
   "language": "python",
   "name": "python3"
  },
  "language_info": {
   "codemirror_mode": {
    "name": "ipython",
    "version": 3
   },
   "file_extension": ".py",
   "mimetype": "text/x-python",
   "name": "python",
   "nbconvert_exporter": "python",
   "pygments_lexer": "ipython3",
   "version": "3.8.3"
  }
 },
 "nbformat": 4,
 "nbformat_minor": 1
}
