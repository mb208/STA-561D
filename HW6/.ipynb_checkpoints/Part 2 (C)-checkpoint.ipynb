{
 "cells": [
  {
   "cell_type": "code",
   "execution_count": 1,
   "metadata": {},
   "outputs": [],
   "source": [
    "import numpy as np\n",
    "import statistics as sts\n",
    "import seaborn as sns\n",
    "import matplotlib.pyplot as plt"
   ]
  },
  {
   "cell_type": "code",
   "execution_count": 2,
   "metadata": {},
   "outputs": [],
   "source": [
    "def testerror(n,y,x,b0,b1):\n",
    "    sum_e = 0\n",
    "    for i in range(n):\n",
    "        if(y[i]*(b0+b1*x[i])<0):\n",
    "            sum_e = sum_e+1\n",
    "    return(sum_e/n)"
   ]
  },
  {
   "cell_type": "code",
   "execution_count": 3,
   "metadata": {},
   "outputs": [],
   "source": [
    "reps = 1000\n",
    "errors = np.zeros(reps)\n",
    "for j in range(reps):\n",
    "    n = 100\n",
    "    x = np.random.choice([1.0,-1.0,0.0], p=[0.25, 0.25, 0.5],size = n)\n",
    "    y = np.sign(abs(x)-.5)\n",
    "    β1 = (sts.mean(x)**2+sts.mean(x**2))**(-1)*(sts.mean(x*y)-sts.mean(y)*sts.mean(x))\n",
    "    β0 = (sts.mean(y) - β1*sts.mean(x))\n",
    "    errors[j] = testerror(n,y,x,β0,β1)\n"
   ]
  },
  {
   "cell_type": "code",
   "execution_count": 4,
   "metadata": {},
   "outputs": [
    {
     "data": {
      "text/plain": [
       "Text(0.5, 1.0, 'N = 100')"
      ]
     },
     "execution_count": 4,
     "metadata": {},
     "output_type": "execute_result"
    },
    {
     "data": {
      "image/png": "[encoded data removed]",
      "text/plain": [
       "<Figure size 432x288 with 1 Axes>"
      ]
     },
     "metadata": {
      "needs_background": "light"
     },
     "output_type": "display_data"
    }
   ],
   "source": [
    "sns.histplot(errors,binwidth = .01,bins = 11)\n",
    "plt.title(\"N = 100\")"
   ]
  },
  {
   "cell_type": "code",
   "execution_count": 5,
   "metadata": {},
   "outputs": [],
   "source": [
    "reps = 1000\n",
    "errors = np.zeros(reps)\n",
    "for j in range(reps):\n",
    "    n = 1000\n",
    "    x = np.random.choice([1.0,-1.0,0.0], p=[0.25, 0.25, 0.5],size = n)\n",
    "    y = np.sign(abs(x)-.5)\n",
    "    β1 = (sts.mean(x)**2+sts.mean(x**2))**(-1)*(sts.mean(x*y)-sts.mean(y)*sts.mean(x))\n",
    "    β0 = (sts.mean(y) - β1*sts.mean(x))\n",
    "    errors[j] = testerror(n,y,x,β0,β1)\n"
   ]
  },
  {
   "cell_type": "code",
   "execution_count": 6,
   "metadata": {},
   "outputs": [
    {
     "data": {
      "text/plain": [
       "Text(0.5, 1.0, 'N = 1000')"
      ]
     },
     "execution_count": 6,
     "metadata": {},
     "output_type": "execute_result"
    },
    {
     "data": {
      "image/png": "[encoded data removed]",
      "text/plain": [
       "<Figure size 432x288 with 1 Axes>"
      ]
     },
     "metadata": {
      "needs_background": "light"
     },
     "output_type": "display_data"
    }
   ],
   "source": [
    "sns.histplot(errors,binwidth = .01,bins = 11)\n",
    "plt.title(\"N = 1000\")"
   ]
  },
  {
   "cell_type": "code",
   "execution_count": 7,
   "metadata": {},
   "outputs": [],
   "source": [
    "reps = 1000\n",
    "errors = np.zeros(reps)\n",
    "for j in range(reps):\n",
    "    n = 10000\n",
    "    x = np.random.choice([1.0,-1.0,0.0], p=[0.25, 0.25, 0.5],size = n)\n",
    "    y = np.sign(abs(x)-.5)\n",
    "    β1 = (sts.mean(x)**2+sts.mean(x**2))**(-1)*(sts.mean(x*y)-sts.mean(y)*sts.mean(x))\n",
    "    β0 = (sts.mean(y) - β1*sts.mean(x))\n",
    "    errors[j] = testerror(n,y,x,β0,β1)\n"
   ]
  },
  {
   "cell_type": "code",
   "execution_count": 8,
   "metadata": {
    "scrolled": true
   },
   "outputs": [
    {
     "data": {
      "text/plain": [
       "Text(0.5, 1.0, 'N = 10000')"
      ]
     },
     "execution_count": 8,
     "metadata": {},
     "output_type": "execute_result"
    },
    {
     "data": {
      "image/png": "[encoded data removed]",
      "text/plain": [
       "<Figure size 432x288 with 1 Axes>"
      ]
     },
     "metadata": {
      "needs_background": "light"
     },
     "output_type": "display_data"
    }
   ],
   "source": [
    "sns.histplot(errors,binwidth = .01,bins = 11)\n",
    "plt.title(\"N = 10000\")"
   ]
  },
  {
   "cell_type": "markdown",
   "metadata": {},
   "source": [
    "As shown by the above plot as n grows the test error concentrates around the three values of .25,.5 and .75 as shown above."
   ]
  }
 ],
 "metadata": {
  "kernelspec": {
   "display_name": "Python 3",
   "language": "python",
   "name": "python3"
  },
  "language_info": {
   "codemirror_mode": {
    "name": "ipython",
    "version": 3
   },
   "file_extension": ".py",
   "mimetype": "text/x-python",
   "name": "python",
   "nbconvert_exporter": "python",
   "pygments_lexer": "ipython3",
   "version": "3.8.5"
  }
 },
 "nbformat": 4,
 "nbformat_minor": 4
}
