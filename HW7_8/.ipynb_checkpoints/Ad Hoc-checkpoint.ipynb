{
 "cells": [
  {
   "cell_type": "code",
   "execution_count": 2,
   "metadata": {},
   "outputs": [],
   "source": [
    "import numpy as np\n",
    "import scipy.spatial as sp"
   ]
  },
  {
   "cell_type": "code",
   "execution_count": 46,
   "metadata": {},
   "outputs": [],
   "source": [
    "n = 20\n",
    "p = 10\n",
    "ys = np.zeros(p)\n",
    "for i in range(p):\n",
    "    ys[i] = np.random.uniform()"
   ]
  },
  {
   "cell_type": "code",
   "execution_count": 50,
   "metadata": {},
   "outputs": [
    {
     "name": "stdout",
     "output_type": "stream",
     "text": [
      "[0.93294731 0.7780188  0.72591989 0.57457274 0.44197989 0.74294774\n",
      " 0.8089317  0.27876209 0.43487102 0.87317892]\n",
      "[7 8 4 3 2 5 1 6 9 0]\n",
      "[0.27876209 0.43487102 0.44197989 0.57457274 0.72591989 0.74294774\n",
      " 0.7780188  0.8089317  0.87317892 0.93294731]\n"
     ]
    }
   ],
   "source": [
    "print(ys)\n",
    "ind = np.argsort(ys)\n",
    "print(ind)\n",
    "print(ys[ind])"
   ]
  },
  {
   "cell_type": "code",
   "execution_count": null,
   "metadata": {},
   "outputs": [],
   "source": []
  },
  {
   "cell_type": "code",
   "execution_count": 59,
   "metadata": {},
   "outputs": [],
   "source": [
    "def Vornoi_1d(y):\n",
    "    \"\"\"Takes a 1 demsional vector y and returns the 1d vornoi partitions\"\"\"\n",
    "    n = len(y)\n",
    "    #these indices will sort y\n",
    "    ind = np.argsort(y)\n",
    "    vornoi_parts = np.zeros(n-1)\n",
    "    for i in range(n-1):\n",
    "        vornoi_parts[i] = (y[ind[i]]+y[ind[i+1]])/2\n",
    "    return(vornoi_parts)"
   ]
  },
  {
   "cell_type": "code",
   "execution_count": null,
   "metadata": {},
   "outputs": [],
   "source": [
    "k = np.zeros(shape = (len(zs),len(x_sample)))\n",
    "for i in range(B):\n",
    "    #bootstrap data\n",
    "    #Randomly select X and columns\n",
    "    xs = boostrap_subset(X,M)\n",
    "    #Apply black box to get f_hats\n",
    "    fn_xs = mod.fit(xs)\n",
    "    fn_zs = mod.fit(zs)\n",
    "    #random sample Y\n",
    "    ys = np.random.choice(Y,L)\n",
    "    #Vornoi 1d \n",
    "    parts = Vornoi_1d(ys)\n",
    "    #count which x's are in the same parition for each z and x pair\n",
    "    for i in len(zs):\n",
    "        for j in len(xs):\n",
    "            part_z = np.searchsorted(a = parts, v = fn_zs[i])\n",
    "            part_x = np.searchsorted(a = parts, v = fn_xs[j])\n",
    "            if(part_z==part_x):\n",
    "                k[i,j] = k[i,j]+1\n",
    "#divide counts by B to get K\n",
    "k = k/B"
   ]
  },
  {
   "cell_type": "code",
   "execution_count": null,
   "metadata": {},
   "outputs": [],
   "source": []
  }
 ],
 "metadata": {
  "kernelspec": {
   "display_name": "Python 3",
   "language": "python",
   "name": "python3"
  },
  "language_info": {
   "codemirror_mode": {
    "name": "ipython",
    "version": 3
   },
   "file_extension": ".py",
   "mimetype": "text/x-python",
   "name": "python",
   "nbconvert_exporter": "python",
   "pygments_lexer": "ipython3",
   "version": "3.8.5"
  }
 },
 "nbformat": 4,
 "nbformat_minor": 4
}
