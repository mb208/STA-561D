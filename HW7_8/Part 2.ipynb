{
 "cells": [
  {
   "cell_type": "code",
   "execution_count": 16,
   "id": "warming-circumstances",
   "metadata": {},
   "outputs": [],
   "source": [
    "from scipy.spatial import ConvexHull, Delaunay\n",
    "from scipy.stats import dirichlet\n",
    "\n",
    "import pandas as pd\n",
    "import numpy as np\n",
    "from numpy.linalg import det\n",
    "\n",
    "\n",
    "\n",
    "\n",
    "from sklearn.datasets import load_diabetes\n",
    "from sklearn.ensemble import RandomForestRegressor"
   ]
  },
  {
   "cell_type": "code",
   "execution_count": 20,
   "id": "regulation-basement",
   "metadata": {},
   "outputs": [],
   "source": [
    "diabetes = load_diabetes()"
   ]
  },
  {
   "cell_type": "code",
   "execution_count": 21,
   "id": "coated-pepper",
   "metadata": {},
   "outputs": [],
   "source": [
    "X = diabetes[\"data\"]\n",
    "y = diabetes[\"target\"]"
   ]
  },
  {
   "cell_type": "code",
   "execution_count": 196,
   "id": "banned-curtis",
   "metadata": {},
   "outputs": [],
   "source": [
    "X_train = X[:380]\n",
    "y_train = y[:380]\n",
    "X_test  = X[380:]\n",
    "y_test  = y[380:]"
   ]
  },
  {
   "cell_type": "code",
   "execution_count": 3,
   "id": "english-bankruptcy",
   "metadata": {},
   "outputs": [],
   "source": [
    "def get_ConvexHull(X):\n",
    "    \"\"\"Returns points that form convex hull of X\"\"\"\n",
    "    \n",
    "    hull = ConvexHull(X)\n",
    "    \n",
    "    return X[hull.vertices, :]\n",
    "    "
   ]
  },
  {
   "cell_type": "code",
   "execution_count": 15,
   "id": "instant-heather",
   "metadata": {},
   "outputs": [],
   "source": [
    "def sampleConvexHull(X):\n",
    "    \"\"\"Returns sample from convex hull by taking convex combination points X\n",
    "    Input:\n",
    "        X ~ vertices of convex hull (hypothetically)\n",
    "        \n",
    "    Ouput:\n",
    "        x_hat : convex combination of uniformly sampled weights\n",
    "    \n",
    "    \"\"\"\n",
    "    \n",
    "    d = X.shape[0]\n",
    "    wghts = np.random.rand(d)\n",
    "    wghts /= wghts.sum()\n",
    "    \n",
    "    return wghts.dot(X)"
   ]
  },
  {
   "cell_type": "code",
   "execution_count": 154,
   "id": "generous-spiritual",
   "metadata": {},
   "outputs": [],
   "source": [
    "def kernelRFdist(X, xstar, rf):\n",
    "    \"\"\"For new data point get kernel distance with each training data point from a random forrest\"\"\"\n",
    "    \n",
    "    n = X.shape[0]\n",
    "    kernel_rf = np.zeros(n)\n",
    "    for tree in rf.estimators_:\n",
    "        \n",
    "        leaves_tr = tree.apply(X)\n",
    "        leaf_str = tree.apply(xstar.reshape(1, -1))\n",
    "        kernel = 1*(leaf_str == leaves_tr[None,:])\n",
    "        kernel_rf = kernel_rf + kernel\n",
    "        \n",
    "    return kernel_rf/rf.n_estimators"
   ]
  },
  {
   "cell_type": "code",
   "execution_count": 166,
   "id": "continued-turner",
   "metadata": {},
   "outputs": [],
   "source": [
    "def boostrap_subset(X, M, size=1000):\n",
    "    \"\"\"Returns boostrap of X with subset of columns of size M\"\"\"\n",
    "    n, p = X.shape\n",
    "    b_ids = np.random.choice(np.arange(n), size=size)\n",
    "    \n",
    "    p_ids = np.random.choice(np.arange(p), size=M, replace=False)\n",
    "    \n",
    "    return X[b_ids, p_ids]"
   ]
  },
  {
   "cell_type": "code",
   "execution_count": 200,
   "id": "northern-amplifier",
   "metadata": {},
   "outputs": [],
   "source": [
    "def local_linear(X,y, xstar, kern):\n",
    "    \"\"\"Fits local linear model with kernl\"\"\"\n",
    "    \n",
    "    n,p = X.shape\n",
    "    beta = np.zeros(p)\n",
    "    gamma_n = np.zeros((p,p))\n",
    "    sigma_n = np.zeros(p)\n",
    "    for i in range(n):\n",
    "        gamma_n = gamma_n + (X[i,:][:,None] @ X[i,:][None,:] )* kern[i]\n",
    "        sigma_n = sigma_n +  X[i, :]*y[i] * kern[i]\n",
    "    \n",
    "    beta = np.linalg.inv(gamma_n) @ sigma_n\n",
    "    \n",
    "    return xstar.dot(beta)"
   ]
  },
  {
   "cell_type": "code",
   "execution_count": 201,
   "id": "conceptual-assist",
   "metadata": {},
   "outputs": [],
   "source": [
    "rf = RandomForestRegressor()"
   ]
  },
  {
   "cell_type": "code",
   "execution_count": 202,
   "id": "pediatric-organic",
   "metadata": {},
   "outputs": [
    {
     "data": {
      "text/plain": [
       "RandomForestRegressor()"
      ]
     },
     "execution_count": 202,
     "metadata": {},
     "output_type": "execute_result"
    }
   ],
   "source": [
    "rf.fit(X_train, y_train)"
   ]
  },
  {
   "cell_type": "code",
   "execution_count": 203,
   "id": "pacific-synthetic",
   "metadata": {},
   "outputs": [],
   "source": [
    "kr = kernelRFdist(X_train, X_test[0,:], rf)"
   ]
  },
  {
   "cell_type": "code",
   "execution_count": 204,
   "id": "controlling-richardson",
   "metadata": {},
   "outputs": [
    {
     "data": {
      "text/plain": [
       "144.4253008299617"
      ]
     },
     "execution_count": 204,
     "metadata": {},
     "output_type": "execute_result"
    }
   ],
   "source": [
    "local_linear(X_train, y_train, X_test[0,:], kern=kr.ravel())"
   ]
  },
  {
   "cell_type": "code",
   "execution_count": 205,
   "id": "intelligent-attendance",
   "metadata": {},
   "outputs": [
    {
     "data": {
      "text/plain": [
       "52.0"
      ]
     },
     "execution_count": 205,
     "metadata": {},
     "output_type": "execute_result"
    }
   ],
   "source": [
    "y_test[0]"
   ]
  },
  {
   "cell_type": "code",
   "execution_count": 121,
   "id": "administrative-blame",
   "metadata": {},
   "outputs": [
    {
     "data": {
      "text/plain": [
       "(1, 10)"
      ]
     },
     "execution_count": 121,
     "metadata": {},
     "output_type": "execute_result"
    }
   ],
   "source": [
    "X_test[0,:].reshape(1, -1).shape"
   ]
  },
  {
   "cell_type": "code",
   "execution_count": 122,
   "id": "given-sunset",
   "metadata": {},
   "outputs": [
    {
     "data": {
      "text/plain": [
       "(380, 10)"
      ]
     },
     "execution_count": 122,
     "metadata": {},
     "output_type": "execute_result"
    }
   ],
   "source": [
    "X_train.shape"
   ]
  },
  {
   "cell_type": "code",
   "execution_count": 133,
   "id": "provincial-locator",
   "metadata": {},
   "outputs": [
    {
     "data": {
      "text/plain": [
       "(380,)"
      ]
     },
     "execution_count": 133,
     "metadata": {},
     "output_type": "execute_result"
    }
   ],
   "source": [
    "rf.estimators_[0].apply(X_train).shape"
   ]
  },
  {
   "cell_type": "code",
   "execution_count": 159,
   "id": "infectious-fitting",
   "metadata": {},
   "outputs": [
    {
     "ename": "ValueError",
     "evalue": "a must be 1-dimensional",
     "output_type": "error",
     "traceback": [
      "\u001b[0;31m---------------------------------------------------------------------------\u001b[0m",
      "\u001b[0;31mValueError\u001b[0m                                Traceback (most recent call last)",
      "\u001b[0;32m<ipython-input-159-60c47e5fa34f>\u001b[0m in \u001b[0;36m<module>\u001b[0;34m\u001b[0m\n\u001b[0;32m----> 1\u001b[0;31m \u001b[0mnp\u001b[0m\u001b[0;34m.\u001b[0m\u001b[0mrandom\u001b[0m\u001b[0;34m.\u001b[0m\u001b[0mchoice\u001b[0m\u001b[0;34m(\u001b[0m\u001b[0mX_test\u001b[0m\u001b[0;34m,\u001b[0m \u001b[0;36m200\u001b[0m\u001b[0;34m)\u001b[0m\u001b[0;34m\u001b[0m\u001b[0;34m\u001b[0m\u001b[0m\n\u001b[0m",
      "\u001b[0;32mmtrand.pyx\u001b[0m in \u001b[0;36mnumpy.random.mtrand.RandomState.choice\u001b[0;34m()\u001b[0m\n",
      "\u001b[0;31mValueError\u001b[0m: a must be 1-dimensional"
     ]
    }
   ],
   "source": [
    "np.random.choice(X_test, 200)"
   ]
  },
  {
   "cell_type": "code",
   "execution_count": null,
   "id": "fourth-promotion",
   "metadata": {},
   "outputs": [],
   "source": [
    "X_"
   ]
  },
  {
   "cell_type": "code",
   "execution_count": 161,
   "id": "documented-mouth",
   "metadata": {},
   "outputs": [],
   "source": [
    "bids = np.random.choice(np.arange(380), size=1000)"
   ]
  },
  {
   "cell_type": "code",
   "execution_count": 163,
   "id": "unnecessary-archive",
   "metadata": {},
   "outputs": [
    {
     "data": {
      "text/plain": [
       "(1000, 10)"
      ]
     },
     "execution_count": 163,
     "metadata": {},
     "output_type": "execute_result"
    }
   ],
   "source": [
    "X_train[bids, :].shape"
   ]
  },
  {
   "cell_type": "code",
   "execution_count": null,
   "id": "associate-context",
   "metadata": {},
   "outputs": [],
   "source": []
  }
 ],
 "metadata": {
  "kernelspec": {
   "display_name": "Python 3",
   "language": "python",
   "name": "python3"
  },
  "language_info": {
   "codemirror_mode": {
    "name": "ipython",
    "version": 3
   },
   "file_extension": ".py",
   "mimetype": "text/x-python",
   "name": "python",
   "nbconvert_exporter": "python",
   "pygments_lexer": "ipython3",
   "version": "3.8.5"
  }
 },
 "nbformat": 4,
 "nbformat_minor": 5
}
