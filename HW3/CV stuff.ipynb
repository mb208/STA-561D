{
 "cells": [
  {
   "cell_type": "code",
   "execution_count": 25,
   "metadata": {},
   "outputs": [],
   "source": [
    "from sklearn.model_selection import GridSearchCV\n",
    "from sklearn.model_selection import cross_val_score\n",
    "import statistics as stat"
   ]
  },
  {
   "cell_type": "code",
   "execution_count": null,
   "metadata": {},
   "outputs": [],
   "source": [
    "def HW3 (learning_alg,\n",
    "         X.train,\n",
    "         Y.train,\n",
    "         regular_method,\n",
    "         M,\n",
    "         c,\n",
    "         K,\n",
    "         Error_Type):\n",
    "    \n",
    "    if Error_Type == 'MSE':\n",
    "        score_type = 'neg_mean_squared_error'\n",
    "    else:\n",
    "        score_type = 'neg_mean_absolute_error'\n",
    "    \n",
    "    \n",
    "    params_drop = [.1,.2,.3,.4,.5]\n",
    "    \n",
    "    best_Phi = params_drop[0]\n",
    "    best_error = stat.mean(cross_val_score(learning_alg,X,Y,cv = K,scoring = score_type))\n",
    "    \n",
    "    for i in params_drop:\n",
    "        new_X = dropout()\n",
    "        error = stat.mean(cross_val_score(learning_alg,new_X,Y,cv = K,scoring = score_type))\n",
    "    \n",
    "    \n",
    "    if robust:\n",
    "        param_robust = [function(Mat,)\n",
    "        for δ in param_robust:\n",
    "            new_X = X+δ\n",
    "            \n",
    "    cross_val_score(learning_alg,X,Y,cv = K,scoring = score_type)\n",
    "    cross_val_score(learning_alg,X,Y,cv = K,scoring = score_type)"
   ]
  },
  {
   "cell_type": "code",
   "execution_count": 27,
   "metadata": {},
   "outputs": [
    {
     "data": {
      "text/plain": [
       "2"
      ]
     },
     "execution_count": 27,
     "metadata": {},
     "output_type": "execute_result"
    }
   ],
   "source": [
    "statistics.mean([1,2,3])"
   ]
  }
 ],
 "metadata": {
  "kernelspec": {
   "display_name": "Python 3",
   "language": "python",
   "name": "python3"
  },
  "language_info": {
   "codemirror_mode": {
    "name": "ipython",
    "version": 3
   },
   "file_extension": ".py",
   "mimetype": "text/x-python",
   "name": "python",
   "nbconvert_exporter": "python",
   "pygments_lexer": "ipython3",
   "version": "3.8.5"
  }
 },
 "nbformat": 4,
 "nbformat_minor": 4
}
