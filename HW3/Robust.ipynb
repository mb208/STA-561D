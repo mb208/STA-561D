{
 "cells": [
  {
   "cell_type": "code",
   "execution_count": 1,
   "id": "civic-bahamas",
   "metadata": {},
   "outputs": [],
   "source": [
    "import numpy as np\n",
    "import statsmodels.api as sm\n",
    "from sklearn.model_selection import cross_val_score, cross_validate\n"
   ]
  },
  {
   "cell_type": "code",
   "execution_count": 2,
   "id": "assigned-pearl",
   "metadata": {},
   "outputs": [],
   "source": [
    "def gen_delta_grid(X, c, n):\n",
    "    \"\"\" Returns list of n random matrices such the the l2 norm of the jth colum is equal to c[j]\n",
    "    \"\"\"\n",
    "    dim = X.shape\n",
    "    matrix_grid = []\n",
    "    for _ in range(n):\n",
    "        # generate random nxp matrix\n",
    "        rand_mat = np.random.randn(*dim)\n",
    "        # append list with matrix with normalized columns = cj \n",
    "        matrix_grid.append((rand_mat / np.sqrt(np.square(rand_mat).sum(axis=0))[None, :])*c[None, :])\n",
    "    return matrix_grid"
   ]
  },
  {
   "cell_type": "markdown",
   "id": "finished-circus",
   "metadata": {},
   "source": [
    "Testing delta grid function"
   ]
  },
  {
   "cell_type": "code",
   "execution_count": 3,
   "id": "occasional-international",
   "metadata": {},
   "outputs": [],
   "source": [
    "X = np.random.rand(10,5)"
   ]
  },
  {
   "cell_type": "code",
   "execution_count": 4,
   "id": "developed-butterfly",
   "metadata": {},
   "outputs": [],
   "source": [
    "c=np.random.randint(1, 20, size=5)"
   ]
  },
  {
   "cell_type": "code",
   "execution_count": 5,
   "id": "genuine-residence",
   "metadata": {},
   "outputs": [],
   "source": [
    "vals  =  gen_delta_grid(X, c=c, n=15)"
   ]
  },
  {
   "cell_type": "code",
   "execution_count": 6,
   "id": "banner-estimate",
   "metadata": {},
   "outputs": [
    {
     "data": {
      "text/plain": [
       "15"
      ]
     },
     "execution_count": 6,
     "metadata": {},
     "output_type": "execute_result"
    }
   ],
   "source": [
    "len(vals)"
   ]
  },
  {
   "cell_type": "code",
   "execution_count": 7,
   "id": "parliamentary-addition",
   "metadata": {},
   "outputs": [
    {
     "data": {
      "text/plain": [
       "array([11,  5,  9, 11,  9])"
      ]
     },
     "execution_count": 7,
     "metadata": {},
     "output_type": "execute_result"
    }
   ],
   "source": [
    "c"
   ]
  },
  {
   "cell_type": "code",
   "execution_count": 8,
   "id": "metallic-cutting",
   "metadata": {},
   "outputs": [
    {
     "name": "stdout",
     "output_type": "stream",
     "text": [
      "[11.  5.  9. 11.  9.]\n",
      "[11.  5.  9. 11.  9.]\n",
      "[11.  5.  9. 11.  9.]\n",
      "[11.  5.  9. 11.  9.]\n",
      "[11.  5.  9. 11.  9.]\n",
      "[11.  5.  9. 11.  9.]\n",
      "[11.  5.  9. 11.  9.]\n",
      "[11.  5.  9. 11.  9.]\n",
      "[11.  5.  9. 11.  9.]\n",
      "[11.  5.  9. 11.  9.]\n",
      "[11.  5.  9. 11.  9.]\n",
      "[11.  5.  9. 11.  9.]\n",
      "[11.  5.  9. 11.  9.]\n",
      "[11.  5.  9. 11.  9.]\n",
      "[11.  5.  9. 11.  9.]\n"
     ]
    }
   ],
   "source": [
    "for i in vals:\n",
    "    print(np.sqrt(np.square(i).sum(axis=0)))"
   ]
  },
  {
   "cell_type": "code",
   "execution_count": null,
   "id": "final-prediction",
   "metadata": {},
   "outputs": [],
   "source": []
  },
  {
   "cell_type": "markdown",
   "id": "sustained-guatemala",
   "metadata": {},
   "source": [
    "### Alternative robustness\n",
    "\n",
    "In case we need to implement alternative where c a vector of bounds we optimize over\n",
    "\n",
    "Thought process: \n",
    " - each c is the same bound for all the column l2 norms (this is the case when robust equals lasso)\n",
    " - In this case the original \"delta\" matrix can vary since we are optimizing over c, so we generate it once before cross validation."
   ]
  },
  {
   "cell_type": "code",
   "execution_count": 9,
   "id": "intimate-affiliate",
   "metadata": {},
   "outputs": [],
   "source": [
    "def robust(X, c, mat):\n",
    "    \"Returns matrix such that \"\n",
    "    delta = (mat / np.sqrt(np.square(mat).sum(axis=0))[None, :])*c\n",
    "    return delta + X"
   ]
  },
  {
   "cell_type": "code",
   "execution_count": 10,
   "id": "skilled-mounting",
   "metadata": {},
   "outputs": [],
   "source": [
    "X = np.random.rand(10,5)"
   ]
  },
  {
   "cell_type": "code",
   "execution_count": 11,
   "id": "important-elephant",
   "metadata": {},
   "outputs": [],
   "source": [
    "mat =  np.random.rand(10,5)"
   ]
  },
  {
   "cell_type": "code",
   "execution_count": 12,
   "id": "transparent-matrix",
   "metadata": {},
   "outputs": [],
   "source": [
    "c=4"
   ]
  },
  {
   "cell_type": "code",
   "execution_count": 13,
   "id": "aging-ethnic",
   "metadata": {},
   "outputs": [],
   "source": [
    "delta = (mat / np.sqrt(np.square(mat).sum(axis=0))[None, :])*c"
   ]
  },
  {
   "cell_type": "code",
   "execution_count": 14,
   "id": "played-contact",
   "metadata": {},
   "outputs": [
    {
     "data": {
      "text/plain": [
       "array([4., 4., 4., 4., 4.])"
      ]
     },
     "execution_count": 14,
     "metadata": {},
     "output_type": "execute_result"
    }
   ],
   "source": [
    "np.sqrt(np.square(delta).sum(axis=0))"
   ]
  },
  {
   "cell_type": "code",
   "execution_count": 15,
   "id": "anticipated-stanley",
   "metadata": {},
   "outputs": [
    {
     "data": {
      "text/plain": [
       "array([[1.55638977, 1.85806391, 1.24029493, 0.21505146, 0.9228908 ],\n",
       "       [0.95692248, 1.15784485, 2.22916218, 1.24780699, 2.16761251],\n",
       "       [2.31322771, 2.10847926, 1.88937537, 2.08335792, 0.67251758],\n",
       "       [2.43670609, 1.03208406, 1.58506442, 0.50702534, 2.73457836],\n",
       "       [2.24596614, 2.05336586, 0.93634453, 2.34992408, 0.56218328],\n",
       "       [1.20037504, 1.32584986, 2.4559286 , 1.9469776 , 1.97071833],\n",
       "       [1.0966167 , 0.86715091, 1.41927029, 1.8786771 , 0.24614737],\n",
       "       [1.03706903, 2.2512734 , 1.93088597, 1.0593049 , 2.95791712],\n",
       "       [2.22783101, 1.9679335 , 1.94754847, 1.22041397, 1.99666461],\n",
       "       [2.0320349 , 1.12553208, 1.68083529, 1.95077616, 0.35247605]])"
      ]
     },
     "execution_count": 15,
     "metadata": {},
     "output_type": "execute_result"
    }
   ],
   "source": [
    "robust(X,c,mat)"
   ]
  },
  {
   "cell_type": "code",
   "execution_count": null,
   "id": "classified-medicare",
   "metadata": {},
   "outputs": [],
   "source": []
  }
 ],
 "metadata": {
  "kernelspec": {
   "display_name": "Python 3",
   "language": "python",
   "name": "python3"
  },
  "language_info": {
   "codemirror_mode": {
    "name": "ipython",
    "version": 3
   },
   "file_extension": ".py",
   "mimetype": "text/x-python",
   "name": "python",
   "nbconvert_exporter": "python",
   "pygments_lexer": "ipython3",
   "version": "3.8.5"
  }
 },
 "nbformat": 4,
 "nbformat_minor": 5
}
