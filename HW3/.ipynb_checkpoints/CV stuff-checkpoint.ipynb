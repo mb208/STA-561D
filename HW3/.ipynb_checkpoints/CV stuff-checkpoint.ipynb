{
 "cells": [
  {
   "cell_type": "code",
   "execution_count": 3,
   "metadata": {},
   "outputs": [],
   "source": [
    "from sklearn.model_selection import GridSearchCV\n",
    "from sklearn.model_selection import cross_val_score"
   ]
  },
  {
   "cell_type": "code",
   "execution_count": null,
   "metadata": {},
   "outputs": [],
   "source": [
    "def HW3 (learning_alg,\n",
    "         X.train,\n",
    "         Y.train,\n",
    "         regular_method,\n",
    "         M,\n",
    "         c,\n",
    "         K,\n",
    "         Error_Type):\n",
    "    \n",
    "    if Error_Type == 'MSE':\n",
    "        score_type = 'neg_mean_squared_error'\n",
    "    else:\n",
    "        score_type = 'neg_mean_absolute_error'\n",
    "    \n",
    "    \n",
    "    params_drop = {'Phi': [.1,.2,.3,.4,.5]}\n",
    "    params_noise = {}\n",
    "    param_robust = {}\n",
    "    \n",
    "    GridSearchCV(estimator = learning_alg_dropout, cv = K,scoring = score_type)\n",
    "    GridSearchCV(estimator = learning_alg, cv = K,scoring = score_type)\n",
    "    \n",
    "    cross_val_score(learning_alg,X,Y,cv = K,scoring = score_type)\n",
    "    cross_val_score(learning_alg,X,Y,cv = K,scoring = score_type)"
   ]
  },
  {
   "cell_type": "code",
   "execution_count": 6,
   "metadata": {},
   "outputs": [
    {
     "data": {
      "text/plain": [
       "True"
      ]
     },
     "execution_count": 6,
     "metadata": {},
     "output_type": "execute_result"
    }
   ],
   "source": [
    "x = \"MSE\"\n",
    "x == 'MSE'"
   ]
  }
 ],
 "metadata": {
  "kernelspec": {
   "display_name": "Python 3",
   "language": "python",
   "name": "python3"
  },
  "language_info": {
   "codemirror_mode": {
    "name": "ipython",
    "version": 3
   },
   "file_extension": ".py",
   "mimetype": "text/x-python",
   "name": "python",
   "nbconvert_exporter": "python",
   "pygments_lexer": "ipython3",
   "version": "3.8.5"
  }
 },
 "nbformat": 4,
 "nbformat_minor": 4
}
