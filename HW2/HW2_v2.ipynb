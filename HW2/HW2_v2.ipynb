{
 "cells": [
  {
   "cell_type": "markdown",
   "id": "italian-wells",
   "metadata": {},
   "source": [
    "# HW 3\n",
    "- Authors: Marc Brooks, Jack McCarthy, Michael Sarkis\n",
    "- NetID: mgb45, ___ , ms939"
   ]
  },
  {
   "cell_type": "markdown",
   "id": "historic-carol",
   "metadata": {},
   "source": [
    "## 1.) (Hard-thresholding)"
   ]
  },
  {
   "cell_type": "markdown",
   "id": "handled-donna",
   "metadata": {
    "pycharm": {
     "name": "#%% md\n"
    }
   },
   "source": [
    "(a)\n",
    "\n",
    "\\begin{aligned}\n",
    "\\mathbb{E}Z\\textbf{1}_{\\left| Z \\right| \\le \\gamma}\n",
    "&= \\int_{-\\infty}^{\\infty} \\frac{z}{\\tau \\sqrt{2 \\pi}} e^{-\\frac{1}{2}\\left( \\frac{z-\\omega}{\\tau} \\right)^2}\\textbf{1}_{\\left| Z \\right| \\le \\gamma} dz \\\\\n",
    "&= \\frac{1}{\\sqrt{2 \\pi}}\\int_{-\\gamma}^{\\gamma} \\frac{z}{\\tau} e^{-\\frac{1}{2}\\left( \\frac{z-\\omega}{\\tau} \\right)^2} dz\n",
    "\\end{aligned}\n",
    "\n",
    "Let $u = \\frac{z-\\omega}{\\tau}$, so $z = u \\tau + \\omega$ and $du = \\frac{1}{\\tau}dz$. Substituting these in we get the following:\n",
    "\n",
    "\\begin{aligned}\n",
    "\\frac{1}{\\sqrt{2 \\pi}}\\int_{-\\gamma}^{\\gamma} \\frac{z}{\\tau} e^{-\\frac{1}{2}\\left( \\frac{z-\\omega}{\\tau} \\right)^2} dz\n",
    "&= \\frac{1}{\\sqrt{2 \\pi}} \\left[ \\int (u \\tau + \\omega)e^{-\\frac{1}{2}u^2}du \\right]_{-\\frac{\\gamma + \\omega}{\\tau}}^{\\frac{\\gamma - \\omega}{\\tau}} \\\\\n",
    "&= \\frac{1}{\\sqrt{2 \\pi}} \\left[ \\tau \\int ue^{-\\frac{1}{2}u^2}du + \\omega \\int e^{-\\frac{1}{2}u^2}du \\right]_{-\\frac{\\gamma + \\omega}{\\tau}}^{\\frac{\\gamma - \\omega}{\\tau}} \\\\\n",
    "&= \\frac{1}{\\sqrt{2 \\pi}} \\left[ -\\tau e^{-\\frac{1}{2} u^2} + \\frac{\\omega \\sqrt{\\pi}}{\\sqrt{2}} \\text{erf} \\left( \\frac{u}{\\sqrt{2}} \\right) \\right]_{-\\frac{\\gamma + \\omega}{\\tau}}^{\\frac{\\gamma - \\omega}{\\tau}} \\\\\n",
    "&= \\left[ -\\frac{\\tau}{\\sqrt{2 \\pi}} e^{-\\frac{1}{2}u^2} + \\frac{\\omega}{2} \\text{erf} \\left( \\frac{u}{\\sqrt{2}} \\right) \\right]_{-\\frac{\\gamma + \\omega}{\\tau}}^{\\frac{\\gamma - \\omega}{\\tau}}\n",
    "\\end{aligned}\n",
    "\n",
    "Which evaluated gives:\n",
    "$$\\mathbb{E}Z\\textbf{1}_{\\left| Z \\right| \\le \\gamma} = \\frac{\\omega}{2} \\left[ \\text{erf} \\left( \\frac{\\gamma-\\omega}{\\tau \\sqrt{2}} \\right) - \\text{erf} \\left( \\frac{-(\\gamma+\\omega)}{\\tau \\sqrt{2}} \\right) \\right] - \\frac{\\tau}{\\sqrt{2 \\pi}} \\left[ \\exp\\left\\{-\\frac{1}{2}\\left( \\frac{\\gamma-\\omega}{\\tau} \\right)^2\\right\\} - \\exp\\left\\{-\\frac{1}{2}\\left( \\frac{-(\\gamma+\\omega)}{\\tau} \\right)^2\\right\\} \\right]$$\n",
    "\n",
    "(b)\n",
    "\n",
    "\\begin{aligned}\n",
    "\\mathbb{E}\\left( X - \\hat{\\mu}_n^H \\right)^2 \n",
    "           &= \\mathbb{E}\\left[ (X - \\mu) + (\\mu - \\hat{\\mu}_n^H) \\right]^2 \\\\\n",
    "           &= \\mathbb{E}\\left[ (X - \\mu)^2 + 2(X - \\mu)(\\mu + \\hat{\\mu}_n^H) + (\\mu - \\hat{\\mu}_n^H)^2 \\right] \\\\\n",
    "           &= \\mathbb{E}(X - \\mu)^2 - 2\\mathbb{E}(X - \\mu)(\\mu + \\hat{\\mu}_n^H) + \\mathbb{E}(\\mu - \\hat{\\mu}_n^H)^2 \\\\\n",
    "           &= \\sigma^2 + \\mathbb{E}(\\mu - \\hat{\\mu}_n^H)^2 \\\\\n",
    "           &= \\sigma^2 + \\mathbb{E}\\left[ (\\mu - \\mathbb{E}\\hat{\\mu}_n^H) + (\\mathbb{E}\\hat{\\mu}_n^H - \\hat{\\mu}_n^H) \\right]^2 \\\\\n",
    "           &= \\sigma^2 + \\mathbb{E}(\\mu - \\mathbb{E}\\hat{\\mu}_n^H)^2 + \\mathbb{E}(\\mathbb{E}\\hat{\\mu}_n^H - \\hat{\\mu}_n^H)^2 \\\\\n",
    "           &= \\sigma^2 + \\mathbb{E}(\\mu - \\mathbb{E}\\hat{\\mu}_n^H)^2 \\\\\n",
    "           &= \\sigma^2 + \\mathbb{E}\\left(\\mu^2 - 2\\mu\\mathbb{E}\\hat{\\mu}_n^H + \\left(\\mathbb{E}\\hat{\\mu}_n^H\\right)^2 \\right) \\\\\n",
    "           &= \\sigma^2 + \\mathbb{E}\\mu^2 - 2\\mu\\mathbb{E}\\hat{\\mu}_n^H + \\left(\\mathbb{E}\\hat{\\mu}_n^H\\right)^2 \\\\\n",
    "           &= \\sigma^2 + \\mu^2 - 2\\mu\\mathbb{E}\\bar{X}_n \\textbf{1}_{\\left| \\bar{X}_n \\right| \\ge \\alpha} \n",
    "           + \\left(\\mathbb{E}\\bar{X}_n\\textbf{1}_{\\left| \\bar{X}_n \\right| \\ge \\alpha} \\right)^2 \\\\\n",
    "           &= \\sigma^2 + \\mu^2 \n",
    "           - 2\\mu\\left[\\mathbb{E}\\bar{X}_n - \\mathbb{E}\\bar{X}_n \\textbf{1}_{\\left| \\bar{X}_n \\right| \\le \\alpha} \\right] \n",
    "           + \\left[\\mathbb{E}\\bar{X}_n - \\mathbb{E}\\bar{X}_n \\textbf{1}_{\\left| \\bar{X}_n \\right| \\le \\alpha} \\right]^2 \\\\\n",
    "           &= \\sigma^2 + \\mu^2 - 2\\mu^2 + 2\\mu \\mathbb{E}\\bar{X}_n \\textbf{1}_{\\left| \\bar{X}_n \\right| \\le \\alpha}\n",
    "           + \\left( \\mathbb{E}\\bar{X}_n \\right)^2 - 2\\mathbb{E}\\bar{X}_n \\mathbb{E}\\bar{X}_n \\textbf{1}_{\\left| \\bar{X}_n \\right| \\le \\alpha} \n",
    "           + \\left( \\mathbb{E}\\bar{X}_n \\textbf{1}_{\\left| \\bar{X}_n \\right| \\le \\alpha} \\right)^2 \\\\\n",
    "           &= \\sigma^2 - \\mu^2 + 2\\mu \\mathbb{E}\\bar{X}_n \\textbf{1}_{\\left| \\bar{X}_n \\right| \\le \\alpha} + \\mu^2 - 2\\mu \\mathbb{E}\\bar{X}_n \\textbf{1}_{\\left| \\bar{X}_n \\right| \\le \\alpha} + \\left( \\mathbb{E}\\bar{X}_n \\textbf{1}_{\\left| \\bar{X}_n \\right| \\le \\alpha} \\right)^2 \\\\\n",
    "           &= \\sigma^2 + \\left( \\mathbb{E}\\bar{X}_n \\textbf{1}_{\\left| \\bar{X}_n \\right| \\le \\alpha} \\right)^2\n",
    "\\end{aligned}\n",
    "\n",
    "We can plug the closed form from (a) in for $\\mathbb{E}\\bar{X}_n \\textbf{1}_{\\left| \\bar{X}_n \\right| \\le \\alpha}$ for a final closed form of $\\mathbb{E}\\left( X - \\hat{\\mu}_n^H \\right)^2$ (not done to save space)."
   ]
  },
  {
   "cell_type": "code",
   "execution_count": null,
   "id": "alternate-mounting",
   "metadata": {},
   "outputs": [],
   "source": []
  },
  {
   "cell_type": "code",
   "execution_count": null,
   "id": "neutral-marketplace",
   "metadata": {},
   "outputs": [],
   "source": []
  },
  {
   "cell_type": "code",
   "execution_count": null,
   "id": "developmental-collect",
   "metadata": {},
   "outputs": [],
   "source": []
  },
  {
   "cell_type": "code",
   "execution_count": null,
   "id": "naughty-democrat",
   "metadata": {},
   "outputs": [],
   "source": []
  },
  {
   "cell_type": "markdown",
   "id": "athletic-newton",
   "metadata": {},
   "source": [
    "## 2. (Great British Bake-off)"
   ]
  },
  {
   "cell_type": "code",
   "execution_count": 18,
   "id": "liked-surrey",
   "metadata": {},
   "outputs": [],
   "source": [
    "# importing required packages\n",
    "import numpy as np\n",
    "import pandas as pd\n",
    "import itertools\n",
    "\n",
    "from sklearn.metrics import mean_squared_error\n",
    "from sklearn.linear_model import LassoLarsIC, LassoLarsCV, RidgeCV, LinearRegression, Ridge\n",
    "from sklearn.model_selection import cross_val_score, LeaveOneOut\n",
    "\n",
    "import warnings\n",
    "warnings.filterwarnings(\"ignore\")"
   ]
  },
  {
   "cell_type": "markdown",
   "id": "concrete-kernel",
   "metadata": {},
   "source": [
    "## (a)"
   ]
  },
  {
   "cell_type": "markdown",
   "id": "genuine-target",
   "metadata": {},
   "source": [
    "First, since $\\epsilon$ and $\\textbf{X}$ are independent we can see that: \n",
    "$$\n",
    "\\begin{align}\n",
    "\\text{Var}(Y) &= \\text{Var}(\\textbf{X}^{T}\\beta^{*} + \\epsilon) \\\\\n",
    "&= \\text{Var}(\\textbf{X}^{T}\\beta^{*}) + \\text{Var}(\\epsilon) \\\\\n",
    "&= \\beta^{*T}\\Sigma(\\rho)\\beta^{*} + \\sigma^2 \n",
    "\\end{align}\n",
    "$$\n",
    "\n",
    "Furthmore, we recognize $P(Y - \\textbf{X}^{T}\\beta^{*})^{2} = P\\epsilon^{2}$ as the expected squared residuals.\n",
    "Since $P\\epsilon = 0$ then $P\\epsilon^2 = \\sigma^2$ and $P(Y - \\textbf{X}^{T}\\beta^{*})^{2} = \\sigma^2$.\n",
    "\n",
    "\n",
    "Thus,\n",
    "$$\n",
    "\\begin{align}\n",
    "R^{2} &= 1 - \\frac{P(Y - \\textbf{X}^{T}\\beta^{*})^{2}}{\\text{Var}(Y)} \\\\\n",
    "&= 1 - \\frac{\\sigma^2}{\\beta^{*T}\\Sigma(\\rho)\\beta^{*} + \\sigma^2}\n",
    "\\end{align}\n",
    "$$"
   ]
  },
  {
   "cell_type": "markdown",
   "id": "experienced-designer",
   "metadata": {},
   "source": [
    "## (b)"
   ]
  },
  {
   "cell_type": "markdown",
   "id": "collectible-treasure",
   "metadata": {},
   "source": [
    "Setting $R^2 = .8$ we can solve for $\\sigma^2$ as follows.\n",
    "\n",
    "$$\n",
    "\\begin{align}\n",
    ".8 &= 1 - \\frac{\\sigma^2}{\\beta^{*T}\\Sigma(\\rho)\\beta^{*} + \\sigma^2} \\\\\n",
    ".2 &= \\frac{\\sigma^2}{\\beta^{*T}\\Sigma(\\rho)\\beta^{*} + \\sigma^2} \\\\\n",
    "\\sigma^2 &= .2(\\beta^{*T}\\Sigma(\\rho)\\beta^{*} + \\sigma^2)  \\\\\n",
    ".8\\sigma^2 &= .2(\\beta^{*T}\\Sigma(\\rho)\\beta^{*})  \\\\\n",
    "\\sigma^2 &= .25(\\beta^{*T}\\Sigma(\\rho)\\beta^{*}) \n",
    "\\end{align}\n",
    "$$"
   ]
  },
  {
   "cell_type": "code",
   "execution_count": 2,
   "id": "meaning-democrat",
   "metadata": {},
   "outputs": [],
   "source": [
    "labels = ['lasso']*3 + ['adpt lasso']*3 + ['ridge']*3 + ['adpt ridge']*3\n",
    "tunings = ['AIC', 'BIC', 'LOO-CV']*4\n",
    "labs = [labels[i] + ' ' + tunings[i] for i in range(len(labels))]"
   ]
  },
  {
   "cell_type": "code",
   "execution_count": 3,
   "id": "centered-original",
   "metadata": {},
   "outputs": [],
   "source": [
    "ridge_loo_spremse_table = pd.DataFrame(itertools.product(['sparse', 'dense'], \n",
    "                              labs,\n",
    "                               [10,25,50],\n",
    "                               [0,.25,.5]), \n",
    "             columns=['signal','Method-Tuning', 'p', 'rho'])\n",
    "\n",
    "emse_table['mse'] = None"
   ]
  },
  {
   "cell_type": "code",
   "execution_count": 4,
   "id": "brutal-chance",
   "metadata": {},
   "outputs": [
    {
     "data": {
      "text/html": [
       "<div>\n",
       "<style scoped>\n",
       "    .dataframe tbody tr th:only-of-type {\n",
       "        vertical-align: middle;\n",
       "    }\n",
       "\n",
       "    .dataframe tbody tr th {\n",
       "        vertical-align: top;\n",
       "    }\n",
       "\n",
       "    .dataframe thead th {\n",
       "        text-align: right;\n",
       "    }\n",
       "</style>\n",
       "<table border=\"1\" class=\"dataframe\">\n",
       "  <thead>\n",
       "    <tr style=\"text-align: right;\">\n",
       "      <th></th>\n",
       "      <th>signal</th>\n",
       "      <th>Method-Tuning</th>\n",
       "      <th>p</th>\n",
       "      <th>rho</th>\n",
       "      <th>mse</th>\n",
       "    </tr>\n",
       "  </thead>\n",
       "  <tbody>\n",
       "    <tr>\n",
       "      <th>0</th>\n",
       "      <td>sparse</td>\n",
       "      <td>lasso AIC</td>\n",
       "      <td>10</td>\n",
       "      <td>0.00</td>\n",
       "      <td>None</td>\n",
       "    </tr>\n",
       "    <tr>\n",
       "      <th>1</th>\n",
       "      <td>sparse</td>\n",
       "      <td>lasso AIC</td>\n",
       "      <td>10</td>\n",
       "      <td>0.25</td>\n",
       "      <td>None</td>\n",
       "    </tr>\n",
       "    <tr>\n",
       "      <th>2</th>\n",
       "      <td>sparse</td>\n",
       "      <td>lasso AIC</td>\n",
       "      <td>10</td>\n",
       "      <td>0.50</td>\n",
       "      <td>None</td>\n",
       "    </tr>\n",
       "    <tr>\n",
       "      <th>3</th>\n",
       "      <td>sparse</td>\n",
       "      <td>lasso AIC</td>\n",
       "      <td>25</td>\n",
       "      <td>0.00</td>\n",
       "      <td>None</td>\n",
       "    </tr>\n",
       "    <tr>\n",
       "      <th>4</th>\n",
       "      <td>sparse</td>\n",
       "      <td>lasso AIC</td>\n",
       "      <td>25</td>\n",
       "      <td>0.25</td>\n",
       "      <td>None</td>\n",
       "    </tr>\n",
       "    <tr>\n",
       "      <th>...</th>\n",
       "      <td>...</td>\n",
       "      <td>...</td>\n",
       "      <td>...</td>\n",
       "      <td>...</td>\n",
       "      <td>...</td>\n",
       "    </tr>\n",
       "    <tr>\n",
       "      <th>211</th>\n",
       "      <td>dense</td>\n",
       "      <td>adpt ridge LOO-CV</td>\n",
       "      <td>25</td>\n",
       "      <td>0.25</td>\n",
       "      <td>None</td>\n",
       "    </tr>\n",
       "    <tr>\n",
       "      <th>212</th>\n",
       "      <td>dense</td>\n",
       "      <td>adpt ridge LOO-CV</td>\n",
       "      <td>25</td>\n",
       "      <td>0.50</td>\n",
       "      <td>None</td>\n",
       "    </tr>\n",
       "    <tr>\n",
       "      <th>213</th>\n",
       "      <td>dense</td>\n",
       "      <td>adpt ridge LOO-CV</td>\n",
       "      <td>50</td>\n",
       "      <td>0.00</td>\n",
       "      <td>None</td>\n",
       "    </tr>\n",
       "    <tr>\n",
       "      <th>214</th>\n",
       "      <td>dense</td>\n",
       "      <td>adpt ridge LOO-CV</td>\n",
       "      <td>50</td>\n",
       "      <td>0.25</td>\n",
       "      <td>None</td>\n",
       "    </tr>\n",
       "    <tr>\n",
       "      <th>215</th>\n",
       "      <td>dense</td>\n",
       "      <td>adpt ridge LOO-CV</td>\n",
       "      <td>50</td>\n",
       "      <td>0.50</td>\n",
       "      <td>None</td>\n",
       "    </tr>\n",
       "  </tbody>\n",
       "</table>\n",
       "<p>216 rows × 5 columns</p>\n",
       "</div>"
      ],
      "text/plain": [
       "     signal      Method-Tuning   p   rho   mse\n",
       "0    sparse          lasso AIC  10  0.00  None\n",
       "1    sparse          lasso AIC  10  0.25  None\n",
       "2    sparse          lasso AIC  10  0.50  None\n",
       "3    sparse          lasso AIC  25  0.00  None\n",
       "4    sparse          lasso AIC  25  0.25  None\n",
       "..      ...                ...  ..   ...   ...\n",
       "211   dense  adpt ridge LOO-CV  25  0.25  None\n",
       "212   dense  adpt ridge LOO-CV  25  0.50  None\n",
       "213   dense  adpt ridge LOO-CV  50  0.00  None\n",
       "214   dense  adpt ridge LOO-CV  50  0.25  None\n",
       "215   dense  adpt ridge LOO-CV  50  0.50  None\n",
       "\n",
       "[216 rows x 5 columns]"
      ]
     },
     "execution_count": 4,
     "metadata": {},
     "output_type": "execute_result"
    }
   ],
   "source": [
    "emse_table"
   ]
  },
  {
   "cell_type": "code",
   "execution_count": 2,
   "id": "controlling-worship",
   "metadata": {},
   "outputs": [],
   "source": [
    "def calc_bic(y_hat, y, D, lamb):\n",
    "    df_l = np.sum(D**2/(D**2 + lamb))\n",
    "    rss = np.sum((y - y_hat)**2)\n",
    "    bic = np.log(rss) + df_l*np.log(len(y))/len(y)\n",
    "    return bic"
   ]
  },
  {
   "cell_type": "code",
   "execution_count": 39,
   "id": "active-lighter",
   "metadata": {},
   "outputs": [],
   "source": [
    "def calc_aic(y_hat, y, D, lamb):\n",
    "    df_l = np.sum(D**2/(D**2 + lamb))\n",
    "    rss = np.sum((y.ravel() - y_hat.ravel())**2)\n",
    "    aic = np.log(rss) + df_l*2/len(y)\n",
    "    return aic"
   ]
  },
  {
   "cell_type": "code",
   "execution_count": 49,
   "id": "national-adrian",
   "metadata": {},
   "outputs": [],
   "source": [
    "def calc_bic2(y_hat, y, X, lamb):\n",
    "    k = X.shape[0]\n",
    "    df_l = np.trace(X @ (X.T @ X + lamb*np.eye(k)) @ X.T)\n",
    "    rss = np.sum((y - y_hat)**2)\n",
    "    bic = np.log(rss) + df_l*np.log(len(y))/len(y)\n",
    "    return bic"
   ]
  },
  {
   "cell_type": "code",
   "execution_count": 40,
   "id": "seven-alcohol",
   "metadata": {},
   "outputs": [],
   "source": [
    "def lambda_ic(lambs, X, Y, X_star, Y_star, ic='aic'):\n",
    "    U, D, V = np.linalg.svd(X, full_matrices=False)\n",
    "    y_pred = lambda l: (U @ np.diag(D**2/(D**2 + l)) @ U.T) @ Y   \n",
    "    if ic=='bic':\n",
    "        bic_vals = np.array([calc_bic(y_hat = y_pred(l), y=Y, D=D, lamb=l) for l in lambs])\n",
    "        min_i = np.argmin(bic_vals)\n",
    "    else:\n",
    "        aic_vals = np.array([calc_aic(y_hat = y_pred(l), y=Y, D=D, lamb=l) for l in lambs])\n",
    "        min_i = np.argmin(aic_vals)\n",
    "    mse = mean_squared_error(Y, y_pred(lambs[min_i]))\n",
    "    beta_hat = np.linalg.inv(X.T @ X + lambs[min_i]*np.eye(p)) @ X.T @ Y\n",
    "    omse = mean_squared_error(Y_star, X_star @ beta_hat)\n",
    "    return mse, lambs[min_i], omse"
   ]
  },
  {
   "cell_type": "code",
   "execution_count": 41,
   "id": "compressed-multimedia",
   "metadata": {},
   "outputs": [],
   "source": [
    "def lambda_ic(lambs, X, Y, X_star, Y_star, ic='aic'):\n",
    "    U, D, V = np.linalg.svd(X, full_matrices=False)\n",
    "    y_pred = lambda l: (U @ np.diag(D**2/(D**2 + l)) @ U.T) @ Y   \n",
    "    if ic=='bic':\n",
    "        bic_vals = np.array([calc_bic(y_hat = y_pred(l), y=Y, D=D, lamb=l) for l in lambs])\n",
    "        min_i = np.argmin(bic_vals)\n",
    "    else:\n",
    "        aic_vals = np.array([calc_aic(y_hat = y_pred(l), y=Y, D=D, lamb=l) for l in lambs])\n",
    "        min_i = np.argmin(aic_vals)\n",
    "    mse = mean_squared_error(Y, y_pred(lambs[min_i]))\n",
    "    #beta_hat = np.linalg.inv(X.T @ X + lambs[min_i]*np.eye(p)) @ X.T @ Y\n",
    "    ridge = Ridge(alpha=lambs[i], fit_intercept=False)\n",
    "    #omse = mean_squared_error(Y_star, X_star @ beta_hat)\n",
    "    ridge.fit(X,Y)\n",
    "    omse = mean_squared_error(Y_star, ridge.predict(X_star))\n",
    "    return mse, lambs[min_i], omse"
   ]
  },
  {
   "cell_type": "code",
   "execution_count": null,
   "id": "caroline-twenty",
   "metadata": {},
   "outputs": [],
   "source": [
    "def lambda_ic(lambs, X, Y, X_star, Y_star, ic='aic'): \n",
    "    if ic=='bic':\n",
    "        bic_vals = np.array([calc_bic(y_hat = y_pred(l), y=Y, D=D, lamb=l) for l in lambs])\n",
    "        min_i = np.argmin(bic_vals)\n",
    "        min_bic = 0\n",
    "        for l in lambs:\n",
    "            ridge = Ridge(alpha=l, fit_intercept=False)\n",
    "            ridge.fit(X,Y)\n",
    "            bic = calc_bic2(y_hat=ridge.predict(X), y=Y, X, lamb)\n",
    "    else:\n",
    "        aic_vals = np.array([calc_aic(y_hat = y_pred(l), y=Y, D=D, lamb=l) for l in lambs])\n",
    "        min_i = np.argmin(aic_vals)\n",
    "    mse = mean_squared_error(Y, y_pred(lambs[min_i]))\n",
    "    #beta_hat = np.linalg.inv(X.T @ X + lambs[min_i]*np.eye(p)) @ X.T @ Y\n",
    "    ridge = Ridge(alpha=lambs[i], fit_intercept=False)\n",
    "    #omse = mean_squared_error(Y_star, X_star @ beta_hat)\n",
    "    ridge.fit(X,Y)\n",
    "    omse = mean_squared_error(Y_star, ridge.predict(X_star))\n",
    "    return mse, lambs[min_i], omse"
   ]
  },
  {
   "cell_type": "code",
   "execution_count": null,
   "id": "impressed-milton",
   "metadata": {},
   "outputs": [],
   "source": [
    "def lambda_ic(lambs, X, Y, X_star, Y_star, ic='aic'):\n",
    "    U, D, V = np.linalg.svd(X, full_matrices=False)\n",
    "    y_pred = lambda l: (U @ np.diag(D**2/(D**2 + l)) @ U.T) @ Y   \n",
    "    if ic=='bic':\n",
    "        bic_vals = np.array([calc_bic(y_hat = y_pred(l), y=Y, D=D, lamb=l) for l in lambs])\n",
    "        min_i = np.argmin(bic_vals)\n",
    "    else:\n",
    "        aic_vals = np.array([calc_aic(y_hat = y_pred(l), y=Y, D=D, lamb=l) for l in lambs])\n",
    "        min_i = np.argmin(aic_vals)\n",
    "    mse = mean_squared_error(Y, y_pred(lambs[min_i]))\n",
    "    #beta_hat = np.linalg.inv(X.T @ X + lambs[min_i]*np.eye(p)) @ X.T @ Y\n",
    "    ridge = Ridge(alpha=lambs[i], fit_intercept=False)\n",
    "    #omse = mean_squared_error(Y_star, X_star @ beta_hat)\n",
    "    ridge.fit(X,Y)\n",
    "    omse = mean_squared_error(Y_star, ridge.predict(X_star))\n",
    "    return mse, lambs[min_i], omse"
   ]
  },
  {
   "cell_type": "code",
   "execution_count": 21,
   "id": "genetic-exclusive",
   "metadata": {},
   "outputs": [
    {
     "name": "stderr",
     "output_type": "stream",
     "text": [
      "  2%|▏         | 1/50 [00:00<00:05,  8.71it/s]"
     ]
    },
    {
     "name": "stdout",
     "output_type": "stream",
     "text": [
      "10 0\n"
     ]
    },
    {
     "name": "stderr",
     "output_type": "stream",
     "text": [
      "  2%|▏         | 1/50 [00:00<00:08,  6.10it/s]]"
     ]
    },
    {
     "name": "stdout",
     "output_type": "stream",
     "text": [
      "10 0.25\n"
     ]
    },
    {
     "name": "stderr",
     "output_type": "stream",
     "text": [
      "  2%|▏         | 1/50 [00:00<00:07,  6.89it/s]]"
     ]
    },
    {
     "name": "stdout",
     "output_type": "stream",
     "text": [
      "10 0.5\n"
     ]
    },
    {
     "name": "stderr",
     "output_type": "stream",
     "text": [
      "  2%|▏         | 1/50 [00:00<00:08,  6.03it/s]]"
     ]
    },
    {
     "name": "stdout",
     "output_type": "stream",
     "text": [
      "25 0\n"
     ]
    },
    {
     "name": "stderr",
     "output_type": "stream",
     "text": [
      "  2%|▏         | 1/50 [00:00<00:09,  5.42it/s]]"
     ]
    },
    {
     "name": "stdout",
     "output_type": "stream",
     "text": [
      "25 0.25\n"
     ]
    },
    {
     "name": "stderr",
     "output_type": "stream",
     "text": [
      "  2%|▏         | 1/50 [00:00<00:08,  5.81it/s]]"
     ]
    },
    {
     "name": "stdout",
     "output_type": "stream",
     "text": [
      "25 0.5\n"
     ]
    },
    {
     "name": "stderr",
     "output_type": "stream",
     "text": [
      "  0%|          | 0/50 [00:00<?, ?it/s]5.79it/s]"
     ]
    },
    {
     "name": "stdout",
     "output_type": "stream",
     "text": [
      "50 0\n"
     ]
    },
    {
     "name": "stderr",
     "output_type": "stream",
     "text": [
      "  0%|          | 0/50 [00:00<?, ?it/s]4.89it/s]"
     ]
    },
    {
     "name": "stdout",
     "output_type": "stream",
     "text": [
      "50 0.25\n"
     ]
    },
    {
     "name": "stderr",
     "output_type": "stream",
     "text": [
      "  2%|▏         | 1/50 [00:00<00:08,  5.57it/s]]"
     ]
    },
    {
     "name": "stdout",
     "output_type": "stream",
     "text": [
      "50 0.5\n"
     ]
    },
    {
     "name": "stderr",
     "output_type": "stream",
     "text": [
      "100%|██████████| 50/50 [00:10<00:00,  5.28it/s]"
     ]
    }
   ],
   "source": [
    "from tqdm import tqdm\n",
    "\n",
    "datasets = 50 #number of loop iterations\n",
    "n = 100\n",
    "count = 0\n",
    "test_size = 1000\n",
    "\n",
    "# Sparse Signal\n",
    "lasso_aic_mse_spr = np.zeros(9)\n",
    "lasso_bic_mse_spr = np.zeros(9)\n",
    "lasso_loocv_mse_spr = np.zeros(9)\n",
    "adp_lasso_aic_mse_spr = np.zeros(9)\n",
    "adp_lasso_bic_mse_spr = np.zeros(9)\n",
    "adp_lasso_loocv_mse_spr = np.zeros(9)\n",
    "\n",
    "ridge_aic_mse_spr = np.zeros(9)\n",
    "ridge_bic_mse_spr = np.zeros(9)\n",
    "ridge_loocv_mse_spr = np.zeros(9)\n",
    "adp_ridge_aic_mse_spr = np.zeros(9)\n",
    "adp_ridge_bic_mse_spr = np.zeros(9)\n",
    "adp_ridge_loocv_mse_spr =np.zeros(9)\n",
    "\n",
    "# Dense Signal \n",
    "lasso_aic_mse_dns = np.zeros(9)\n",
    "lasso_bic_mse_dns = np.zeros(9)\n",
    "lasso_loocv_mse_dns = np.zeros(9)\n",
    "adp_lasso_aic_mse_dns = np.zeros(9)\n",
    "adp_lasso_bic_mse_dns = np.zeros(9)\n",
    "adp_lasso_loocv_mse_dns = np.zeros(9)\n",
    "\n",
    "ridge_aic_mse_dns = np.zeros(9)\n",
    "ridge_bic_mse_dns = np.zeros(9)\n",
    "ridge_loocv_mse_dns = np.zeros(9)\n",
    "adp_ridge_aic_mse_dns = np.zeros(9)\n",
    "adp_ridge_bic_mse_dns = np.zeros(9)\n",
    "adp_ridge_loocv_mse_dns = np.zeros(9)\n",
    "    \n",
    "for i,(p,rho) in enumerate(itertools.product([10, 25, 50],[0, 0.25, 0.5])):\n",
    "    print(p, rho)\n",
    "    \n",
    "    # Generate data\n",
    "    beta_spr = np.fromfunction(lambda j, _: (2 / np.sqrt(n)) * (j + 1 <= np.sqrt(p)), (p, 1))\n",
    "    beta_dns = np.fromfunction(lambda j, _: (5 / ((j + 1) * np.sqrt(n))), (p, 1))\n",
    "\n",
    "    Sigma_p = np.fromfunction(lambda i, j: rho**(np.abs(i - j)), (p, p))\n",
    "    sigma2_spr = 0.25 * (beta_spr.T @ Sigma_p @ beta_spr)\n",
    "    sigma2_dns = 0.25 * (beta_dns.T @ Sigma_p @ beta_dns)\n",
    "    \n",
    "    \n",
    "    #Generate Test sets for given Rho and p\n",
    "    test_epsilon_spr = np.random.normal(loc=0, scale=np.sqrt(sigma2_spr))\n",
    "    test_epsilon_dns = np.random.normal(loc=0, scale=np.sqrt(sigma2_dns))\n",
    "    \n",
    "    test_X = np.random.multivariate_normal(mean=np.zeros(p), cov=Sigma_p, size=test_size)\n",
    "\n",
    "    test_Y_spr =  test_X @ beta_spr + test_epsilon_spr\n",
    "    test_Y_dns =  test_X @ beta_dns + test_epsilon_dns\n",
    "    \n",
    "    \n",
    "    # For LOO-CV\n",
    "    loo = LeaveOneOut()\n",
    "    \n",
    "    prog = tqdm(total = datasets, position=0, leave=2)\n",
    "    \n",
    "    for _ in range(datasets):\n",
    "        \n",
    "        #To divide out mse sums later\n",
    "        count += 1 \n",
    "        \n",
    "        # Create Dataset\n",
    "        epsilon_spr = np.random.normal(loc=0, scale=np.sqrt(sigma2_spr))\n",
    "        epsilon_dns = np.random.normal(loc=0, scale=np.sqrt(sigma2_dns))\n",
    "\n",
    "        X = np.random.multivariate_normal(mean=np.zeros(p), cov=Sigma_p, size=n)\n",
    "\n",
    "        Y_spr =  X @ beta_spr + epsilon_spr\n",
    "        Y_dns =  X @ beta_dns + epsilon_dns\n",
    "\n",
    "        # For adaptive regressions\n",
    "        lm_spr = LinearRegression().fit(X, Y_spr)\n",
    "        lm_dns = LinearRegression().fit(X, Y_dns)\n",
    "        \n",
    "        # Adpative Lasso\n",
    "        # Here we are compute X^T (D^-1)^T\n",
    "        adX_sprL = X @ np.diagflat(np.abs(lm_spr.coef_))\n",
    "        adX_dnsL = X @ np.diagflat(np.abs(lm_dns.coef_))\n",
    "        \n",
    "        # Adpative Ridge\n",
    "        adX_sprR = X @ np.diagflat((lm_spr.coef_**2)**(1/2))\n",
    "        adX_dnsR = X @ np.diagflat((lm_dns.coef_**2)**(1/2))\n",
    "        \n",
    "        # Adpative Lasso\n",
    "        # Here we are compute X^T (D^-1)^T\n",
    "        test_adX_sprL = test_X @ np.diagflat(np.abs(lm_spr.coef_))\n",
    "        test_adX_dnsL = test_X @ np.diagflat(np.abs(lm_dns.coef_))\n",
    "        \n",
    "        # Adpative Ridge\n",
    "        test_adX_sprR = test_X @ np.diagflat((lm_spr.coef_**2)**(1/2))\n",
    "        test_adX_dnsR = test_X @ np.diagflat((lm_dns.coef_**2)**(1/2))\n",
    "    \n",
    "    \n",
    "        # Calculate Lassos\n",
    "        \n",
    "#         # AIC\n",
    "        \n",
    "#         # Sparse\n",
    "#         lasso_aic_spr = LassoLarsIC(criterion='aic')\n",
    "#         lasso_aic_spr.fit(X, Y_spr)\n",
    "#         lasso_aic_mse_spr[i] += mean_squared_error(test_Y_spr, lasso_aic_spr.predict(test_X))\n",
    "        \n",
    "#         # Dense\n",
    "#         lasso_aic_dns = LassoLarsIC(criterion='aic')\n",
    "#         lasso_aic_dns.fit(X, Y_dns)\n",
    "#         lasso_aic_mse_dns[i] += mean_squared_error(test_Y_dns, lasso_aic_dns.predict(test_X))\n",
    "        \n",
    "#         #BIC\n",
    "        \n",
    "#         # Sparse\n",
    "#         lasso_bic_spr = LassoLarsIC(criterion='bic')\n",
    "#         lasso_bic_spr.fit(X, Y_spr)\n",
    "#         lasso_bic_mse_spr[i] += mean_squared_error(test_Y_spr, lasso_bic_spr.predict(test_X))\n",
    "        \n",
    "#         # Dense\n",
    "#         lasso_bic_dns = LassoLarsIC(criterion='bic')\n",
    "#         lasso_bic_dns.fit(X, Y_dns)\n",
    "#         lasso_bic_mse_dns[i] += mean_squared_error(test_Y_dns, lasso_bic_dns.predict(test_X))\n",
    "        \n",
    "#         #LOO-CV\n",
    "        \n",
    "#         # Sparse\n",
    "#         lasso_loo_spr = LassoLarsCV(cv=loo)\n",
    "#         lasso_loo_spr.fit(X, Y_spr)\n",
    "#         lasso_loocv_mse_spr[i] += mean_squared_error(test_Y_spr, lasso_loo_spr.predict(test_X))\n",
    "        \n",
    "#         # Dense\n",
    "#         lasso_loo_dns = LassoLarsCV(cv=loo)\n",
    "#         lasso_loo_dns.fit(X, Y_dns)\n",
    "#         lasso_loocv_mse_spr[i] += mean_squared_error(test_Y_dns, lasso_loo_dns.predict(test_X))\n",
    "\n",
    "#         # Adaptive Lasso\n",
    "        \n",
    "#         # AIC\n",
    "        \n",
    "#         # Sparse\n",
    "#         adp_lasso_aic_spr = LassoLarsIC(criterion='aic')\n",
    "#         adp_lasso_aic_spr.fit(adX_sprL, Y_spr)\n",
    "#         adp_lasso_aic_mse_spr[i] += mean_squared_error(test_Y_spr, adp_lasso_aic_spr.predict(test_X))\n",
    "        \n",
    "#         # Dense\n",
    "#         adp_lasso_aic_dns = LassoLarsIC(criterion='aic')\n",
    "#         adp_lasso_aic_dns.fit(adX_dnsL, Y_dns)\n",
    "#         adp_lasso_aic_mse_dns[i] += mean_squared_error(test_Y_dns, adp_lasso_aic_dns.predict(test_X))\n",
    "        \n",
    "#         # BIC\n",
    "        \n",
    "#         # Sparse\n",
    "#         adp_lasso_bic_spr = LassoLarsIC(criterion='bic')\n",
    "#         adp_lasso_bic_spr.fit(adX_sprL, Y_spr)\n",
    "#         adp_lasso_bic_mse_spr[i] += mean_squared_error(test_Y_spr, adp_lasso_bic_spr.predict(test_X))\n",
    "        \n",
    "#         # Dense\n",
    "#         adp_lasso_bic_dns = LassoLarsIC(criterion='bic')\n",
    "#         adp_lasso_bic_dns.fit(adX_dnsL, Y_dns)\n",
    "#         adp_lasso_bic_mse_dns[i] += mean_squared_error(test_Y_dns, adp_lasso_bic_dns.predict(test_X))\n",
    "        \n",
    "#         # LOO-CV\n",
    "        \n",
    "#         # Sparse\n",
    "#         adp_lasso_loo_spr = LassoLarsCV(cv=loo)\n",
    "#         adp_lasso_loo_spr.fit(adX_sprL, Y_spr)\n",
    "#         adp_lasso_loocv_mse_spr[i] += mean_squared_error(test_Y_spr, adp_lasso_loo_spr.predict(test_X))\n",
    "        \n",
    "#         # Dense\n",
    "#         adp_lasso_loo_dns = LassoLarsCV(cv=loo)\n",
    "#         adp_lasso_loo_dns.fit(adX_dnsL, Y_dns)\n",
    "#         adp_lasso_loocv_mse_dns[i] += mean_squared_error(test_Y_dns, adp_lasso_loo_dns.predict(test_X))\n",
    "\n",
    "#         # Calculate Ridge\n",
    "#         # AIC\n",
    "        \n",
    "        lambda_rng = np.logpsace(0,100,num = 200)\n",
    "        \n",
    "#         #Sparse\n",
    "#         _,__,mse = lambda_ic(lambda_rng, X, Y_spr, test_X, test_Y_spr, ic='aic')\n",
    "#         ridge_aic_mse_spr[i] += mse\n",
    "        \n",
    "#         #Dense\n",
    "#         _,__,mse = lambda_ic(lambda_rng, X, Y_dns, test_X, test_Y_dns, ic='aic')\n",
    "#         ridge_aic_mse_dns[i] += mse\n",
    "        \n",
    "#         #BIC\n",
    "#         #Sparse\n",
    "#         _,__,mse = lambda_ic(lambda_rng, X, Y_spr, test_X, test_Y_spr, ic='bic')\n",
    "#         ridge_bic_mse_spr[i] += mse\n",
    "        \n",
    "#         #Dense\n",
    "#         _,__,mse = lambda_ic(lambda_rng, X, Y_dns, test_X, test_Y_dns, ic='bic')\n",
    "#         ridge_bic_mse_dns[i] += mse\n",
    "        \n",
    "#         #LOO-CV\n",
    "        \n",
    "#         #Sparse\n",
    "#         ridge_loo_spr = RidgeCV(cv = loo)\n",
    "#         ridge_loo_spr.fit(X,Y_spr)\n",
    "#         ridge_loocv_mse_spr[i] += mean_squared_error(test_Ynp.linalg.inv(X.T @ X + lambs[min_i]*np.eye(p)) @ X_spr, ridge_loo_spr.predict(test_X))\n",
    "        \n",
    "#         #Dense\n",
    "#         ridge_loo_dns = RidgeCV(cv = loo)\n",
    "#         ridge_loo_dns.fit(X,Y_dns)\n",
    "#         ridge_loocv_mse_dns[i] += mean_squared_error(test_Y_dns, ridge_loo_dns.predict(test_X))\n",
    "\n",
    "        #Adaptive Ridge\n",
    "        # AIC\n",
    "        \n",
    "        #Sparse\n",
    "        _,__,mse = lambda_ic(lambda_rng,  adX_sprR, Y_spr, test_adX_sprR, test_Y_spr, ic='aic')\n",
    "        adp_ridge_aic_mse_spr[i] += mse\n",
    "        \n",
    "        #Dense\n",
    "        _,__,mse = lambda_ic(lambda_rng,  adX_dnsR, Y_dns, test_adX_dnsR, test_Y_dns, ic='aic')\n",
    "        adp_ridge_aic_mse_dns[i] += mse\n",
    "        \n",
    "        #BIC\n",
    "        #Sparse\n",
    "        _,__,mse = lambda_ic(lambda_rng,  adX_sprR, Y_spr, test_adX_sprR, test_Y_spr, ic='bic')\n",
    "        adp_ridge_bic_mse_spr[i] += mse\n",
    "        \n",
    "        #Dense\n",
    "        _,__,mse = lambda_ic(lambda_rng,  adX_dnsR, Y_dns, test_adX_dnsR, test_Y_dns, ic='bic')\n",
    "        adp_ridge_bic_mse_dns[i] += mse\n",
    "        \n",
    "        # LOO-CV\n",
    "        \n",
    "#         #Sparse\n",
    "#         adp_ridge_loo_spr = RidgeCV(cv = loo)\n",
    "#         adp_ridge_loo_spr.fit(adX_sprR,Y_spr)\n",
    "#         adp_ridge_loocv_mse_spr[i] += mean_squared_error(test_Y_spr, adp_ridge_loo_spr.predict(test_adX_sprR))\n",
    "        \n",
    "#         #Dense\n",
    "#         adp_ridge_loo_dns = RidgeCV(cv = loo)\n",
    "#         adp_ridge_loo_dns.fit(adX_dnsR,Y_dns)\n",
    "#         adp_ridge_loocv_mse_dns[i] += mean_squared_error(test_Y_dns, adp_ridge_loo_dns.predict(test_adX_dnsR))\n",
    "\n",
    "        \n",
    "        prog.update()\n"
   ]
  },
  {
   "cell_type": "code",
   "execution_count": 42,
   "id": "noticed-infrared",
   "metadata": {},
   "outputs": [
    {
     "data": {
      "text/plain": [
       "array([   1.        ,    1.07226722,    1.149757  ,    1.23284674,\n",
       "          1.32194115,    1.41747416,    1.51991108,    1.62975083,\n",
       "          1.7475284 ,    1.87381742,    2.009233  ,    2.15443469,\n",
       "          2.3101297 ,    2.47707636,    2.65608778,    2.84803587,\n",
       "          3.05385551,    3.27454916,    3.51119173,    3.76493581,\n",
       "          4.03701726,    4.32876128,    4.64158883,    4.97702356,\n",
       "          5.33669923,    5.72236766,    6.13590727,    6.57933225,\n",
       "          7.05480231,    7.56463328,    8.11130831,    8.69749003,\n",
       "          9.32603347,   10.        ,   10.72267222,   11.49756995,\n",
       "         12.32846739,   13.21941148,   14.17474163,   15.19911083,\n",
       "         16.29750835,   17.475284  ,   18.73817423,   20.09233003,\n",
       "         21.5443469 ,   23.101297  ,   24.77076356,   26.56087783,\n",
       "         28.48035868,   30.53855509,   32.74549163,   35.11191734,\n",
       "         37.64935807,   40.37017259,   43.28761281,   46.41588834,\n",
       "         49.77023564,   53.36699231,   57.22367659,   61.35907273,\n",
       "         65.79332247,   70.54802311,   75.64633276,   81.11308308,\n",
       "         86.97490026,   93.26033469,  100.        ,  107.2267222 ,\n",
       "        114.97569954,  123.28467394,  132.19411485,  141.74741629,\n",
       "        151.9911083 ,  162.97508346,  174.75284   ,  187.38174229,\n",
       "        200.92330026,  215.443469  ,  231.01297001,  247.7076356 ,\n",
       "        265.60877829,  284.80358684,  305.38555088,  327.45491629,\n",
       "        351.11917342,  376.49358068,  403.70172586,  432.87612811,\n",
       "        464.15888336,  497.70235643,  533.66992312,  572.23676594,\n",
       "        613.59072734,  657.93322466,  705.48023107,  756.46332755,\n",
       "        811.13083079,  869.74900262,  932.60334688, 1000.        ])"
      ]
     },
     "execution_count": 42,
     "metadata": {},
     "output_type": "execute_result"
    }
   ],
   "source": [
    "np.logspace(0,3,num=100)"
   ]
  },
  {
   "cell_type": "code",
   "execution_count": 43,
   "id": "above-behalf",
   "metadata": {},
   "outputs": [],
   "source": [
    "p, rho = 50, 0\n",
    "n=100"
   ]
  },
  {
   "cell_type": "code",
   "execution_count": 50,
   "id": "colored-copying",
   "metadata": {},
   "outputs": [],
   "source": [
    "# Generate data\n",
    "beta_spr = np.fromfunction(lambda j, _: (2 / np.sqrt(n)) * (j + 1 <= np.sqrt(p)), (p, 1))\n",
    "beta_dns = np.fromfunction(lambda j, _: (5 / ((j + 1) * np.sqrt(n))), (p, 1))\n",
    "\n",
    "Sigma_p = np.fromfunction(lambda i, j: rho**(np.abs(i - j)), (p, p))\n",
    "sigma2_spr = 0.25 * (beta_spr.T @ Sigma_p @ beta_spr)\n",
    "sigma2_dns = 0.25 * (beta_dns.T @ Sigma_p @ beta_dns)\n",
    "\n",
    "\n",
    "#Generate Test sets for given Rho and p\n",
    "test_epsilon_spr = np.random.normal(loc=0, scale=np.sqrt(sigma2_spr))\n",
    "test_epsilon_dns = np.random.normal(loc=0, scale=np.sqrt(sigma2_dns))\n",
    "\n",
    "test_X = np.random.multivariate_normal(mean=np.zeros(p), cov=Sigma_p, size=test_size)\n",
    "\n",
    "test_Y_spr =  test_X @ beta_spr + test_epsilon_spr\n",
    "test_Y_dns =  test_X @ beta_dns + test_epsilon_dns"
   ]
  },
  {
   "cell_type": "code",
   "execution_count": 51,
   "id": "fitting-pixel",
   "metadata": {},
   "outputs": [],
   "source": [
    "epsilon_spr = np.random.normal(loc=0, scale=np.sqrt(sigma2_spr))\n",
    "epsilon_dns = np.random.normal(loc=0, scale=np.sqrt(sigma2_dns))\n",
    "\n",
    "X = np.random.multivariate_normal(mean=np.zeros(p), cov=Sigma_p, size=n)\n",
    "\n",
    "Y_spr =  X @ beta_spr + epsilon_spr\n",
    "Y_dns =  X @ beta_dns + epsilon_dns\n",
    "\n",
    "# For adaptive regressions\n",
    "lm_spr = LinearRegression().fit(X, Y_spr)\n",
    "lm_dns = LinearRegression().fit(X, Y_dns)\n",
    "\n",
    "# Adpative Lasso\n",
    "# Here we are compute X^T (D^-1)^T\n",
    "adX_sprL = X @ np.diagflat(np.abs(lm_spr.coef_))\n",
    "adX_dnsL = X @ np.diagflat(np.abs(lm_dns.coef_))\n",
    "\n",
    "# Adpative Ridge\n",
    "adX_sprR = X @ np.diagflat((lm_spr.coef_**2)**(1/2))\n",
    "adX_dnsR = X @ np.diagflat((lm_dns.coef_**2)**(1/2))\n",
    "\n",
    "# Adpative Lasso\n",
    "# Here we are compute X^T (D^-1)^T\n",
    "test_adX_sprL = test_X @ np.diagflat(np.abs(lm_spr.coef_))\n",
    "test_adX_dnsL = test_X @ np.diagflat(np.abs(lm_dns.coef_))\n",
    "\n",
    "# Adpative Ridge\n",
    "test_adX_sprR = test_X @ np.diagflat((lm_spr.coef_**2)**(1/2))\n",
    "test_adX_dnsR = test_X @ np.diagflat((lm_dns.coef_**2)**(1/2))\n"
   ]
  },
  {
   "cell_type": "code",
   "execution_count": 46,
   "id": "encouraging-toyota",
   "metadata": {},
   "outputs": [],
   "source": [
    "lambda_rng = np.logspace(0,3,num=100)"
   ]
  },
  {
   "cell_type": "code",
   "execution_count": 47,
   "id": "marine-piano",
   "metadata": {},
   "outputs": [],
   "source": [
    "te,lmin,mse = lambda_ic(lambda_rng,  adX_sprR, Y_spr, test_adX_sprR, test_Y_spr, ic='bic')\n",
    "# adp_ridge_aic_mse_spr[i] += mse"
   ]
  },
  {
   "cell_type": "code",
   "execution_count": 48,
   "id": "involved-photographer",
   "metadata": {},
   "outputs": [
    {
     "data": {
      "text/plain": [
       "1.0"
      ]
     },
     "execution_count": 48,
     "metadata": {},
     "output_type": "execute_result"
    }
   ],
   "source": [
    "lmin"
   ]
  },
  {
   "cell_type": "code",
   "execution_count": 14,
   "id": "mineral-lying",
   "metadata": {},
   "outputs": [
    {
     "data": {
      "text/plain": [
       "(0.16422962265292174, 0.5025125628140703, 0.07049832448580826)"
      ]
     },
     "execution_count": 14,
     "metadata": {},
     "output_type": "execute_result"
    }
   ],
   "source": [
    "lambda_ic(lambda_rng,  adX_sprR, Y_spr, test_adX_sprR, test_Y_spr, ic='aic')"
   ]
  },
  {
   "cell_type": "code",
   "execution_count": 15,
   "id": "built-wheel",
   "metadata": {},
   "outputs": [
    {
     "data": {
      "text/plain": [
       "(0.16422962265292174, 0.5025125628140703, 0.07049832448580826)"
      ]
     },
     "execution_count": 15,
     "metadata": {},
     "output_type": "execute_result"
    }
   ],
   "source": [
    "lambda_ic(lambda_rng,  adX_sprR, Y_spr, test_adX_sprR, test_Y_spr, ic='bic')"
   ]
  },
  {
   "cell_type": "code",
   "execution_count": null,
   "id": "metallic-tower",
   "metadata": {},
   "outputs": [],
   "source": []
  }
 ],
 "metadata": {
  "kernelspec": {
   "display_name": "Python 3",
   "language": "python",
   "name": "python3"
  },
  "language_info": {
   "codemirror_mode": {
    "name": "ipython",
    "version": 3
   },
   "file_extension": ".py",
   "mimetype": "text/x-python",
   "name": "python",
   "nbconvert_exporter": "python",
   "pygments_lexer": "ipython3",
   "version": "3.8.5"
  }
 },
 "nbformat": 4,
 "nbformat_minor": 5
}
