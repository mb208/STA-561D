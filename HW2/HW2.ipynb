{
 "cells": [
  {
   "cell_type": "markdown",
   "metadata": {},
   "source": [
    "# HW 3\n",
    "- Author: Marc Brooks\n",
    "- NetID: mgb45"
   ]
  },
  {
   "cell_type": "markdown",
   "metadata": {},
   "source": [
    "## 1.) (Hard-thresholding)"
   ]
  },
  {
   "cell_type": "code",
   "execution_count": null,
   "metadata": {},
   "outputs": [],
   "source": []
  },
  {
   "cell_type": "code",
   "execution_count": null,
   "metadata": {},
   "outputs": [],
   "source": []
  },
  {
   "cell_type": "code",
   "execution_count": null,
   "metadata": {},
   "outputs": [],
   "source": []
  },
  {
   "cell_type": "code",
   "execution_count": null,
   "metadata": {},
   "outputs": [],
   "source": []
  },
  {
   "cell_type": "code",
   "execution_count": null,
   "metadata": {},
   "outputs": [],
   "source": []
  },
  {
   "cell_type": "markdown",
   "metadata": {},
   "source": [
    "## 2. (Great British Bake-off)"
   ]
  },
  {
   "cell_type": "code",
   "execution_count": 68,
   "metadata": {},
   "outputs": [],
   "source": [
    "# importing required packages\n",
    "import numpy as np\n",
    "import pandas as pd\n",
    "import itertools\n",
    "\n",
    "from sklearn.metrics import mean_squared_error\n",
    "from sklearn.linear_model import LassoLarsIC, LassoLarsCV, RidgeCV, LinearRegression\n",
    "from sklearn.model_selection import cross_val_score, LeaveOneOut\n",
    "\n",
    "import warnings\n",
    "warnings.filterwarnings(\"ignore\")"
   ]
  },
  {
   "cell_type": "markdown",
   "metadata": {},
   "source": [
    "## (a)"
   ]
  },
  {
   "cell_type": "markdown",
   "metadata": {},
   "source": [
    "First, since $\\epsilon$ and $\\textbf{X}$ are independent we can see that: \n",
    "$$\n",
    "\\begin{align}\n",
    "\\text{Var}(Y) &= \\text{Var}(\\textbf{X}^{T}\\beta^{*} + \\epsilon) \\\\\n",
    "&= \\text{Var}(\\textbf{X}^{T}\\beta^{*}) + \\text{Var}(\\epsilon) \\\\\n",
    "&= \\beta^{*T}\\Sigma(\\rho)\\beta^{*} + \\sigma^2 \n",
    "\\end{align}\n",
    "$$\n",
    "\n",
    "Furthmore, we recognize $P(Y - \\textbf{X}^{T}\\beta^{*})^{2} = P\\epsilon^{2}$ as the expected squared residuals.\n",
    "Since $P\\epsilon = 0$ then $P\\epsilon^2 = \\sigma^2$ and $P(Y - \\textbf{X}^{T}\\beta^{*})^{2} = \\sigma^2$.\n",
    "\n",
    "\n",
    "Thus,\n",
    "$$\n",
    "\\begin{align}\n",
    "R^{2} &= 1 - \\frac{P(Y - \\textbf{X}^{T}\\beta^{*})^{2}}{\\text{Var}(Y)} \\\\\n",
    "&= 1 - \\frac{\\sigma^2}{\\beta^{*T}\\Sigma(\\rho)\\beta^{*} + \\sigma^2}\n",
    "\\end{align}\n",
    "$$"
   ]
  },
  {
   "cell_type": "markdown",
   "metadata": {},
   "source": [
    "## (b)"
   ]
  },
  {
   "cell_type": "markdown",
   "metadata": {},
   "source": [
    "Setting $R^2 = .8$ we can solve for $\\sigma^2$ as follows.\n",
    "\n",
    "$$\n",
    "\\begin{align}\n",
    ".8 &= 1 - \\frac{\\sigma^2}{\\beta^{*T}\\Sigma(\\rho)\\beta^{*} + \\sigma^2} \\\\\n",
    ".2 &= \\frac{\\sigma^2}{\\beta^{*T}\\Sigma(\\rho)\\beta^{*} + \\sigma^2} \\\\\n",
    "\\sigma^2 &= .2(\\beta^{*T}\\Sigma(\\rho)\\beta^{*} + \\sigma^2)  \\\\\n",
    ".8\\sigma^2 &= .2(\\beta^{*T}\\Sigma(\\rho)\\beta^{*})  \\\\\n",
    "\\sigma^2 &= .25(\\beta^{*T}\\Sigma(\\rho)\\beta^{*}) \n",
    "\\end{align}\n",
    "$$"
   ]
  },
  {
   "cell_type": "code",
   "execution_count": 2,
   "metadata": {},
   "outputs": [],
   "source": [
    "n = 100\n",
    "p = [10, 25, 50]\n",
    "rho = [0, .25, .5]"
   ]
  },
  {
   "cell_type": "markdown",
   "metadata": {},
   "source": [
    "Generating data sets with sparse signal"
   ]
  },
  {
   "cell_type": "code",
   "execution_count": 5,
   "metadata": {},
   "outputs": [],
   "source": [
    "rho = .25\n",
    "p=10\n",
    "n = 100"
   ]
  },
  {
   "cell_type": "code",
   "execution_count": 6,
   "metadata": {},
   "outputs": [],
   "source": [
    "beta_sp = np.fromfunction(lambda j,_: (2/np.sqrt(n))*(j+1 <= np.sqrt(p)), (p,1))"
   ]
  },
  {
   "cell_type": "code",
   "execution_count": 7,
   "metadata": {},
   "outputs": [],
   "source": [
    "beta_dns =  np.fromfunction(lambda j,_: (5/(j+1)*np.sqrt(n)), (p,1))"
   ]
  },
  {
   "cell_type": "code",
   "execution_count": 8,
   "metadata": {},
   "outputs": [],
   "source": [
    "Sigma_p = np.fromfunction(lambda i,j: rho**(np.abs(i-j)), (p,p))"
   ]
  },
  {
   "cell_type": "code",
   "execution_count": 9,
   "metadata": {},
   "outputs": [],
   "source": [
    "sigma2_spr = beta_sp.T @ Sigma_p @ beta_sp\n",
    "sigma2_dns = beta_dns.T @ Sigma_p @ beta_dns"
   ]
  },
  {
   "cell_type": "code",
   "execution_count": 10,
   "metadata": {},
   "outputs": [],
   "source": [
    "epsilon_spr = np.random.normal(loc=0, scale=sigma2_spr)\n",
    "epsilon_dns = np.random.normal(loc=0, scale=sigma2_dns)"
   ]
  },
  {
   "cell_type": "code",
   "execution_count": 11,
   "metadata": {},
   "outputs": [],
   "source": [
    "X = np.random.multivariate_normal(mean = np.zeros(p), cov = Sigma_p, size = n)"
   ]
  },
  {
   "cell_type": "code",
   "execution_count": 12,
   "metadata": {},
   "outputs": [],
   "source": [
    "Y_spr =  X @ beta_sp + epsilon_spr\n",
    "Y_dns =  X @ beta_dns + epsilon_dns"
   ]
  },
  {
   "cell_type": "code",
   "execution_count": 13,
   "metadata": {},
   "outputs": [
    {
     "data": {
      "text/plain": [
       "LassoLarsIC()"
      ]
     },
     "execution_count": 13,
     "metadata": {},
     "output_type": "execute_result"
    }
   ],
   "source": [
    "lasso_aic = LassoLarsIC(criterion='aic')\n",
    "lasso_aic.fit(X,Y_spr.reshape(n,))"
   ]
  },
  {
   "cell_type": "code",
   "execution_count": 14,
   "metadata": {},
   "outputs": [
    {
     "data": {
      "text/plain": [
       "1.0"
      ]
     },
     "execution_count": 14,
     "metadata": {},
     "output_type": "execute_result"
    }
   ],
   "source": [
    "lasso_aic.score(X, Y_spr)"
   ]
  },
  {
   "cell_type": "code",
   "execution_count": 15,
   "metadata": {},
   "outputs": [
    {
     "data": {
      "text/plain": [
       "1.5789929242053192e-31"
      ]
     },
     "execution_count": 15,
     "metadata": {},
     "output_type": "execute_result"
    }
   ],
   "source": [
    "mean_squared_error(Y_spr, lasso_aic.predict(X))"
   ]
  },
  {
   "cell_type": "code",
   "execution_count": 62,
   "metadata": {},
   "outputs": [
    {
     "data": {
      "text/plain": [
       "LeaveOneOut()"
      ]
     },
     "execution_count": 62,
     "metadata": {},
     "output_type": "execute_result"
    }
   ],
   "source": [
    "\n",
    "loo = LeaveOneOut()\n",
    "loo"
   ]
  },
  {
   "cell_type": "code",
   "execution_count": 58,
   "metadata": {},
   "outputs": [
    {
     "data": {
      "text/plain": [
       "LassoLarsCV(cv=LeaveOneOut())"
      ]
     },
     "execution_count": 58,
     "metadata": {},
     "output_type": "execute_result"
    }
   ],
   "source": [
    "lasso_loo = LassoLarsCV(cv=loo)\n",
    "lasso_loo.fit(X,Y_spr.reshape(n,))"
   ]
  },
  {
   "cell_type": "code",
   "execution_count": 18,
   "metadata": {},
   "outputs": [],
   "source": [
    "lm_spr = LinearRegression().fit(X, Y_spr)"
   ]
  },
  {
   "cell_type": "code",
   "execution_count": 19,
   "metadata": {},
   "outputs": [
    {
     "data": {
      "text/plain": [
       "array([[ 0.2,  0.2,  0.2,  0. , -0. ,  0. ,  0. ,  0. , -0. , -0. ]])"
      ]
     },
     "execution_count": 19,
     "metadata": {},
     "output_type": "execute_result"
    }
   ],
   "source": [
    "lm_spr.coef_.round(5)"
   ]
  },
  {
   "cell_type": "code",
   "execution_count": 20,
   "metadata": {},
   "outputs": [
    {
     "data": {
      "text/plain": [
       "array([[5.00000000e+00, 5.00000000e+00, 5.00000000e+00, 3.29263346e+16,\n",
       "        3.97496533e+15, 2.51196132e+19, 4.96353618e+16, 1.22316420e+16,\n",
       "        1.47395290e+16, 9.57335477e+15]])"
      ]
     },
     "execution_count": 20,
     "metadata": {},
     "output_type": "execute_result"
    }
   ],
   "source": [
    "1/(lm_spr.coef_**2)**(1/2)"
   ]
  },
  {
   "cell_type": "code",
   "execution_count": 73,
   "metadata": {},
   "outputs": [
    {
     "data": {
      "text/plain": [
       "(100, 10)"
      ]
     },
     "execution_count": 73,
     "metadata": {},
     "output_type": "execute_result"
    }
   ],
   "source": [
    "X.shape"
   ]
  },
  {
   "cell_type": "code",
   "execution_count": 79,
   "metadata": {},
   "outputs": [
    {
     "data": {
      "text/plain": [
       "(100, 10)"
      ]
     },
     "execution_count": 79,
     "metadata": {},
     "output_type": "execute_result"
    }
   ],
   "source": [
    "(X @ np.diagflat(np.abs(lm_spr.coef_))).shape"
   ]
  },
  {
   "cell_type": "code",
   "execution_count": 7,
   "metadata": {},
   "outputs": [],
   "source": [
    "labels = ['lasso']*3 + ['adpt lasso']*3 + ['ridge']*3 + ['adpt ridge']*3\n",
    "tunings = ['AIC', 'BIC', 'LOO-CV']*4\n",
    "labs = [labels[i] + ' ' + tunings[i] for i in range(len(labels))]"
   ]
  },
  {
   "cell_type": "code",
   "execution_count": 15,
   "metadata": {},
   "outputs": [],
   "source": [
    "emse_table = pd.DataFrame(itertools.product(['sparse', 'dense'], \n",
    "              None                 labs,\n",
    "                               [10,25,50],\n",
    "                               [0,.25,.5]), \n",
    "             columns=['signal','Method-Tuning', 'p', 'rho'])\n",
    "\n",
    "emse_table['mse'] = None"
   ]
  },
  {
   "cell_type": "code",
   "execution_count": 16,
   "metadata": {},
   "outputs": [
    {
     "data": {
      "text/html": [
       "<div>\n",
       "<style scoped>\n",
       "    .dataframe tbody tr th:only-of-type {\n",
       "        vertical-align: middle;\n",
       "    }\n",
       "\n",
       "    .dataframe tbody tr th {\n",
       "        vertical-align: top;\n",
       "    }\n",
       "\n",
       "    .dataframe thead th {\n",
       "        text-align: right;\n",
       "    }\n",
       "</style>\n",
       "<table border=\"1\" class=\"dataframe\">\n",
       "  <thead>\n",
       "    <tr style=\"text-align: right;\">\n",
       "      <th></th>\n",
       "      <th>signal</th>\n",
       "      <th>Method-Tuning</th>\n",
       "      <th>p</th>\n",
       "      <th>rho</th>\n",
       "      <th>mse</th>\n",
       "    </tr>\n",
       "  </thead>\n",
       "  <tbody>\n",
       "    <tr>\n",
       "      <th>0</th>\n",
       "      <td>sparse</td>\n",
       "      <td>lasso AIC</td>\n",
       "      <td>10</td>\n",
       "      <td>0.00</td>\n",
       "      <td>None</td>\n",
       "    </tr>\n",
       "    <tr>\n",
       "      <th>1</th>\n",
       "      <td>sparse</td>\n",
       "      <td>lasso AIC</td>\n",
       "      <td>10</td>\n",
       "      <td>0.25</td>\n",
       "      <td>None</td>\n",
       "    </tr>\n",
       "    <tr>\n",
       "      <th>2</th>\n",
       "      <td>sparse</td>\n",
       "      <td>lasso AIC</td>\n",
       "      <td>10</td>\n",
       "      <td>0.50</td>\n",
       "      <td>None</td>\n",
       "    </tr>\n",
       "    <tr>\n",
       "      <th>3</th>\n",
       "      <td>sparse</td>\n",
       "      <td>lasso AIC</td>\n",
       "      <td>25</td>\n",
       "      <td>0.00</td>\n",
       "      <td>None</td>\n",
       "    </tr>\n",
       "    <tr>\n",
       "      <th>4</th>\n",
       "      <td>sparse</td>\n",
       "      <td>lasso AIC</td>\n",
       "      <td>25</td>\n",
       "      <td>0.25</td>\n",
       "      <td>None</td>\n",
       "    </tr>\n",
       "    <tr>\n",
       "      <th>...</th>\n",
       "      <td>...</td>\n",
       "      <td>...</td>\n",
       "      <td>...</td>\n",
       "      <td>...</td>\n",
       "      <td>...</td>\n",
       "    </tr>\n",
       "    <tr>\n",
       "      <th>211</th>\n",
       "      <td>dense</td>\n",
       "      <td>adpt ridge LOO-CV</td>\n",
       "      <td>25</td>\n",
       "      <td>0.25</td>\n",
       "      <td>None</td>\n",
       "    </tr>\n",
       "    <tr>\n",
       "      <th>212</th>\n",
       "      <td>dense</td>\n",
       "      <td>adpt ridge LOO-CV</td>\n",
       "      <td>25</td>\n",
       "      <td>0.50</td>\n",
       "      <td>None</td>\n",
       "    </tr>\n",
       "    <tr>\n",
       "      <th>213</th>\n",
       "      <td>dense</td>\n",
       "      <td>adpt ridge LOO-CV</td>\n",
       "      <td>50</td>\n",
       "      <td>0.00</td>\n",
       "      <td>None</td>\n",
       "    </tr>\n",
       "    <tr>\n",
       "      <th>214</th>\n",
       "      <td>dense</td>\n",
       "      <td>adpt ridge LOO-CV</td>\n",
       "      <td>50</td>\n",
       "      <td>0.25</td>\n",
       "      <td>None</td>\n",
       "    </tr>\n",
       "    <tr>\n",
       "      <th>215</th>\n",
       "      <td>dense</td>\n",
       "      <td>adpt ridge LOO-CV</td>\n",
       "      <td>50</td>\n",
       "      <td>0.50</td>\n",
       "      <td>None</td>\n",
       "    </tr>\n",
       "  </tbody>\n",
       "</table>\n",
       "<p>216 rows × 5 columns</p>\n",
       "</div>"
      ],
      "text/plain": [
       "     signal      Method-Tuning   p   rho   mse\n",
       "0    sparse          lasso AIC  10  0.00  None\n",
       "1    sparse          lasso AIC  10  0.25  None\n",
       "2    sparse          lasso AIC  10  0.50  None\n",
       "3    sparse          lasso AIC  25  0.00  None\n",
       "4    sparse          lasso AIC  25  0.25  None\n",
       "..      ...                ...  ..   ...   ...\n",
       "211   dense  adpt ridge LOO-CV  25  0.25  None\n",
       "212   dense  adpt ridge LOO-CV  25  0.50  None\n",
       "213   dense  adpt ridge LOO-CV  50  0.00  None\n",
       "214   dense  adpt ridge LOO-CV  50  0.25  None\n",
       "215   dense  adpt ridge LOO-CV  50  0.50  None\n",
       "\n",
       "[216 rows x 5 columns]"
      ]
     },
     "execution_count": 16,
     "metadata": {},
     "output_type": "execute_result"
    }
   ],
   "source": [
    "emse_table"
   ]
  },
  {
   "cell_type": "code",
   "execution_count": 111,
   "metadata": {},
   "outputs": [],
   "source": [
    "U, D, V = np.linalg.svd(X, full_matrices=False)"
   ]
  },
  {
   "cell_type": "code",
   "execution_count": 112,
   "metadata": {},
   "outputs": [
    {
     "data": {
      "text/plain": [
       "(10,)"
      ]
     },
     "execution_count": 112,
     "metadata": {},
     "output_type": "execute_result"
    }
   ],
   "source": [
    "(D**2/(D**2 + .02)).shape"
   ]
  },
  {
   "cell_type": "code",
   "execution_count": 125,
   "metadata": {
    "collapsed": true
   },
   "outputs": [
    {
     "data": {
      "text/plain": [
       "array([[-0.12032482],\n",
       "       [ 0.65299965],\n",
       "       [-0.15502049],\n",
       "       [-0.19917645],\n",
       "       [-0.05998755],\n",
       "       [ 0.57136972],\n",
       "       [ 0.44384808],\n",
       "       [ 0.54306634],\n",
       "       [ 0.09496487],\n",
       "       [-0.85864191],\n",
       "       [ 0.07780335],\n",
       "       [-0.52612679],\n",
       "       [-0.7516899 ],\n",
       "       [-0.33650755],\n",
       "       [ 0.38243784],\n",
       "       [-0.556927  ],\n",
       "       [-0.24007669],\n",
       "       [ 1.37058865],\n",
       "       [-0.10725297],\n",
       "       [ 0.53195727],\n",
       "       [ 0.88450368],\n",
       "       [-0.84105139],\n",
       "       [ 0.81478276],\n",
       "       [-0.21927419],\n",
       "       [ 0.04208565],\n",
       "       [ 0.67693705],\n",
       "       [-0.19145329],\n",
       "       [-0.59865626],\n",
       "       [ 0.21910518],\n",
       "       [ 0.73046872],\n",
       "       [-0.16745336],\n",
       "       [ 0.13532716],\n",
       "       [ 0.39359962],\n",
       "       [ 0.66698155],\n",
       "       [-0.04222687],\n",
       "       [ 0.1163018 ],\n",
       "       [ 0.5509335 ],\n",
       "       [-0.3991371 ],\n",
       "       [ 0.3155339 ],\n",
       "       [ 0.66813726],\n",
       "       [-0.80002002],\n",
       "       [-0.47572198],\n",
       "       [-0.03634204],\n",
       "       [-0.01877347],\n",
       "       [-0.62404861],\n",
       "       [-0.27694451],\n",
       "       [ 0.16115295],\n",
       "       [-0.11390353],\n",
       "       [ 0.40265541],\n",
       "       [-0.43472687],\n",
       "       [-0.3480678 ],\n",
       "       [ 0.10194761],\n",
       "       [-0.07954318],\n",
       "       [-0.00976066],\n",
       "       [-0.0746507 ],\n",
       "       [ 0.05274339],\n",
       "       [-0.16870745],\n",
       "       [-0.89954582],\n",
       "       [-0.72265576],\n",
       "       [-0.06968763],\n",
       "       [-0.01892182],\n",
       "       [-0.00865214],\n",
       "       [-0.09935228],\n",
       "       [-0.51715598],\n",
       "       [ 0.16892715],\n",
       "       [ 0.09296429],\n",
       "       [ 0.60596993],\n",
       "       [ 0.08544534],\n",
       "       [ 0.02790393],\n",
       "       [-0.25279825],\n",
       "       [-0.77300756],\n",
       "       [ 0.16740778],\n",
       "       [ 0.58140457],\n",
       "       [-0.07853363],\n",
       "       [-0.48088617],\n",
       "       [ 0.15557013],\n",
       "       [ 0.00947802],\n",
       "       [ 0.13177168],\n",
       "       [ 0.85209022],\n",
       "       [-0.1727423 ],\n",
       "       [ 0.56408873],\n",
       "       [ 0.1494785 ],\n",
       "       [-0.18255996],\n",
       "       [ 0.14615996],\n",
       "       [ 0.1044161 ],\n",
       "       [ 0.15499708],\n",
       "       [ 0.60562073],\n",
       "       [ 0.0566269 ],\n",
       "       [ 0.35350679],\n",
       "       [-0.14277838],\n",
       "       [-0.06234262],\n",
       "       [-0.55201858],\n",
       "       [-0.23379603],\n",
       "       [ 0.32412717],\n",
       "       [ 0.20866266],\n",
       "       [-0.7939421 ],\n",
       "       [-0.51321632],\n",
       "       [-0.01797008],\n",
       "       [-0.23487394],\n",
       "       [-0.44748838]])"
      ]
     },
     "execution_count": 125,
     "metadata": {},
     "output_type": "execute_result"
    }
   ],
   "source": [
    "(U @ np.diag(D**2/(D**2 + .02)) @ U.T) @ Y_spr"
   ]
  },
  {
   "cell_type": "code",
   "execution_count": 127,
   "metadata": {},
   "outputs": [],
   "source": [
    "def lambda_bic(lambs, design_mat, Y_mat):\n",
    "    U, D, V = np.linalg.svd(design_mat, full_matrices=False)\n",
    "    \n",
    "    max_i = np.argmax([mean_squared_error(Y_mat, (U @ np.diag(D**2/(D**2 + l)) @ U.T) @ Y_mat) for l in lambs])\n",
    "    return lambds[max_i]\n",
    "        \n",
    "    \n",
    "    \n",
    "    "
   ]
  },
  {
   "cell_type": "code",
   "execution_count": null,
   "metadata": {},
   "outputs": [],
   "source": [
    "lambda_bic(np.linspace(0,1,.01), X, Y_spr)"
   ]
  },
  {
   "cell_type": "code",
   "execution_count": 100,
   "metadata": {},
   "outputs": [],
   "source": [
    "? np.linalg.svd"
   ]
  },
  {
   "cell_type": "code",
   "execution_count": null,
   "metadata": {},
   "outputs": [
    {
     "name": "stdout",
     "output_type": "stream",
     "text": [
      "10 0\n"
     ]
    }
   ],
   "source": [
    "n = 100\n",
    "for p,rho in itertools.product([10,25,50],[0,.25,.5]):\n",
    "    print(p,rho)\n",
    "    # Generate data\n",
    "    beta_spr = np.fromfunction(lambda j,_: (2/np.sqrt(n))*(j+1 <= np.sqrt(p)), (p,1))\n",
    "    beta_dns =  np.fromfunction(lambda j,_: (5/(j+1)*np.sqrt(n)), (p,1))\n",
    "\n",
    "    Sigma_p = np.fromfunction(lambda i,j: rho**(np.abs(i-j)), (p,p))\n",
    "    sigma2_spr = .25*(beta_spr.T @ Sigma_p @ beta_spr)\n",
    "    sigma2_dns = .25*(beta_dns.T @ Sigma_p @ beta_dns)\n",
    "    \n",
    "    # Sparse Signal\n",
    "    lasso_aic_mse_spr = []\n",
    "    lasso_bic_mse_spr = []\n",
    "    lasso_loocv_mse_spr = []\n",
    "    adp_lasso_aic_mse_spr = []\n",
    "    adp_lasso_bic_mse_spr = []\n",
    "    adp_lasso_loocv_mse_spr = []\n",
    "    \n",
    "    ridge_aic_mse_spr = []\n",
    "    ridge_bic_mse_spr = []\n",
    "    ridge_loocv_mse_spr = []\n",
    "    adp_ridge_aic_mse_spr = []\n",
    "    adp_ridge_bic_mse_spr = []\n",
    "    adp_ridge_loocv_mse_spr =[]\n",
    "    \n",
    "    # Dense Signal \n",
    "    lasso_aic_mse_dns = []\n",
    "    lasso_bic_mse_dns = []\n",
    "    lasso_loocv_mse_dns = []\n",
    "    adp_lasso_aic_mse_dns = []\n",
    "    adp_lasso_bic_mse_dns = []\n",
    "    adp_lasso_loocv_mse_dns = []\n",
    "    \n",
    "    ridge_aic_mse_dns = []\n",
    "    ridge_bic_mse_dns = []\n",
    "    ridge_loocv_mse_dns = []\n",
    "    adp_ridge_aic_mse_dns = []\n",
    "    adp_ridge_bic_mse_dns = []\n",
    "    adp_ridge_loocv_mse_dns = []\n",
    "    \n",
    "    \n",
    "    for _ in range (1000):\n",
    "        # Create Dataset\n",
    "        epsilon_spr = np.random.normal(loc=0, scale=sigma2_spr)\n",
    "        epsilon_dns = np.random.normal(loc=0, scale=sigma2_dns)\n",
    "\n",
    "        X = np.random.multivariate_normal(mean = np.zeros(p), cov = Sigma_p, size = n)\n",
    "\n",
    "        Y_spr =  X @ beta_sp + epsilon_spr\n",
    "        Y_dns =  X @ beta_dns + epsilon_dns\n",
    "        \n",
    "        #For addpative regressions\n",
    "        lm_spr = LinearRegression().fit(X, Y_spr)\n",
    "        lm_dns = LinearRegression().fit(X, Y_dns)\n",
    "        \n",
    "        # Adpative Lasso\n",
    "        # Here we are compute X^T (D^-1)^T\n",
    "        adX_sprL = X @ np.diagflat(np.abs(lm_spr.coef_))\n",
    "        adX_dnsL = X @ np.diagflat(np.abs(lm_dns.coef_))\n",
    "        \n",
    "        # Adpative Ridge\n",
    "        adX_spr_Rd = X @ np.diagflat((lm_spr.coef_**2)**(1/2))\n",
    "        adX_dns_Rd = X @ np.diagflat((lm_dns.coef_**2)**(1/2))\n",
    "        \n",
    "        # For LOO-CV\n",
    "        loo = LeaveOneOut()\n",
    "    \n",
    "        # Calculate Lassos\n",
    "        # AIC\n",
    "        # Sparse\n",
    "        lasso_aic_spr = LassoLarsIC(criterion='aic')\n",
    "        lasso_aic_spr.fit(X, Y_spr)\n",
    "        lasso_aic_mse_spr.append(mean_squared_error(Y_spr, lasso_aic_spr.predict(X)))\n",
    "        # Dense\n",
    "        lasso_aic_dns = LassoLarsIC(criterion='aic')\n",
    "        lasso_aic_dns.fit(X, Y_dns)\n",
    "        lasso_aic_mse_dns.append(mean_squared_error(Y_dns, lasso_aic_dns.predict(X)))\n",
    "        #BIC\n",
    "        # Sparse\n",
    "        lasso_bic_spr = LassoLarsIC(criterion='bic')\n",
    "        lasso_bic_spr.fit(X, Y_spr)\n",
    "        lasso_bic_mse_spr.append(mean_squared_error(Y_spr, lasso_bic_spr.predict(X)))\n",
    "        # Dense\n",
    "        lasso_bic_dns = LassoLarsIC(criterion='bic')\n",
    "        lasso_bic_dns.fit(X, Y_dns)\n",
    "        lasso_bic_mse_dns.append(mean_squared_error(Y_dns, lasso_bic_dns.predict(X)))\n",
    "        #LOO-CV\n",
    "        # Sparse\n",
    "        lasso_loo_spr = LassoLarsCV(cv=loo)\n",
    "        lasso_loo_spr.fit(X, Y_spr)\n",
    "        lasso_loocv_mse_spr.append(mean_squared_error(Y_spr, lasso_loo_spr.predict(X)))\n",
    "        # Dense\n",
    "        lasso_loo_dns = LassoLarsCV(cv=loo)\n",
    "        lasso_loo_dns.fit(X, Y_dns)\n",
    "        lasso_loocv_mse_spr.append(mean_squared_error(Y_dns, lasso_loo_dns.predict(X)))\n",
    "\n",
    "        #Adaptive Lasso\n",
    "        # AIC\n",
    "        # Sparse\n",
    "        adp_lasso_aic_spr = LassoLarsIC(criterion='aic')\n",
    "        adp_lasso_aic_spr.fit(adX_sprL, Y_spr)\n",
    "        adp_lasso_aic_mse_spr.append(mean_squared_error(Y_spr, adp_lasso_aic_spr.predict(adX_sprL)))\n",
    "        # Dense\n",
    "        adp_lasso_aic_dns = LassoLarsIC(criterion='aic')\n",
    "        adp_lasso_aic_dns.fit(adX_dnsL, Y_dns)\n",
    "        adp_lasso_aic_mse_dns.append(mean_squared_error(Y_dns, adp_lasso_aic_dns.predict(adX_dnsL)))\n",
    "        #BIC\n",
    "        # Sparse\n",
    "        adp_lasso_bic_spr = LassoLarsIC(criterion='bic')\n",
    "        adp_lasso_bic_spr.fit(adX_sprL, Y_spr)\n",
    "        adp_lasso_bic_mse_spr.append(mean_squared_error(Y_spr, adp_lasso_bic_spr.predict(adX_sprL)))\n",
    "        # Dense\n",
    "        adp_lasso_bic_dns = LassoLarsIC(criterion='bic')\n",
    "        adp_lasso_bic_dns.fit(adX_dnsL, Y_dns)\n",
    "        adp_lasso_bic_mse_dns.append(mean_squared_error(Y_dns, adp_lasso_bic_dns.predict(adX_dnsL)))\n",
    "        #LOO-CV\n",
    "        # Sparse\n",
    "        adp_lasso_loo_spr = LassoLarsCV(cv=loo)\n",
    "        adp_lasso_loo_spr.fit(adX_sprL, Y_spr)\n",
    "        adp_lasso_loocv_mse_spr.append(mean_squared_error(Y_spr, adp_lasso_loo_spr.predict(adX_sprL)))\n",
    "        # Dense\n",
    "        adp_lasso_loo_dns = LassoLarsCV(cv=loo)\n",
    "        adp_lasso_loo_dns.fit(adX_dnsL, Y_dns)\n",
    "        adp_lasso_loocv_mse_dns.append(mean_squared_error(Y_dns, adp_lasso_loo_dns.predict(adX_dnsL)))\n",
    "\n",
    "\n",
    "        # Calculate Ridge\n",
    "        # AIC\n",
    "\n",
    "        #BIC\n",
    "\n",
    "        #LOO-CV\n",
    "\n",
    "        #Adaptive Ridge\n",
    "        # AIC\n",
    "\n",
    "        # BIC\n",
    "\n",
    "        # LOO-CV\n"
   ]
  },
  {
   "cell_type": "code",
   "execution_count": 37,
   "metadata": {},
   "outputs": [],
   "source": [
    "n= 100\n",
    "p = 10\n",
    "rho = .25\n",
    "beta_spr = np.fromfunction(lambda j,_: (2/np.sqrt(n))*(j+1 <= np.sqrt(p)), (p,1))\n",
    "\n",
    "Sigma_p = np.fromfunction(lambda i,j: rho**(np.abs(i-j)), (p,p))\n",
    "sigma2_spr = .25*(beta_spr.T @ Sigma_p @ beta_spr)\n",
    "\n",
    "epsilon_spr = np.random.normal(loc=0, scale=sigma2_spr)\n",
    "\n",
    "X = np.random.multivariate_normal(mean = np.zeros(p), cov = Sigma_p, size = n)\n",
    "\n",
    "Y_spr =  X @ beta_sp + epsilon_spr\n",
    "\n",
    "\n",
    "lasso_aic_spr = LassoLarsIC(criterion='aic')\n",
    "x = lasso_aic_spr.fit(X, Y_spr.ravel())"
   ]
  },
  {
   "cell_type": "code",
   "execution_count": 39,
   "metadata": {},
   "outputs": [],
   "source": [
    " #For addpative regressions\n",
    "lm_spr = LinearRegression().fit(X, Y_spr)\n",
    "lm_dns = LinearRegression().fit(X, Y_dns)\n",
    "        \n",
    "        # Adpative Lasso\n",
    "        # Here we are compute X^T (D^-1)^T\n",
    "adX_sprL = X @ np.diagflat(np.abs(lm_spr.coef_))\n",
    "adX_dnsL = X @ np.diagflat(np.abs(lm_dns.coef_))\n",
    "        \n",
    "        # Adpative Ridge\n",
    "adX_spr_Rd = X @ np.diagflat((lm_spr.coef_**2)**(1/2))\n",
    "adX_dns_Rd = X @ np.diagflat((lm_dns.coef_**2)**(1/2)) "
   ]
  },
  {
   "cell_type": "code",
   "execution_count": 40,
   "metadata": {},
   "outputs": [
    {
     "data": {
      "text/plain": [
       "array([[ 2.00000000e-01,  2.00000000e-01,  2.00000000e-01,\n",
       "         2.41351772e-17,  1.81752026e-17, -1.92174004e-17,\n",
       "        -9.49103888e-17, -1.79067230e-16, -1.83295070e-16,\n",
       "        -8.29886526e-17]])"
      ]
     },
     "execution_count": 40,
     "metadata": {},
     "output_type": "execute_result"
    }
   ],
   "source": [
    "lm_spr.coef_"
   ]
  },
  {
   "cell_type": "code",
   "execution_count": 41,
   "metadata": {},
   "outputs": [
    {
     "data": {
      "text/plain": [
       "array([[2.00000000e-01, 0.00000000e+00, 0.00000000e+00, 0.00000000e+00,\n",
       "        0.00000000e+00, 0.00000000e+00, 0.00000000e+00, 0.00000000e+00,\n",
       "        0.00000000e+00, 0.00000000e+00],\n",
       "       [0.00000000e+00, 2.00000000e-01, 0.00000000e+00, 0.00000000e+00,\n",
       "        0.00000000e+00, 0.00000000e+00, 0.00000000e+00, 0.00000000e+00,\n",
       "        0.00000000e+00, 0.00000000e+00],\n",
       "       [0.00000000e+00, 0.00000000e+00, 2.00000000e-01, 0.00000000e+00,\n",
       "        0.00000000e+00, 0.00000000e+00, 0.00000000e+00, 0.00000000e+00,\n",
       "        0.00000000e+00, 0.00000000e+00],\n",
       "       [0.00000000e+00, 0.00000000e+00, 0.00000000e+00, 2.41351772e-17,\n",
       "        0.00000000e+00, 0.00000000e+00, 0.00000000e+00, 0.00000000e+00,\n",
       "        0.00000000e+00, 0.00000000e+00],\n",
       "       [0.00000000e+00, 0.00000000e+00, 0.00000000e+00, 0.00000000e+00,\n",
       "        1.81752026e-17, 0.00000000e+00, 0.00000000e+00, 0.00000000e+00,\n",
       "        0.00000000e+00, 0.00000000e+00],\n",
       "       [0.00000000e+00, 0.00000000e+00, 0.00000000e+00, 0.00000000e+00,\n",
       "        0.00000000e+00, 1.92174004e-17, 0.00000000e+00, 0.00000000e+00,\n",
       "        0.00000000e+00, 0.00000000e+00],\n",
       "       [0.00000000e+00, 0.00000000e+00, 0.00000000e+00, 0.00000000e+00,\n",
       "        0.00000000e+00, 0.00000000e+00, 9.49103888e-17, 0.00000000e+00,\n",
       "        0.00000000e+00, 0.00000000e+00],\n",
       "       [0.00000000e+00, 0.00000000e+00, 0.00000000e+00, 0.00000000e+00,\n",
       "        0.00000000e+00, 0.00000000e+00, 0.00000000e+00, 1.79067230e-16,\n",
       "        0.00000000e+00, 0.00000000e+00],\n",
       "       [0.00000000e+00, 0.00000000e+00, 0.00000000e+00, 0.00000000e+00,\n",
       "        0.00000000e+00, 0.00000000e+00, 0.00000000e+00, 0.00000000e+00,\n",
       "        1.83295070e-16, 0.00000000e+00],\n",
       "       [0.00000000e+00, 0.00000000e+00, 0.00000000e+00, 0.00000000e+00,\n",
       "        0.00000000e+00, 0.00000000e+00, 0.00000000e+00, 0.00000000e+00,\n",
       "        0.00000000e+00, 8.29886526e-17]])"
      ]
     },
     "execution_count": 41,
     "metadata": {},
     "output_type": "execute_result"
    }
   ],
   "source": [
    "np.diagflat(np.abs(lm_spr.coef_))"
   ]
  },
  {
   "cell_type": "code",
   "execution_count": 43,
   "metadata": {},
   "outputs": [],
   "source": [
    "x = []"
   ]
  },
  {
   "cell_type": "code",
   "execution_count": 54,
   "metadata": {},
   "outputs": [
    {
     "data": {
      "text/plain": [
       "[5, 5, 5, 5, 5, 5, 5, 5, 5, 5, 5]"
      ]
     },
     "execution_count": 54,
     "metadata": {},
     "output_type": "execute_result"
    }
   ],
   "source": [
    "x.append(5)\n",
    "x"
   ]
  }
 ],
 "metadata": {
  "kernelspec": {
   "display_name": "Python 3",
   "language": "python",
   "name": "python3"
  },
  "language_info": {
   "codemirror_mode": {
    "name": "ipython",
    "version": 3
   },
   "file_extension": ".py",
   "mimetype": "text/x-python",
   "name": "python",
   "nbconvert_exporter": "python",
   "pygments_lexer": "ipython3",
   "version": "3.8.5"
  }
 },
 "nbformat": 4,
 "nbformat_minor": 5
}
