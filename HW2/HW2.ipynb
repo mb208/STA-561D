{
 "cells": [
  {
   "cell_type": "markdown",
   "id": "compatible-circular",
   "metadata": {},
   "source": [
    "# HW 3\n",
    "- Author: Marc Brooks\n",
    "- NetID: mgb45"
   ]
  },
  {
   "cell_type": "markdown",
   "id": "early-frederick",
   "metadata": {},
   "source": [
    "## 1.) (Hard-thresholding)"
   ]
  },
  {
   "cell_type": "code",
   "execution_count": null,
   "id": "dying-houston",
   "metadata": {},
   "outputs": [],
   "source": []
  },
  {
   "cell_type": "code",
   "execution_count": null,
   "id": "cross-niagara",
   "metadata": {},
   "outputs": [],
   "source": []
  },
  {
   "cell_type": "code",
   "execution_count": null,
   "id": "experienced-macro",
   "metadata": {},
   "outputs": [],
   "source": []
  },
  {
   "cell_type": "code",
   "execution_count": null,
   "id": "similar-saturn",
   "metadata": {},
   "outputs": [],
   "source": []
  },
  {
   "cell_type": "code",
   "execution_count": null,
   "id": "balanced-concentration",
   "metadata": {},
   "outputs": [],
   "source": []
  },
  {
   "cell_type": "markdown",
   "id": "seven-feeling",
   "metadata": {},
   "source": [
    "## 2. (Great British Bake-off)"
   ]
  },
  {
   "cell_type": "code",
   "execution_count": 94,
   "id": "specified-fitting",
   "metadata": {},
   "outputs": [],
   "source": [
    "# importing required packages\n",
    "import numpy as np\n",
    "import pandas as pd\n",
    "import itertools\n",
    "\n",
    "from sklearn.metrics import mean_squared_error\n",
    "from sklearn.linear_model import LassoLarsIC, LassoLarsCV, RidgeCV, LinearRegression, Ridge\n",
    "from sklearn.model_selection import cross_val_score, LeaveOneOut\n",
    "from sklearn.preprocessing import StandardScaler\n",
    "\n",
    "import warnings\n",
    "warnings.filterwarnings(\"ignore\")"
   ]
  },
  {
   "cell_type": "markdown",
   "id": "monthly-syria",
   "metadata": {},
   "source": [
    "## (a)"
   ]
  },
  {
   "cell_type": "markdown",
   "id": "dirty-syndication",
   "metadata": {},
   "source": [
    "First, since $\\epsilon$ and $\\textbf{X}$ are independent we can see that: \n",
    "$$\n",
    "\\begin{align}\n",
    "\\text{Var}(Y) &= \\text{Var}(\\textbf{X}^{T}\\beta^{*} + \\epsilon) \\\\\n",
    "&= \\text{Var}(\\textbf{X}^{T}\\beta^{*}) + \\text{Var}(\\epsilon) \\\\\n",
    "&= \\beta^{*T}\\Sigma(\\rho)\\beta^{*} + \\sigma^2 \n",
    "\\end{align}\n",
    "$$\n",
    "\n",
    "Furthmore, we recognize $P(Y - \\textbf{X}^{T}\\beta^{*})^{2} = P\\epsilon^{2}$ as the expected squared residuals.\n",
    "Since $P\\epsilon = 0$ then $P\\epsilon^2 = \\sigma^2$ and $P(Y - \\textbf{X}^{T}\\beta^{*})^{2} = \\sigma^2$.\n",
    "\n",
    "\n",
    "Thus,\n",
    "$$\n",
    "\\begin{align}\n",
    "R^{2} &= 1 - \\frac{P(Y - \\textbf{X}^{T}\\beta^{*})^{2}}{\\text{Var}(Y)} \\\\\n",
    "&= 1 - \\frac{\\sigma^2}{\\beta^{*T}\\Sigma(\\rho)\\beta^{*} + \\sigma^2}\n",
    "\\end{align}\n",
    "$$"
   ]
  },
  {
   "cell_type": "markdown",
   "id": "median-observation",
   "metadata": {},
   "source": [
    "## (b)"
   ]
  },
  {
   "cell_type": "markdown",
   "id": "architectural-hollywood",
   "metadata": {},
   "source": [
    "Setting $R^2 = .8$ we can solve for $\\sigma^2$ as follows.\n",
    "\n",
    "$$\n",
    "\\begin{align}\n",
    ".8 &= 1 - \\frac{\\sigma^2}{\\beta^{*T}\\Sigma(\\rho)\\beta^{*} + \\sigma^2} \\\\\n",
    ".2 &= \\frac{\\sigma^2}{\\beta^{*T}\\Sigma(\\rho)\\beta^{*} + \\sigma^2} \\\\\n",
    "\\sigma^2 &= .2(\\beta^{*T}\\Sigma(\\rho)\\beta^{*} + \\sigma^2)  \\\\\n",
    ".8\\sigma^2 &= .2(\\beta^{*T}\\Sigma(\\rho)\\beta^{*})  \\\\\n",
    "\\sigma^2 &= .25(\\beta^{*T}\\Sigma(\\rho)\\beta^{*}) \n",
    "\\end{align}\n",
    "$$"
   ]
  },
  {
   "cell_type": "code",
   "execution_count": 8,
   "id": "major-subsection",
   "metadata": {},
   "outputs": [],
   "source": [
    "n = 100\n",
    "p = [10, 25, 50]\n",
    "rho = [0, .25, .5]"
   ]
  },
  {
   "cell_type": "markdown",
   "id": "enclosed-chart",
   "metadata": {},
   "source": [
    "Generating data sets with sparse signal"
   ]
  },
  {
   "cell_type": "code",
   "execution_count": 9,
   "id": "colonial-approval",
   "metadata": {},
   "outputs": [],
   "source": [
    "rho = .25\n",
    "p=10\n",
    "n = 100"
   ]
  },
  {
   "cell_type": "code",
   "execution_count": 10,
   "id": "wooden-adult",
   "metadata": {},
   "outputs": [],
   "source": [
    "beta_sp = np.fromfunction(lambda j,_: (2/np.sqrt(n))*(j+1 <= np.sqrt(p)), (p,1))"
   ]
  },
  {
   "cell_type": "code",
   "execution_count": 11,
   "id": "extended-wages",
   "metadata": {},
   "outputs": [],
   "source": [
    "beta_dns =  np.fromfunction(lambda j,_: (5/(j+1)*np.sqrt(n)), (p,1))"
   ]
  },
  {
   "cell_type": "code",
   "execution_count": 12,
   "id": "about-violin",
   "metadata": {},
   "outputs": [],
   "source": [
    "Sigma_p = np.fromfunction(lambda i,j: rho**(np.abs(i-j)), (p,p))"
   ]
  },
  {
   "cell_type": "code",
   "execution_count": 13,
   "id": "drawn-confidence",
   "metadata": {},
   "outputs": [],
   "source": [
    "sigma2_spr = beta_sp.T @ Sigma_p @ beta_sp\n",
    "sigma2_dns = beta_dns.T @ Sigma_p @ beta_dns"
   ]
  },
  {
   "cell_type": "code",
   "execution_count": 14,
   "id": "worth-machine",
   "metadata": {},
   "outputs": [],
   "source": [
    "epsilon_spr = np.random.normal(loc=0, scale=sigma2_spr)\n",
    "epsilon_dns = np.random.normal(loc=0, scale=sigma2_dns)"
   ]
  },
  {
   "cell_type": "code",
   "execution_count": 15,
   "id": "physical-entrance",
   "metadata": {},
   "outputs": [],
   "source": [
    "X50."
   ]
  },
  {
   "cell_type": "code",
   "execution_count": 16,
   "id": "executive-reduction",
   "metadata": {},
   "outputs": [],
   "source": [
    "Y_spr =  X @ beta_sp + epsilon_spr\n",
    "Y_dns =  X @ beta_dns + epsilon_dns"
   ]
  },
  {
   "cell_type": "code",
   "execution_count": 17,
   "id": "cheap-dining",
   "metadata": {},
   "outputs": [
    {
     "data": {
      "text/plain": [
       "LassoLarsIC()"
      ]
     },
     "execution_count": 17,
     "metadata": {},
     "output_type": "execute_result"
    }
   ],
   "source": [
    "lasso_aic = LassoLarsIC(criterion='aic')\n",
    "lasso_aic.fit(X,Y_spr.reshape(n,))"
   ]
  },
  {
   "cell_type": "code",
   "execution_count": 18,
   "id": "fantastic-mention",
   "metadata": {},
   "outputs": [
    {
     "data": {
      "text/plain": [
       "1.0"
      ]
     },
     "execution_count": 18,
     "metadata": {},
     "output_type": "execute_result"
    }
   ],
   "source": [
    "lasso_aic.score(X, Y_spr)"
   ]
  },
  {
   "cell_type": "code",
   "execution_count": 66,
   "id": "noted-flight",
   "metadata": {},
   "outputs": [
    {
     "data": {
      "text/plain": [
       "1.2433803720963995e-32"
      ]
     },
     "execution_count": 66,
     "metadata": {},
     "output_type": "execute_result"
    }
   ],
   "source": [
    "mean_squared_error(Y_spr, lasso_aic.predict(X))"
   ]
  },
  {
   "cell_type": "code",
   "execution_count": 67,
   "id": "sublime-ethics",
   "metadata": {},
   "outputs": [
    {
     "data": {
      "text/plain": [
       "LeaveOneOut()"
      ]
     },
     "execution_count": 67,
     "metadata": {},
     "output_type": "execute_result"
    }
   ],
   "source": [
    "\n",
    "loo = LeaveOneOut()\n",
    "loo"
   ]
  },
  {
   "cell_type": "code",
   "execution_count": 87,
   "id": "amino-floor",
   "metadata": {},
   "outputs": [
    {
     "name": "stdout",
     "output_type": "stream",
     "text": [
      "Wall time: 70 ms\n"
     ]
    },
    {
     "data": {
      "text/plain": [
       "LassoLarsCV(cv=LeaveOneOut())"
      ]
     },
     "execution_count": 87,
     "metadata": {},
     "output_type": "execute_result"
    }
   ],
   "source": [
    "%%time\n",
    "lasso_loo = LassoLarsCV(cv=loo)\n",
    "lasso_loo.fit(X,Y_spr.reshape(n,))"
   ]
  },
  {
   "cell_type": "code",
   "execution_count": 86,
   "id": "german-character",
   "metadata": {},
   "outputs": [
    {
     "name": "stdout",
     "output_type": "stream",
     "text": [
      "Wall time: 998 µs\n"
     ]
    }
   ],
   "source": [
    "%%time\n",
    "lm_spr = LinearRegression().fit(X, Y_spr)"
   ]
  },
  {
   "cell_type": "code",
   "execution_count": 70,
   "id": "fifty-offense",
   "metadata": {},
   "outputs": [
    {
     "data": {
      "text/plain": [
       "array([[ 0.2,  0.2,  0.2,  0. ,  0. , -0. , -0. , -0. , -0. ,  0. ]])"
      ]
     },
     "execution_count": 70,
     "metadata": {},
     "output_type": "execute_result"
    }
   ],
   "source": [
    "lm_spr.coef_.round(5)"
   ]
  },
  {
   "cell_type": "code",
   "execution_count": 71,
   "id": "italic-adrian",
   "metadata": {},
   "outputs": [
    {
     "data": {
      "text/plain": [
       "array([[5.00000000e+00, 5.00000000e+00, 5.00000000e+00, 5.33759956e+15,\n",
       "        3.60287970e+16, 5.54289185e+15, 3.60287970e+16, 7.20575940e+16,\n",
       "        1.10857837e+16, 1.44115188e+16]])"
      ]
     },
     "execution_count": 71,
     "metadata": {},
     "output_type": "execute_result"
    }
   ],
   "source": [
    "1/(lm_spr.coef_**2)**(1/2)"
   ]
  },
  {
   "cell_type": "code",
   "execution_count": 72,
   "id": "excessive-river",
   "metadata": {},
   "outputs": [
    {
     "data": {
      "text/plain": [
       "(100, 10)"
      ]
     },
     "execution_count": 72,
     "metadata": {},
     "output_type": "execute_result"
    }
   ],
   "source": [
    "X.shape"
   ]
  },
  {
   "cell_type": "code",
   "execution_count": 73,
   "id": "amazing-importance",
   "metadata": {},
   "outputs": [
    {
     "data": {
      "text/plain": [
       "(100, 10)"
      ]
     },
     "execution_count": 73,
     "metadata": {},
     "output_type": "execute_result"
    }
   ],
   "source": [
    "(X @ np.diagflat(np.abs(lm_spr.coef_))).shape"
   ]
  },
  {
   "cell_type": "code",
   "execution_count": 4,
   "id": "working-logic",
   "metadata": {},
   "outputs": [],
   "source": [
    "labels = ['lasso']*3 + ['adpt lasso']*3 + ['ridge']*3 + ['adpt ridge']*3\n",
    "tunings = ['AIC', 'BIC', 'LOO-CV']*4\n",
    "labs = [labels[i] + ' ' + tunings[i] for i in range(len(labels))]"
   ]
  },
  {
   "cell_type": "code",
   "execution_count": 6,
   "id": "after-elephant",
   "metadata": {},
   "outputs": [],
   "source": [
    "emse_table = pd.DataFrame(itertools.product(['sparse', 'dense'], \n",
    "              50.                 labs,\n",
    "                               [10,25,50],\n",
    "                               [0,.25,.5]), \n",
    "             columns=['signal','Method-Tuning', 'p', 'rho'])\n",
    "\n",
    "emse_table['mse'] = None"
   ]
  },
  {
   "cell_type": "code",
   "execution_count": 7,
   "id": "foreign-juice",
   "metadata": {
    "collapsed": true
   },
   "outputs": [
    {
     "data": {
      "text/html": [
       "<div>\n",
       "<style scoped>\n",
       "    .dataframe tbody tr th:only-of-type {\n",
       "        vertical-align: middle;\n",
       "    }\n",
       "\n",
       "    .dataframe tbody tr th {\n",
       "        vertical-align: top;\n",
       "    }\n",
       "\n",
       "    .dataframe thead th {\n",
       "        text-align: right;\n",
       "    }\n",
       "</style>\n",
       "<table border=\"1\" class=\"dataframe\">\n",
       "  <thead>\n",
       "    <tr style=\"text-align: right;\">\n",
       "      <th></th>\n",
       "      <th>signal</th>\n",
       "      <th>Method-Tuning</th>\n",
       "      <th>p</th>\n",
       "      <th>rho</th>\n",
       "      <th>mse</th>\n",
       "    </tr>\n",
       "  </thead>\n",
       "  <tbody>\n",
       "    <tr>\n",
       "      <th>0</th>\n",
       "      <td>sparse</td>\n",
       "      <td>lasso AIC</td>\n",
       "      <td>10</td>\n",
       "      <td>0.00</td>\n",
       "      <td>None</td>\n",
       "    </tr>\n",
       "    <tr>\n",
       "      <th>1</th>\n",
       "      <td>sparse</td>\n",
       "      <td>lasso AIC</td>\n",
       "      <td>10</td>\n",
       "      <td>0.25</td>\n",
       "      <td>None</td>\n",
       "    </tr>\n",
       "    <tr>\n",
       "      <th>2</th>\n",
       "      <td>sparse</td>\n",
       "      <td>lasso AIC</td>\n",
       "      <td>10</td>\n",
       "      <td>0.50</td>\n",
       "      <td>None</td>\n",
       "    </tr>\n",
       "    <tr>\n",
       "      <th>3</th>\n",
       "      <td>sparse</td>\n",
       "      <td>lasso AIC</td>\n",
       "      <td>25</td>\n",
       "      <td>0.00</td>\n",
       "      <td>None</td>\n",
       "    </tr>\n",
       "    <tr>\n",
       "      <th>4</th>\n",
       "      <td>sparse</td>\n",
       "      <td>lasso AIC</td>\n",
       "      <td>25</td>\n",
       "      <td>0.25</td>\n",
       "      <td>None</td>\n",
       "    </tr>\n",
       "    <tr>\n",
       "      <th>...</th>\n",
       "      <td>...</td>\n",
       "      <td>...</td>\n",
       "      <td>...</td>\n",
       "      <td>...</td>\n",
       "      <td>...</td>\n",
       "    </tr>\n",
       "    <tr>\n",
       "      <th>211</th>\n",
       "      <td>dense</td>\n",
       "      <td>adpt ridge LOO-CV</td>\n",
       "      <td>25</td>\n",
       "      <td>0.25</td>\n",
       "      <td>None</td>\n",
       "    </tr>\n",
       "    <tr>\n",
       "      <th>212</th>\n",
       "      <td>dense</td>\n",
       "      <td>adpt ridge LOO-CV</td>\n",
       "      <td>25</td>\n",
       "      <td>0.50</td>\n",
       "      <td>None</td>\n",
       "    </tr>\n",
       "    <tr>\n",
       "      <th>213</th>\n",
       "      <td>dense</td>\n",
       "      <td>adpt ridge LOO-CV</td>\n",
       "      <td>50</td>\n",
       "      <td>0.00</td>\n",
       "      <td>None</td>\n",
       "    </tr>\n",
       "    <tr>\n",
       "      <th>214</th>\n",
       "      <td>dense</td>\n",
       "      <td>adpt ridge LOO-CV</td>\n",
       "      <td>50</td>\n",
       "      <td>0.25</td>\n",
       "      <td>None</td>\n",
       "    </tr>\n",
       "    <tr>\n",
       "      <th>215</th>\n",
       "      <td>dense</td>\n",
       "      <td>adpt ridge LOO-CV</td>\n",
       "      <td>50</td>\n",
       "      <td>0.50</td>\n",
       "      <td>None</td>\n",
       "    </tr>\n",
       "  </tbody>\n",
       "</table>\n",
       "<p>216 rows × 5 columns</p>\n",
       "</div>"
      ],
      "text/plain": [
       "     signal      Method-Tuning   p   rho   mse\n",
       "0    sparse          lasso AIC  10  0.00  None\n",
       "1    sparse          lasso AIC  10  0.25  None\n",
       "2    sparse          lasso AIC  10  0.50  None\n",
       "3    sparse          lasso AIC  25  0.00  None\n",
       "4    sparse          lasso AIC  25  0.25  None\n",
       "..      ...                ...  ..   ...   ...\n",
       "211   dense  adpt ridge LOO-CV  25  0.25  None\n",
       "212   dense  adpt ridge LOO-CV  25  0.50  None\n",
       "213   dense  adpt ridge LOO-CV  50  0.00  None\n",
       "214   dense  adpt ridge LOO-CV  50  0.25  None\n",
       "215   dense  adpt ridge LOO-CV  50  0.50  None\n",
       "\n",
       "[216 rows x 5 columns]"
      ]
     },
     "execution_count": 7,
     "metadata": {},
     "output_type": "execute_result"
    }
   ],
   "source": [
    "emse_table"
   ]
  },
  {
   "cell_type": "code",
   "execution_count": 77,
   "id": "solid-birth",
   "metadata": {},
   "outputs": [],
   "source": [
    "U, D, V = np.linalg.svd(X, full_matrices=False)"
   ]
  },
  {
   "cell_type": "code",
   "execution_count": 78,
   "id": "generous-angle",
   "metadata": {},
   "outputs": [
    {
     "data": {
      "text/plain": [
       "(10,)"
      ]
     },
     "execution_count": 78,
     "metadata": {},
     "output_type": "execute_result"
    }
   ],
   "source": [
    "(D**2/(D**2 + .02)).shape"
   ]
  },
  {
   "cell_type": "code",
   "execution_count": 79,
   "id": "flexible-cambridge",
   "metadata": {
    "collapsed": true
   },
   "outputs": [
    {
     "data": {
      "text/plain": [
       "array([[ 0.09131373],\n",
       "       [-0.34360446],\n",
       "       [-0.76722612],\n",
       "       [-0.01278452],\n",
       "       [-0.36367278],\n",
       "       [-0.13878086],\n",
       "       [-0.10490522],\n",
       "       [-0.80090635],\n",
       "       [ 0.27997823],\n",
       "       [-1.1837209 ],\n",
       "       [ 0.19109503],\n",
       "       [-0.55550095],\n",
       "       [ 0.18238372],\n",
       "       [ 0.35403677],\n",
       "       [ 0.37785675],\n",
       "       [ 0.38293946],\n",
       "       [ 0.06036646],\n",
       "       [-0.0408259 ],\n",
       "       [ 0.51215244],\n",
       "       [ 0.16381114],\n",
       "       [ 0.20305534],\n",
       "       [-0.20862837],\n",
       "       [-0.24778447],\n",
       "       [ 0.10291171],\n",
       "       [ 0.57958451],\n",
       "       [ 0.04744084],\n",
       "       [ 0.01521899],\n",
       "       [ 0.30078279],\n",
       "       [ 0.0792429 ],\n",
       "       [ 0.1288274 ],\n",
       "       [-0.03842772],\n",
       "       [ 0.58528312],\n",
       "       [-0.00970752],\n",
       "       [-0.23951654],\n",
       "       [-0.14492896],\n",
       "       [-0.3822954 ],\n",
       "       [ 0.50949841],\n",
       "       [ 0.10597148],\n",
       "       [ 0.34846273],\n",
       "       [ 0.19697722],\n",
       "       [ 0.54649506],\n",
       "       [ 0.42254295],\n",
       "       [ 0.52689629],\n",
       "       [-0.2840093 ],\n",
       "       [ 0.20744514],\n",
       "       [ 0.68292137],\n",
       "       [ 0.43304447],\n",
       "       [ 0.81058359],\n",
       "       [ 0.08666925],\n",
       "       [-0.81579228],\n",
       "       [-0.49561843],\n",
       "       [ 0.14750868],\n",
       "       [-0.5647949 ],\n",
       "       [ 0.58873654],\n",
       "       [ 0.18288064],\n",
       "       [-0.09937691],\n",
       "       [-0.16764953],\n",
       "       [ 0.1959421 ],\n",
       "       [ 0.24999044],\n",
       "       [ 0.02045971],\n",
       "       [-0.31603752],\n",
       "       [-0.22575074],\n",
       "       [-0.60603072],\n",
       "       [ 0.02451415],\n",
       "       [-0.32623029],\n",
       "       [ 0.03232923],\n",
       "       [ 0.35263323],\n",
       "       [ 0.3192783 ],\n",
       "       [ 1.01383018],\n",
       "       [-0.24263036],\n",
       "       [ 0.42599055],\n",
       "       [-0.0942848 ],\n",
       "       [-0.29524135],\n",
       "       [ 0.16295168],\n",
       "       [ 0.2301836 ],\n",
       "       [-0.22526833],\n",
       "       [ 0.1876491 ],\n",
       "       [-0.06767797],\n",
       "       [ 0.78016592],\n",
       "       [-0.0992114 ],\n",
       "       [-0.45676172],\n",
       "       [-0.15159557],\n",
       "       [ 0.62273195],\n",
       "       [-0.1274558 ],\n",
       "       [ 0.90798868],\n",
       "       [ 0.16656703],\n",
       "       [ 0.34465803],\n",
       "       [-0.63636444],\n",
       "       [ 0.53936236],\n",
       "       [ 0.42065707],\n",
       "       [ 0.07176897],\n",
       "       [ 0.69596897],\n",
       "       [-1.08552212],\n",
       "       [ 0.52842709],\n",
       "       [-0.17473064],\n",
       "       [ 0.47391441],\n",
       "       [-0.31484994],\n",
       "       [-0.3926561 ],\n",
       "       [ 0.29345041],\n",
       "       [ 0.57448887]])"
      ]
     },
     "execution_count": 79,
     "metadata": {},
     "output_type": "execute_result"
    }
   ],
   "source": [
    "(U @ np.diag(D**2/(D**2 + .02)) @ U.T) @ Y_spr"
   ]
  },
  {
   "cell_type": "code",
   "execution_count": 95,
   "id": "fleet-inspection",
   "metadata": {},
   "outputs": [],
   "source": [
    "def lambda_bic(lambs, design_mat, Y_mat):\n",
    "    U, D, V = np.linalg.svd(design_mat, full_matrices=False)\n",
    "    \n",
    "    rss = lambda l: sum((Y_mat - (U @ np.diag(D**2/(D**2 + l)) @ U.T) @ Y_mat)**2)\n",
    "    df_lambda = lambda l: sum(D**2/(D**2 + l)) \n",
    "    \n",
    "    min_i = np.argmin([np.log(rss(l)) + df_lambda(l)*np.log(n)/n for l in lambs])\n",
    "    \n",
    "    mse = rss(lambs[min_i])/Y_mat.shape[0]\n",
    "    \n",
    "    return mse, lambs[min_i]"
   ]
  },
  {
   "cell_type": "code",
   "execution_count": 97,
   "id": "progressive-illinois",
   "metadata": {},
   "outputs": [],
   "source": [
    "scaler = StandardScaler()"
   ]
  },
  {
   "cell_type": "code",
   "execution_count": 98,
   "id": "irish-policy",
   "metadata": {},
   "outputs": [
    {
     "data": {
      "text/plain": [
       "StandardScaler()"
      ]
     },
     "execution_count": 98,
     "metadata": {},
     "output_type": "execute_result"
    }
   ],
   "source": [
    "scaler.fit(X)"
   ]
  },
  {
   "cell_type": "code",
   "execution_count": 102,
   "id": "sensitive-jacksonville",
   "metadata": {},
   "outputs": [],
   "source": [
    "X_std = scaler.transform(X)"
   ]
  },
  {
   "cell_type": "code",
   "execution_count": 110,
   "id": "interested-organization",
   "metadata": {},
   "outputs": [
    {
     "data": {
      "text/plain": [
       "(array([4.27135389e-24]), 0.0)"
      ]
     },
     "execution_count": 110,
     "metadata": {},
     "output_type": "execute_result"
    }
   ],
   "source": [
    "lambda_bic(np.linspace(0, 1, 100), X2, Y_dns)"
   ]
  },
  {
   "cell_type": "code",
   "execution_count": 44,
   "id": "affiliated-intervention",
   "metadata": {},
   "outputs": [],
   "source": [
    "ridge = Ridge(alpha=.5)"
   ]
  },
  {
   "cell_type": "code",
   "execution_count": 45,
   "id": "experimental-cologne",
   "metadata": {},
   "outputs": [
    {
     "data": {
      "text/plain": [
       "0.08455723870325346"
      ]
     },
     "execution_count": 45,
     "metadata": {},
     "output_type": "execute_result"
    }
   ],
   "source": [
    "ridge.fit(X, Y_dns)\n",
    "mean_squared_error(Y_dns, ridge.predict(X))"
   ]
  },
  {
   "cell_type": "code",
   "execution_count": 59,
   "id": "democratic-peripheral",
   "metadata": {},
   "outputs": [
    {
     "data": {
      "text/plain": [
       "2104004.2531023617"
      ]
     },
     "execution_count": 59,
     "metadata": {},
     "output_type": "execute_result"
    }
   ],
   "source": [
    "mean_squared_error(Y_dns, (U @ np.diag(D**2/(D**2 + .5)) @ U.T) @ Y_dns)"
   ]
  },
  {
   "cell_type": "code",
   "execution_count": 113,
   "id": "distributed-league",
   "metadata": {},
   "outputs": [
    {
     "data": {
      "text/plain": [
       "10.586349670190542"
      ]
     },
     "execution_count": 113,
     "metadata": {},
     "output_type": "execute_result"
    }
   ],
   "source": [
    "mean_squared_error(Y_dns , X2 @ (np.linalg.inv(X2.T@X2 + .2*np.eye(X2.shape[1])) @ X2.T) @ Y_dns)"
   ]
  },
  {
   "cell_type": "code",
   "execution_count": 124,
   "id": "pressing-judgment",
   "metadata": {},
   "outputs": [
    {
     "data": {
      "text/plain": [
       "2342143.0593981217"
      ]
     },
     "execution_count": 124,
     "metadata": {},
     "output_type": "execute_result"
    }
   ],
   "source": [
    "ridge = Ridge(alpha=.2, fit_intercept=False)\n",
    "ridge.fit(X_std, Y_dns)\n",
    "mean_squared_error(Y_dns, ridge.predict(X_std))"
   ]
  },
  {
   "cell_type": "code",
   "execution_count": 122,
   "id": "detailed-statistics",
   "metadata": {},
   "outputs": [
    {
     "data": {
      "text/plain": [
       "2342143.0593981217"
      ]
     },
     "execution_count": 122,
     "metadata": {},
     "output_type": "execute_result"
    }
   ],
   "source": [
    "U, D, V = np.linalg.svd(X_std, full_matrices=False)\n",
    "\n",
    "mean_squared_error(Y_dns , (U @ np.diag(D**2/(D**2 + .2)) @ U.T) @ Y_dns)"
   ]
  },
  {
   "cell_type": "code",
   "execution_count": null,
   "id": "naval-combat",
   "metadata": {},
   "outputs": [
    {
     "name": "stderr",
     "output_type": "stream",
     "text": [
      "\r",
      "  0%|          | 0/1000 [00:00<?, ?it/s]"
     ]
    },
    {
     "name": "stdout",
     "output_type": "stream",
     "text": [
      "10 0\n"
     ]
    },
    {
     "name": "stderr",
     "output_type": "stream",
     "text": [
      " 88%|████████▊ | 884/1000 [03:06<00:24,  4.75it/s]"
     ]
    }
   ],
   "source": [
    "from tqdm import tqdm\n",
    "\n",
    "n = 100\n",
    "\n",
    "for p,rho in itertools.product([10, 25, 50],[0, 0.25, 0.5]):\n",
    "    print(p, rho)\n",
    "    \n",
    "    # Generate data\n",
    "    beta_spr = np.fromfunction(lambda j, _: (2 / np.sqrt(n)) * (j + 1 <= np.sqrt(p)), (p, 1))\n",
    "    beta_dns = np.fromfunction(lambda j, _: (5 / (j + 1) * np.sqrt(n)), (p, 1))\n",
    "\n",
    "    Sigma_p = np.fromfunction(lambda i, j: rho**(np.abs(i - j)), (p, p))\n",
    "    sigma2_spr = 0.25 * (beta_spr.T @ Sigma_p @ beta_spr)\n",
    "    sigma2_dns = 0.25 * (beta_dns.T @ Sigma_p @ beta_dns)\n",
    "    \n",
    "    # Sparse Signal\n",
    "    lasso_aic_mse_spr = 0\n",
    "    lasso_bic_mse_spr = 0\n",
    "    lasso_loocv_mse_spr = 0\n",
    "    adp_lasso_aic_mse_spr = 0\n",
    "    adp_lasso_bic_mse_spr = 0\n",
    "    adp_lasso_loocv_mse_spr = 0\n",
    "    \n",
    "    ridge_aic_mse_spr = 0\n",
    "    ridge_bic_mse_spr = 0\n",
    "    ridge_loocv_mse_spr = 0\n",
    "    adp_ridge_aic_mse_spr = 0\n",
    "    adp_ridge_bic_mse_spr = 0\n",
    "    adp_ridge_loocv_mse_spr = 0\n",
    "    \n",
    "    # Dense Signal \n",
    "    lasso_aic_mse_dns = 0\n",
    "    lasso_bic_mse_dns = 0\n",
    "    lasso_loocv_mse_dns = 0\n",
    "    adp_lasso_aic_mse_dns = 0\n",
    "    adp_lasso_bic_mse_dns = 0\n",
    "    adp_lasso_loocv_mse_dns = 0\n",
    "    \n",
    "    ridge_aic_mse_dns = 0\n",
    "    ridge_bic_mse_dns = 0\n",
    "    ridge_loocv_mse_dns = 0\n",
    "    adp_ridge_aic_mse_dns = 0\n",
    "    adp_ridge_bic_mse_dns = 0\n",
    "    adp_ridge_loocv_mse_dns = 0\n",
    "    \n",
    "    # For LOO-CV\n",
    "    loo = LeaveOneOut()\n",
    "    \n",
    "    prog = tqdm(total = 1000, position=0, leave=2)\n",
    "    \n",
    "    for _ in range(1000):\n",
    "        # Create Dataset\n",
    "        epsilon_spr = np.random.normal(loc=0, scale=sigma2_spr)\n",
    "        epsilon_dns = np.random.normal(loc=0, scale=sigma2_dns)\n",
    "\n",
    "        X = np.random.multivariate_normal(mean=np.zeros(p), cov=Sigma_p, size=n)\n",
    "\n",
    "        Y_spr =  X @ beta_spr + epsilon_spr\n",
    "        Y_dns =  X @ beta_dns + epsilon_dns\n",
    "\n",
    "        # For adaptive regressions\n",
    "        lm_spr = LinearRegression().fit(X, Y_spr)\n",
    "        lm_dns = LinearRegression().fit(X, Y_dns)\n",
    "        \n",
    "        # Adpative Lasso\n",
    "        # Here we are compute X^T (D^-1)^T\n",
    "        adX_sprL = X @ np.diagflat(np.abs(lm_spr.coef_))\n",
    "        adX_dnsL = X @ np.diagflat(np.abs(lm_dns.coef_))\n",
    "        \n",
    "        # Adpative Ridge\n",
    "        adX_spr_Rd = X @ np.diagflat((lm_spr.coef_**2)**(1/2))\n",
    "        adX_dns_Rd = X @ np.diagflat((lm_dns.coef_**2)**(1/2))\n",
    "    \n",
    "        # Calculate Lassos\n",
    "        \n",
    "        # AIC\n",
    "        \n",
    "        # Sparse\n",
    "        lasso_aic_spr = LassoLarsIC(criterion='aic')\n",
    "        lasso_aic_spr.fit(X, Y_spr)\n",
    "        lasso_aic_mse_spr += mean_squared_error(Y_spr, lasso_aic_spr.predict(X))\n",
    "        \n",
    "        # Dense\n",
    "        lasso_aic_dns = LassoLarsIC(criterion='aic')\n",
    "        lasso_aic_dns.fit(X, Y_dns)\n",
    "        lasso_aic_mse_dns += mean_squared_error(Y_dns, lasso_aic_dns.predict(X))\n",
    "        \n",
    "        #BIC\n",
    "        \n",
    "        # Sparse\n",
    "        lasso_bic_spr = LassoLarsIC(criterion='bic')\n",
    "        lasso_bic_spr.fit(X, Y_spr)\n",
    "        lasso_bic_mse_spr += mean_squared_error(Y_spr, lasso_bic_spr.predict(X))\n",
    "        \n",
    "        # Dense\n",
    "        lasso_bic_dns = LassoLarsIC(criterion='bic')\n",
    "        lasso_bic_dns.fit(X, Y_dns)\n",
    "        lasso_bic_mse_dns += mean_squared_error(Y_dns, lasso_bic_dns.predict(X))\n",
    "        \n",
    "        #LOO-CV\n",
    "        \n",
    "        # Sparse\n",
    "        lasso_loo_spr = LassoLarsCV(cv=loo)\n",
    "        lasso_loo_spr.fit(X, Y_spr)\n",
    "        lasso_loocv_mse_spr += mean_squared_error(Y_spr, lasso_loo_spr.predict(X))\n",
    "        \n",
    "        # Dense\n",
    "        lasso_loo_dns = LassoLarsCV(cv=loo)\n",
    "        lasso_loo_dns.fit(X, Y_dns)\n",
    "        lasso_loocv_mse_spr += mean_squared_error(Y_dns, lasso_loo_dns.predict(X))\n",
    "\n",
    "        # Adaptive Lasso\n",
    "        \n",
    "        # AIC\n",
    "        \n",
    "        # Sparse\n",
    "        adp_lasso_aic_spr = LassoLarsIC(criterion='aic')\n",
    "        adp_lasso_aic_spr.fit(adX_sprL, Y_spr)\n",
    "        adp_lasso_aic_mse_spr += mean_squared_error(Y_spr, adp_lasso_aic_spr.predict(adX_sprL))\n",
    "        \n",
    "        # Dense\n",
    "        adp_lasso_aic_dns = LassoLarsIC(criterion='aic')\n",
    "        adp_lasso_aic_dns.fit(adX_dnsL, Y_dns)\n",
    "        adp_lasso_aic_mse_dns += mean_squared_error(Y_dns, adp_lasso_aic_dns.predict(adX_dnsL))\n",
    "        \n",
    "        # BIC\n",
    "        \n",
    "        # Sparse\n",
    "        adp_lasso_bic_spr = LassoLarsIC(criterion='bic')\n",
    "        adp_lasso_bic_spr.fit(adX_sprL, Y_spr)\n",
    "        adp_lasso_bic_mse_spr += mean_squared_error(Y_spr, adp_lasso_bic_spr.predict(adX_sprL))\n",
    "        \n",
    "        # Dense\n",
    "        adp_lasso_bic_dns = LassoLarsIC(criterion='bic')\n",
    "        adp_lasso_bic_dns.fit(adX_dnsL, Y_dns)\n",
    "        adp_lasso_bic_mse_dns += mean_squared_error(Y_dns, adp_lasso_bic_dns.predict(adX_dnsL))\n",
    "        \n",
    "        # LOO-CV\n",
    "        \n",
    "        # Sparse\n",
    "        #adp_lasso_loo_spr = LassoLarsCV(cv=loo)\n",
    "        #adp_lasso_loo_spr.fit(adX_sprL, Y_spr)\n",
    "        #adp_lasso_loocv_mse_spr += mean_squared_error(Y_spr, adp_lasso_loo_spr.predict(adX_sprL))\n",
    "        \n",
    "        # Dense\n",
    "        #adp_lasso_loo_dns = LassoLarsCV(cv=loo)\n",
    "        #adp_lasso_loo_dns.fit(adX_dnsL, Y_dns)\n",
    "        #adp_lasso_loocv_mse_dns += mean_squared_error(Y_dns, adp_lasso_loo_dns.predict(adX_dnsL))\n",
    "\n",
    "        # Calculate Ridge\n",
    "        # AIC\n",
    "\n",
    "        #BIC\n",
    "\n",
    "        #LOO-CV\n",
    "\n",
    "        #Adaptive Ridge\n",
    "        # AIC\n",
    "\n",
    "        # BIC\n",
    "\n",
    "        # LOO-CV\n",
    "        \n",
    "        prog.update()\n"
   ]
  },
  {
   "cell_type": "code",
   "execution_count": 37,
   "id": "stylish-velvet",
   "metadata": {},
   "outputs": [],
   "source": [
    "n= 100\n",
    "p = 10\n",
    "rho = .25\n",
    "beta_spr = np.fromfunction(lambda j,_: (2/np.sqrt(n))*(j+1 <= np.sqrt(p)), (p,1))\n",
    "\n",
    "Sigma_p = np.fromfunction(lambda i,j: rho**(np.abs(i-j)), (p,p))\n",
    "sigma2_spr = .25*(beta_spr.T @ Sigma_p @ beta_spr)\n",
    "\n",
    "epsilon_spr = np.random.normal(loc=0, scale=sigma2_spr)\n",
    "\n",
    "X = np.random.multivariate_normal(mean = np.zeros(p), cov = Sigma_p, size = n)\n",
    "\n",
    "Y_spr =  X @ beta_sp + epsilon_spr\n",
    "\n",
    "\n",
    "lasso_aic_spr = LassoLarsIC(criterion='aic')\n",
    "x = lasso_aic_spr.fit(X, Y_spr.ravel())"
   ]
  },
  {
   "cell_type": "code",
   "execution_count": 39,
   "id": "fundamental-cologne",
   "metadata": {},
   "outputs": [],
   "source": [
    " #For addpative regressions\n",
    "lm_spr = LinearRegression().fit(X, Y_spr)\n",
    "lm_dns = LinearRegression().fit(X, Y_dns)\n",
    "        \n",
    "        # Adpative Lasso\n",
    "        # Here we are compute X^T (D^-1)^T\n",
    "adX_sprL = X @ np.diagflat(np.abs(lm_spr.coef_))\n",
    "adX_dnsL = X @ np.diagflat(np.abs(lm_dns.coef_))\n",
    "        \n",
    "        # Adpative Ridge\n",
    "adX_spr_Rd = X @ np.diagflat((lm_spr.coef_**2)**(1/2))\n",
    "adX_dns_Rd = X @ np.diagflat((lm_dns.coef_**2)**(1/2)) "
   ]
  },
  {
   "cell_type": "code",
   "execution_count": 40,
   "id": "improving-component",
   "metadata": {},
   "outputs": [
    {
     "data": {
      "text/plain": [
       "array([[ 2.00000000e-01,  2.00000000e-01,  2.00000000e-01,\n",
       "         2.41351772e-17,  1.81752026e-17, -1.92174004e-17,\n",
       "        -9.49103888e-17, -1.79067230e-16, -1.83295070e-16,\n",
       "        -8.29886526e-17]])"
      ]
     },
     "execution_count": 40,
     "metadata": {},
     "output_type": "execute_result"
    }
   ],
   "source": [
    "lm_spr.coef_"
   ]
  },
  {
   "cell_type": "code",
   "execution_count": 41,
   "id": "checked-accident",
   "metadata": {},
   "outputs": [
    {
     "data": {
      "text/plain": [
       "array([[2.00000000e-01, 0.00000000e+00, 0.00000000e+00, 0.00000000e+00,\n",
       "        0.00000000e+00, 0.00000000e+00, 0.00000000e+00, 0.00000000e+00,\n",
       "        0.00000000e+00, 0.00000000e+00],\n",
       "       [0.00000000e+00, 2.00000000e-01, 0.00000000e+00, 0.00000000e+00,\n",
       "        0.00000000e+00, 0.00000000e+00, 0.00000000e+00, 0.00000000e+00,\n",
       "        0.00000000e+00, 0.00000000e+00],\n",
       "       [0.00000000e+00, 0.00000000e+00, 2.00000000e-01, 0.00000000e+00,\n",
       "        0.00000000e+00, 0.00000000e+00, 0.00000000e+00, 0.00000000e+00,\n",
       "        0.00000000e+00, 0.00000000e+00],\n",
       "       [0.00000000e+00, 0.00000000e+00, 0.00000000e+00, 2.41351772e-17,\n",
       "        0.00000000e+00, 0.00000000e+00, 0.00000000e+00, 0.00000000e+00,\n",
       "        0.00000000e+00, 0.00000000e+00],\n",
       "       [0.00000000e+00, 0.00000000e+00, 0.00000000e+00, 0.00000000e+00,\n",
       "        1.81752026e-17, 0.00000000e+00, 0.00000000e+00, 0.00000000e+00,\n",
       "        0.00000000e+00, 0.00000000e+00],\n",
       "       [0.00000000e+00, 0.00000000e+00, 0.00000000e+00, 0.00000000e+00,\n",
       "        0.00000000e+00, 1.92174004e-17, 0.00000000e+00, 0.00000000e+00,\n",
       "        0.00000000e+00, 0.00000000e+00],\n",
       "       [0.00000000e+00, 0.00000000e+00, 0.00000000e+00, 0.00000000e+00,\n",
       "        0.00000000e+00, 0.00000000e+00, 9.49103888e-17, 0.00000000e+00,\n",
       "        0.00000000e+00, 0.00000000e+00],\n",
       "       [0.00000000e+00, 0.00000000e+00, 0.00000000e+00, 0.00000000e+00,\n",
       "        0.00000000e+00, 0.00000000e+00, 0.00000000e+00, 1.79067230e-16,\n",
       "        0.00000000e+00, 0.00000000e+00],\n",
       "       [0.00000000e+00, 0.00000000e+00, 0.00000000e+00, 0.00000000e+00,\n",
       "        0.00000000e+00, 0.00000000e+00, 0.00000000e+00, 0.00000000e+00,\n",
       "        1.83295070e-16, 0.00000000e+00],\n",
       "       [0.00000000e+00, 0.00000000e+00, 0.00000000e+00, 0.00000000e+00,\n",
       "        0.00000000e+00, 0.00000000e+00, 0.00000000e+00, 0.00000000e+00,\n",
       "        0.00000000e+00, 8.29886526e-17]])"
      ]
     },
     "execution_count": 41,
     "metadata": {},
     "output_type": "execute_result"
    }
   ],
   "source": [
    "np.diagflat(np.abs(lm_spr.coef_))"
   ]
  },
  {
   "cell_type": "code",
   "execution_count": 43,
   "id": "expected-subscription",
   "metadata": {},
   "outputs": [],
   "source": [
    "x = []"
   ]
  },
  {
   "cell_type": "code",
   "execution_count": 54,
   "id": "engaging-credits",
   "metadata": {},
   "outputs": [
    {
     "data": {
      "text/plain": [
       "[5, 5, 5, 5, 5, 5, 5, 5, 5, 5, 5]"
      ]
     },
     "execution_count": 54,
     "metadata": {},
     "output_type": "execute_result"
    }
   ],
   "source": [
    "x.append(5)\n",
    "x"
   ]
  }
 ],
 "metadata": {
  "kernelspec": {
   "display_name": "Python 3",
   "language": "python",
   "name": "python3"
  },
  "language_info": {
   "codemirror_mode": {
    "name": "ipython",
    "version": 3
   },
   "file_extension": ".py",
   "mimetype": "text/x-python",
   "name": "python",
   "nbconvert_exporter": "python",
   "pygments_lexer": "ipython3",
   "version": "3.8.5"
  }
 },
 "nbformat": 4,
 "nbformat_minor": 5
}
