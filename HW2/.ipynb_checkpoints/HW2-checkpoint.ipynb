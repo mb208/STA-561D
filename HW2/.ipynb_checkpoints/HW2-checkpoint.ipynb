{
 "cells": [
  {
   "cell_type": "markdown",
   "id": "devoted-silver",
   "metadata": {},
   "source": [
    "# HW 3\n",
    "- Author: Marc Brooks\n",
    "- NetID: mgb45"
   ]
  },
  {
   "cell_type": "markdown",
   "id": "innovative-protein",
   "metadata": {},
   "source": [
    "## 1.) (Hard-thresholding)"
   ]
  },
  {
   "cell_type": "code",
   "execution_count": null,
   "id": "healthy-bonus",
   "metadata": {},
   "outputs": [],
   "source": []
  },
  {
   "cell_type": "code",
   "execution_count": null,
   "id": "little-injection",
   "metadata": {},
   "outputs": [],
   "source": []
  },
  {
   "cell_type": "code",
   "execution_count": null,
   "id": "explicit-consciousness",
   "metadata": {},
   "outputs": [],
   "source": []
  },
  {
   "cell_type": "code",
   "execution_count": null,
   "id": "educated-hierarchy",
   "metadata": {},
   "outputs": [],
   "source": []
  },
  {
   "cell_type": "code",
   "execution_count": null,
   "id": "understanding-proposal",
   "metadata": {},
   "outputs": [],
   "source": []
  },
  {
   "cell_type": "markdown",
   "id": "statutory-produce",
   "metadata": {},
   "source": [
    "## 2. (Great British Bake-off)"
   ]
  },
  {
   "cell_type": "code",
   "execution_count": 31,
   "id": "saving-student",
   "metadata": {},
   "outputs": [],
   "source": [
    "# importing required packages\n",
    "import numpy as np\n",
    "import pandas as pd\n",
    "import itertools\n",
    "\n",
    "from sklearn.metrics import mean_squared_error\n",
    "from sklearn.linear_model import LassoLarsIC, LassoLarsCV, RidgeCV, LinearRegression\n",
    "from sklearn.model_selection import cross_val_score, LeaveOneOut"
   ]
  },
  {
   "cell_type": "markdown",
   "id": "naval-adelaide",
   "metadata": {},
   "source": [
    "## (a)"
   ]
  },
  {
   "cell_type": "markdown",
   "id": "portuguese-tucson",
   "metadata": {},
   "source": [
    "First, since $\\epsilon$ and $\\textbf{X}$ are independent we can see that: \n",
    "$$\n",
    "\\begin{align}\n",
    "\\text{Var}(Y) &= \\text{Var}(\\textbf{X}^{T}\\beta^{*} + \\epsilon) \\\\\n",
    "&= \\text{Var}(\\textbf{X}^{T}\\beta^{*}) + \\text{Var}(\\epsilon) \\\\\n",
    "&= \\beta^{*T}\\Sigma(\\rho)\\beta^{*} + \\sigma^2 \n",
    "\\end{align}\n",
    "$$\n",
    "\n",
    "Furthmore, we recognize $P(Y - \\textbf{X}^{T}\\beta^{*})^{2} = P\\epsilon^{2}$ as the expected squared residuals.\n",
    "Since $P\\epsilon = 0$ then $P\\epsilon^2 = \\sigma^2$ and $P(Y - \\textbf{X}^{T}\\beta^{*})^{2} = \\sigma^2$.\n",
    "\n",
    "\n",
    "Thus,\n",
    "$$\n",
    "\\begin{align}\n",
    "R^{2} &= 1 - \\frac{P(Y - \\textbf{X}^{T}\\beta^{*})^{2}}{\\text{Var}(Y)} \\\\\n",
    "&= 1 - \\frac{\\sigma^2}{\\beta^{*T}\\Sigma(\\rho)\\beta^{*} + \\sigma^2}\n",
    "\\end{align}\n",
    "$$"
   ]
  },
  {
   "cell_type": "markdown",
   "id": "facial-papua",
   "metadata": {},
   "source": [
    "## (b)"
   ]
  },
  {
   "cell_type": "markdown",
   "id": "front-julian",
   "metadata": {},
   "source": [
    "Setting $R^2 = .8$ we can solve for $\\sigma^2$ as follows.\n",
    "\n",
    "$$\n",
    "\\begin{align}\n",
    ".8 &= 1 - \\frac{\\sigma^2}{\\beta^{*T}\\Sigma(\\rho)\\beta^{*} + \\sigma^2} \\\\\n",
    ".2 &= \\frac{\\sigma^2}{\\beta^{*T}\\Sigma(\\rho)\\beta^{*} + \\sigma^2} \\\\\n",
    "\\sigma^2 &= .2(\\beta^{*T}\\Sigma(\\rho)\\beta^{*} + \\sigma^2)  \\\\\n",
    ".8\\sigma^2 &= .2(\\beta^{*T}\\Sigma(\\rho)\\beta^{*})  \\\\\n",
    "\\sigma^2 &= .25(\\beta^{*T}\\Sigma(\\rho)\\beta^{*}) \n",
    "\\end{align}\n",
    "$$"
   ]
  },
  {
   "cell_type": "code",
   "execution_count": null,
   "id": "specific-cyprus",
   "metadata": {},
   "outputs": [],
   "source": [
    "n = 100\n",
    "p = [10, 25, 50]\n",
    "rho = [0, .25, .5]"
   ]
  },
  {
   "cell_type": "markdown",
   "id": "sweet-attendance",
   "metadata": {},
   "source": [
    "Generating data sets with sparse signal"
   ]
  },
  {
   "cell_type": "code",
   "execution_count": 5,
   "id": "duplicate-mayor",
   "metadata": {},
   "outputs": [],
   "source": [
    "rho = .25\n",
    "p=10\n",
    "n = 100"
   ]
  },
  {
   "cell_type": "code",
   "execution_count": 6,
   "id": "bigger-petroleum",
   "metadata": {},
   "outputs": [],
   "source": [
    "beta_sp = np.fromfunction(lambda j,_: (2/np.sqrt(n))*(j+1 <= np.sqrt(p)), (p,1))"
   ]
  },
  {
   "cell_type": "code",
   "execution_count": 7,
   "id": "active-catering",
   "metadata": {},
   "outputs": [],
   "source": [
    "beta_dns =  np.fromfunction(lambda j,_: (5/(j+1)*np.sqrt(n)), (p,1))"
   ]
  },
  {
   "cell_type": "code",
   "execution_count": 8,
   "id": "floating-pontiac",
   "metadata": {},
   "outputs": [],
   "source": [
    "Sigma_p = np.fromfunction(lambda i,j: rho**(np.abs(i-j)), (p,p))"
   ]
  },
  {
   "cell_type": "code",
   "execution_count": 9,
   "id": "narrow-destiny",
   "metadata": {},
   "outputs": [],
   "source": [
    "sigma2_spr = beta_sp.T @ Sigma_p @ beta_sp\n",
    "sigma2_dns = beta_dns.T @ Sigma_p @ beta_dns"
   ]
  },
  {
   "cell_type": "code",
   "execution_count": 10,
   "id": "conditional-certificate",
   "metadata": {},
   "outputs": [],
   "source": [
    "epsilon_spr = np.random.normal(loc=0, scale=sigma2_spr)\n",
    "epsilon_dns = np.random.normal(loc=0, scale=sigma2_dns)"
   ]
  },
  {
   "cell_type": "code",
   "execution_count": 11,
   "id": "fancy-convenience",
   "metadata": {},
   "outputs": [],
   "source": [
    "X = np.random.multivariate_normal(mean = np.zeros(p), cov = Sigma_p, size = n)"
   ]
  },
  {
   "cell_type": "code",
   "execution_count": 12,
   "id": "differential-screen",
   "metadata": {},
   "outputs": [],
   "source": [
    "Y_spr =  X @ beta_sp + epsilon_spr\n",
    "Y_dns =  X @ beta_dns + epsilon_dns"
   ]
  },
  {
   "cell_type": "code",
   "execution_count": 22,
   "id": "concerned-links",
   "metadata": {},
   "outputs": [
    {
     "data": {
      "text/plain": [
       "LassoLarsIC()"
      ]
     },
     "execution_count": 22,
     "metadata": {},
     "output_type": "execute_result"
    }
   ],
   "source": [
    "lasso_aic = LassoLarsIC(criterion='aic')\n",
    "lasso_aic.fit(X,Y_spr.reshape(n,))"
   ]
  },
  {
   "cell_type": "code",
   "execution_count": 34,
   "id": "joined-airfare",
   "metadata": {},
   "outputs": [
    {
     "data": {
      "text/plain": [
       "1.0"
      ]
     },
     "execution_count": 34,
     "metadata": {},
     "output_type": "execute_result"
    }
   ],
   "source": [
    "lasso_aic.score(X, Y_spr)"
   ]
  },
  {
   "cell_type": "code",
   "execution_count": 33,
   "id": "nutritional-frame",
   "metadata": {},
   "outputs": [
    {
     "data": {
      "text/plain": [
       "7.21838543156336e-33"
      ]
     },
     "execution_count": 33,
     "metadata": {},
     "output_type": "execute_result"
    }
   ],
   "source": [
    "mean_squared_error(Y_spr, lasso_aic.predict(X))"
   ]
  },
  {
   "cell_type": "code",
   "execution_count": 35,
   "id": "amended-latvia",
   "metadata": {},
   "outputs": [],
   "source": [
    "loo = LeaveOneOut()"
   ]
  },
  {
   "cell_type": "code",
   "execution_count": 36,
   "id": "arranged-value",
   "metadata": {},
   "outputs": [
    {
     "data": {
      "text/plain": [
       "LassoLarsCV(cv=LeaveOneOut())"
      ]
     },
     "execution_count": 36,
     "metadata": {},
     "output_type": "execute_result"
    }
   ],
   "source": [
    "lasso_loo = LassoLarsCV(cv=loo)\n",
    "lasso_loo.fit(X,Y_spr.reshape(n,))"
   ]
  },
  {
   "cell_type": "code",
   "execution_count": 38,
   "id": "wired-trinity",
   "metadata": {},
   "outputs": [],
   "source": [
    "lm_spr = LinearRegression().fit(X, Y_spr)"
   ]
  },
  {
   "cell_type": "code",
   "execution_count": 64,
   "id": "japanese-centre",
   "metadata": {},
   "outputs": [
    {
     "data": {
      "text/plain": [
       "array([[ 0.2,  0.2,  0.2, -0. ,  0. ,  0. , -0. ,  0. ,  0. , -0. ]])"
      ]
     },
     "execution_count": 64,
     "metadata": {},
     "output_type": "execute_result"
    }
   ],
   "source": [
    "lm_spr.coef_.round(5)"
   ]
  },
  {
   "cell_type": "code",
   "execution_count": 70,
   "id": "configured-finland",
   "metadata": {},
   "outputs": [
    {
     "data": {
      "text/plain": [
       "array([[5.00000000e+00, 5.00000000e+00, 5.00000000e+00, 2.26090701e+16,\n",
       "        7.97966053e+15, 5.48285532e+16, 5.49097261e+15, 1.28593862e+16,\n",
       "        8.86855573e+15, 9.35000302e+15]])"
      ]
     },
     "execution_count": 70,
     "metadata": {},
     "output_type": "execute_result"
    }
   ],
   "source": [
    "1/(lm_spr.coef_**2)**(1/2)"
   ]
  },
  {
   "cell_type": "code",
   "execution_count": 73,
   "id": "square-attention",
   "metadata": {},
   "outputs": [
    {
     "data": {
      "text/plain": [
       "(100, 10)"
      ]
     },
     "execution_count": 73,
     "metadata": {},
     "output_type": "execute_result"
    }
   ],
   "source": [
    "X.shape"
   ]
  },
  {
   "cell_type": "code",
   "execution_count": 79,
   "id": "annual-jumping",
   "metadata": {},
   "outputs": [
    {
     "data": {
      "text/plain": [
       "(100, 10)"
      ]
     },
     "execution_count": 79,
     "metadata": {},
     "output_type": "execute_result"
    }
   ],
   "source": [
    "(X @ np.diagflat(np.abs(lm_spr.coef_))).shape"
   ]
  },
  {
   "cell_type": "code",
   "execution_count": 7,
   "id": "proper-biography",
   "metadata": {},
   "outputs": [],
   "source": [
    "labels = ['lasso']*3 + ['adpt lasso']*3 + ['ridge']*3 + ['adpt ridge']*3\n",
    "tunings = ['AIC', 'BIC', 'LOO-CV']*4\n",
    "labs = [labels[i] + ' ' + tunings[i] for i in range(len(labels))]"
   ]
  },
  {
   "cell_type": "code",
   "execution_count": 15,
   "id": "lucky-brunswick",
   "metadata": {},
   "outputs": [],
   "source": [
    "emse_table = pd.DataFrame(itertools.product(['sparse', 'dense'], \n",
    "                               labs,\n",
    "                               [10,25,50],\n",
    "                               [0,.25,.5]), \n",
    "             columns=['signal','Method-Tuning', 'p', 'rho'])\n",
    "\n",
    "emse_table['mse'] = None"
   ]
  },
  {
   "cell_type": "code",
   "execution_count": 16,
   "id": "nominated-threat",
   "metadata": {},
   "outputs": [
    {
     "data": {
      "text/html": [
       "<div>\n",
       "<style scoped>\n",
       "    .dataframe tbody tr th:only-of-type {\n",
       "        vertical-align: middle;\n",
       "    }\n",
       "\n",
       "    .dataframe tbody tr th {\n",
       "        vertical-align: top;\n",
       "    }\n",
       "\n",
       "    .dataframe thead th {\n",
       "        text-align: right;\n",
       "    }\n",
       "</style>\n",
       "<table border=\"1\" class=\"dataframe\">\n",
       "  <thead>\n",
       "    <tr style=\"text-align: right;\">\n",
       "      <th></th>\n",
       "      <th>signal</th>\n",
       "      <th>Method-Tuning</th>\n",
       "      <th>p</th>\n",
       "      <th>rho</th>\n",
       "      <th>mse</th>\n",
       "    </tr>\n",
       "  </thead>\n",
       "  <tbody>\n",
       "    <tr>\n",
       "      <th>0</th>\n",
       "      <td>sparse</td>\n",
       "      <td>lasso AIC</td>\n",
       "      <td>10</td>\n",
       "      <td>0.00</td>\n",
       "      <td>None</td>\n",
       "    </tr>\n",
       "    <tr>\n",
       "      <th>1</th>\n",
       "      <td>sparse</td>\n",
       "      <td>lasso AIC</td>\n",
       "      <td>10</td>\n",
       "      <td>0.25</td>\n",
       "      <td>None</td>\n",
       "    </tr>\n",
       "    <tr>\n",
       "      <th>2</th>\n",
       "      <td>sparse</td>\n",
       "      <td>lasso AIC</td>\n",
       "      <td>10</td>\n",
       "      <td>0.50</td>\n",
       "      <td>None</td>\n",
       "    </tr>\n",
       "    <tr>\n",
       "      <th>3</th>\n",
       "      <td>sparse</td>\n",
       "      <td>lasso AIC</td>\n",
       "      <td>25</td>\n",
       "      <td>0.00</td>\n",
       "      <td>None</td>\n",
       "    </tr>\n",
       "    <tr>\n",
       "      <th>4</th>\n",
       "      <td>sparse</td>\n",
       "      <td>lasso AIC</td>\n",
       "      <td>25</td>\n",
       "      <td>0.25</td>\n",
       "      <td>None</td>\n",
       "    </tr>\n",
       "    <tr>\n",
       "      <th>...</th>\n",
       "      <td>...</td>\n",
       "      <td>...</td>\n",
       "      <td>...</td>\n",
       "      <td>...</td>\n",
       "      <td>...</td>\n",
       "    </tr>\n",
       "    <tr>\n",
       "      <th>211</th>\n",
       "      <td>dense</td>\n",
       "      <td>adpt ridge LOO-CV</td>\n",
       "      <td>25</td>\n",
       "      <td>0.25</td>\n",
       "      <td>None</td>\n",
       "    </tr>\n",
       "    <tr>\n",
       "      <th>212</th>\n",
       "      <td>dense</td>\n",
       "      <td>adpt ridge LOO-CV</td>\n",
       "      <td>25</td>\n",
       "      <td>0.50</td>\n",
       "      <td>None</td>\n",
       "    </tr>\n",
       "    <tr>\n",
       "      <th>213</th>\n",
       "      <td>dense</td>\n",
       "      <td>adpt ridge LOO-CV</td>\n",
       "      <td>50</td>\n",
       "      <td>0.00</td>\n",
       "      <td>None</td>\n",
       "    </tr>\n",
       "    <tr>\n",
       "      <th>214</th>\n",
       "      <td>dense</td>\n",
       "      <td>adpt ridge LOO-CV</td>\n",
       "      <td>50</td>\n",
       "      <td>0.25</td>\n",
       "      <td>None</td>\n",
       "    </tr>\n",
       "    <tr>\n",
       "      <th>215</th>\n",
       "      <td>dense</td>\n",
       "      <td>adpt ridge LOO-CV</td>\n",
       "      <td>50</td>\n",
       "      <td>0.50</td>\n",
       "      <td>None</td>\n",
       "    </tr>\n",
       "  </tbody>\n",
       "</table>\n",
       "<p>216 rows × 5 columns</p>\n",
       "</div>"
      ],
      "text/plain": [
       "     signal      Method-Tuning   p   rho   mse\n",
       "0    sparse          lasso AIC  10  0.00  None\n",
       "1    sparse          lasso AIC  10  0.25  None\n",
       "2    sparse          lasso AIC  10  0.50  None\n",
       "3    sparse          lasso AIC  25  0.00  None\n",
       "4    sparse          lasso AIC  25  0.25  None\n",
       "..      ...                ...  ..   ...   ...\n",
       "211   dense  adpt ridge LOO-CV  25  0.25  None\n",
       "212   dense  adpt ridge LOO-CV  25  0.50  None\n",
       "213   dense  adpt ridge LOO-CV  50  0.00  None\n",
       "214   dense  adpt ridge LOO-CV  50  0.25  None\n",
       "215   dense  adpt ridge LOO-CV  50  0.50  None\n",
       "\n",
       "[216 rows x 5 columns]"
      ]
     },
     "execution_count": 16,
     "metadata": {},
     "output_type": "execute_result"
    }
   ],
   "source": [
    "emse_table"
   ]
  },
  {
   "cell_type": "code",
   "execution_count": 4,
   "id": "alone-observer",
   "metadata": {},
   "outputs": [],
   "source": [
    "?? LassoLarsIC"
   ]
  },
  {
   "cell_type": "code",
   "execution_count": 3,
   "id": "naughty-keeping",
   "metadata": {},
   "outputs": [
    {
     "name": "stdout",
     "output_type": "stream",
     "text": [
      "p = 10, rho = 0\n",
      "p = 10, rho = 0.25\n",
      "p = 10, rho = 0.5\n",
      "p = 25, rho = 0\n",
      "p = 25, rho = 0.25\n",
      "p = 25, rho = 0.5\n",
      "p = 50, rho = 0\n",
      "p = 50, rho = 0.25\n",
      "p = 50, rho = 0.5\n"
     ]
    }
   ],
   "source": [
    "n = 100\n",
    "for p,rho in itertools.product([10,25,50],[0,.25,.5]):\n",
    "    # Generate data\n",
    "    beta_spr = np.fromfunction(lambda j,_: (2/np.sqrt(n))*(j+1 <= np.sqrt(p)), (p,1))\n",
    "    beta_dns =  np.fromfunction(lambda j,_: (5/(j+1)*np.sqrt(n)), (p,1))\n",
    "\n",
    "    Sigma_p = np.fromfunction(lambda i,j: rho**(np.abs(i-j)), (p,p))\n",
    "    sigma2_spr = beta_spr.T @ Sigma_p @ beta_spr\n",
    "    sigma2_dns = beta_dns.T @ Sigma_p @ beta_dns\n",
    "    \n",
    "    # Sparse Signal\n",
    "    lasso_aic_mse_spr = []\n",
    "    lasso_bic_mse_spr = []\n",
    "    lasso_loocv_mse_spr = []\n",
    "    adp_lasso_aic_mse_spr = []\n",
    "    adp_lasso_bic_mse_spr = []\n",
    "    adp_lasso_loocv_mse_spr = []\n",
    "    \n",
    "    ridge_aic_mse_spr = []\n",
    "    ridge_bic_mse_spr = []\n",
    "    ridge_loocv_mse_spr = []\n",
    "    adp_ridge_aic_mse_spr = []\n",
    "    adp_ridge_bic_mse_spr = []\n",
    "    adp_ridge_loocv_mse_spr = []\n",
    "    \n",
    "    # Dense Signal \n",
    "    lasso_aic_mse_dns = []\n",
    "    lasso_bic_mse_dns = []\n",
    "    lasso_loocv_mse_dns = []\n",
    "    adp_lasso_aic_mse_dns = []\n",
    "    adp_lasso_bic_mse_dns = []\n",
    "    adp_lasso_loocv_mse_dns = []\n",
    "    \n",
    "    ridge_aic_mse_dns = []\n",
    "    ridge_bic_mse_dns = []\n",
    "    ridge_loocv_mse_dns = []\n",
    "    adp_ridge_aic_mse_dns = []\n",
    "    adp_ridge_bic_mse_dns = []\n",
    "    adp_ridge_loocv_mse_dns = []\n",
    "    \n",
    "    \n",
    "    for _ in range (1000):\n",
    "        # Create Dataset\n",
    "        epsilon_spr = np.random.normal(loc=0, scale=sigma2_spr)\n",
    "        epsilon_dns = np.random.normal(loc=0, scale=sigma2_dns)\n",
    "\n",
    "        X = np.random.multivariate_normal(mean = np.zeros(p), cov = Sigma_p, size = n)\n",
    "\n",
    "        Y_spr =  X @ beta_sp + epsilon_spr\n",
    "        Y_dns =  X @ beta_dns + epsilon_dns\n",
    "        \n",
    "        #For addpative regressions\n",
    "        lm_spr = LinearRegression().fit(X, Y_spr)\n",
    "        lm_dns = LinearRegression().fit(X, Y_dns)\n",
    "        \n",
    "        # Adpative Lasso\n",
    "        # Here we are compute X^T (D^-1)^T\n",
    "        adX_sprL = X @ np.diagflat(np.abs(lm_spr.coef_))\n",
    "        adX_dnsL = X @ np.diagflat(np.abs(lm_dns.coef_))\n",
    "        \n",
    "        # Adpative Ridge\n",
    "        adX_spr_Rd = X @ np.diagflat((lm_spr.coef_**2)**(1/2))\n",
    "        adX_dns_Rd = X @ np.diagflat((lm_dns.coef_**2)**(1/2))\n",
    "        \n",
    "        # For LOO-CV\n",
    "        loo = LeaveOneOut()\n",
    "    \n",
    "        # Calculate Lassos\n",
    "        # AIC\n",
    "        # Sparse\n",
    "        lasso_aic_spr = LassoLarsIC(criterion='aic')\n",
    "        lasso_aic_spr.fit(X, Y_spr)\n",
    "        lasso_aic_mse_spr.append(mean_squared_error(Y_spr, lasso_aic_spr.predict(X)))\n",
    "        # Dense\n",
    "        lasso_aic_dns = LassoLarsIC(criterion='aic')\n",
    "        lasso_aic_dns.fit(X, Y_dns)\n",
    "        lasso_aic_mse_dns.append(mean_squared_error(Y_dns, lasso_aic_dns.predict(X)))\n",
    "        #BIC\n",
    "        # Sparse\n",
    "        lasso_bic_spr = LassoLarsIC(criterion='bic')\n",
    "        lasso_bic_spr.fit(X, Y_spr)\n",
    "        lasso_bic_mse_spr.append(mean_squared_error(Y_spr, lasso_bic_spr.predict(X)))\n",
    "        # Dense\n",
    "        lasso_bic_dns = LassoLarsIC(criterion='bic')\n",
    "        lasso_bic_dns.fit(X, Y_dns)\n",
    "        lasso_bic_mse_dns.append(mean_squared_error(Y_dns, lasso_bic_dns.predict(X)))\n",
    "        #LOO-CV\n",
    "        # Sparse\n",
    "        lasso_loo_spr = LassoLarsCV(cv=loo)\n",
    "        lasso_loo_spr.fit(X, Y_spr)\n",
    "        lasso_loo_mse_spr.append(mean_squared_error(Y_spr, lasso_loo_spr.predict(X)))\n",
    "        # Dense\n",
    "        lasso_loo_dns = LassoLarsIC(cv=loo)\n",
    "        lasso_loo_dns.fit(X, Y_dns)\n",
    "        lasso_loocv_mse_spr.append(mean_squared_error(Y_dns, lasso_loo_dns.predict(X)))\n",
    "\n",
    "        #Adaptive Lasso\n",
    "        # AIC\n",
    "        # Sparse\n",
    "        adp_lasso_aic_spr = LassoLarsIC(criterion='aic')\n",
    "        adp_lasso_aic_spr.fit(adX_spr, Y_spr)\n",
    "        adp_lasso_aic_mse_spr.append(mean_squared_error(Y_spr, adp_lasso_aic_spr.predict(adX_spr, Y_spr)))\n",
    "        # Dense\n",
    "        adp_lasso_aic_dns = LassoLarsIC(criterion='aic')\n",
    "        adp_lasso_aic_dns.fit(adX_dns, Y_dns)\n",
    "        adp_lasso_aic_mse_dns.append(mean_squared_error(Y_dns, adp_lasso_aic_dns.predict(adX_dns)))\n",
    "        #BIC\n",
    "        # Sparse\n",
    "        adp_lasso_bic_spr = LassoLarsIC(criterion='bic')\n",
    "        adp_lasso_bic_spr.fit(adX_spr, Y_spr)\n",
    "        adp_lasso_bic_mse_spr.append(mean_squared_error(Y_spr, adp_lasso_bic_spr.predict(adX_spr)))\n",
    "        # Dense\n",
    "        adp_lasso_bic_dns = LassoLarsIC(criterion='bic')\n",
    "        adp_lasso_bic_dns.fit(adX_dns, Y_dns)\n",
    "        adp_lasso_bic_mse_dns.append(mean_squared_error(Y_dns, adp_lasso_bic_dns.predict(adX_dns)))\n",
    "        #LOO-CV\n",
    "        # Sparse\n",
    "        adp_lasso_loo_spr = LassoLarsCV(cv=loo)\n",
    "        adp_lasso_loo_spr.fit(adX_spr, Y_spr)\n",
    "        adp_lasso_loo_mse_spr.append(mean_squared_error(Y_spr, adp_lasso_loo_spr.predict(adX_spr)))\n",
    "        # Dense\n",
    "        adp_lasso_loo_dns = LassoLarsIC(cv=loo)\n",
    "        adp_lasso_loo_dns.fit(adX_dns, Y_dns)\n",
    "        adp_lasso_loo_mse_dns.append(mean_squared_error(Y_dns, adp_lasso_loo_dns.predict(adX_dns)))\n",
    "\n",
    "\n",
    "        # Calculate Ridge\n",
    "        # AIC\n",
    "\n",
    "        #BIC\n",
    "\n",
    "        #LOO-CV\n",
    "\n",
    "        #Adaptive Ridge\n",
    "        # AIC\n",
    "\n",
    "        # BIC\n",
    "\n",
    "        # LOO-CV\n"
   ]
  }
 ],
 "metadata": {
  "kernelspec": {
   "display_name": "Python 3",
   "language": "python",
   "name": "python3"
  },
  "language_info": {
   "codemirror_mode": {
    "name": "ipython",
    "version": 3
   },
   "file_extension": ".py",
   "mimetype": "text/x-python",
   "name": "python",
   "nbconvert_exporter": "python",
   "pygments_lexer": "ipython3",
   "version": "3.8.5"
  }
 },
 "nbformat": 4,
 "nbformat_minor": 5
}
