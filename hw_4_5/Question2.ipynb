{
 "cells": [
  {
   "cell_type": "code",
   "execution_count": null,
   "id": "interested-equity",
   "metadata": {},
   "outputs": [],
   "source": []
  },
  {
   "cell_type": "code",
   "execution_count": null,
   "id": "funded-pharmaceutical",
   "metadata": {},
   "outputs": [],
   "source": []
  },
  {
   "cell_type": "code",
   "execution_count": null,
   "id": "disciplinary-sweet",
   "metadata": {},
   "outputs": [],
   "source": []
  },
  {
   "cell_type": "markdown",
   "id": "incident-thong",
   "metadata": {},
   "source": [
    "### 2 (solution 1) simpler answer"
   ]
  },
  {
   "cell_type": "markdown",
   "id": "reverse-southwest",
   "metadata": {},
   "source": [
    "We solve for  $\\text{arg }\\underset{\\beta}{\\text{min}}\\mathbb{P}_n(Y - (\\Omega X)^{T} \\beta)^2$ through taking the derivative w.r.t to $\\beta$ and setting to 0 as done in the following steps.\n",
    "\n",
    "\\begin{align}\n",
    "0 &= \\mathbb{P}_n(Y - (\\Omega X)^{T} \\beta)\\Omega X \\\\\n",
    "0 &= \\mathbb{P}_n(\\Omega XY - \\Omega X(\\Omega X)^{T} \\beta) \\\\\n",
    "\\beta &= (\\mathbb{P}_n\\Omega X(\\Omega X)^{T})^{-1}\\mathbb{P}_n\\Omega XY \\\\\n",
    "      &= (\\mathbb{P}_n\\Omega X X^{T}\\Omega^{T})^{-1}\\mathbb{P}_n\\Omega XY \\\\\n",
    "      &= (\\Omega \\{\\mathbb{P}_nX X^{T}\\} \\Omega^{T})^{-1}\\Omega \\mathbb{P}_nXY\n",
    "\\end{align}\n",
    "\n",
    "Let $\\beta^{*,\\Omega}_n = (\\Omega \\{\\mathbb{P}_nX X^{T}\\} \\Omega^{T})^{-1}\\Omega \\mathbb{P}_nXY$.\n",
    "\n",
    "Notice that this only depends on the data from $\\mathbb{P}_n X X^{T}$ and $\\mathbb{P}_nX Y$ so we only need to sweep through the data once to construct this estimator.\n",
    "\n",
    "We can partition our dataset, $\\{X_i, Y_i\\}^{n}_{i=1}$ , into $C_1, ..., C_k$ and calculate \n",
    "\n",
    "$\\Sigma_j = \\sum_{i \\in C_j} X_i X^{T}_i$ and $\\Gamma_j = \\sum_{i \\in C_j} X_i Y_i$.\n",
    "\n",
    "Then $\\beta^{*,\\Omega}_n = (\\Omega \\left\\{\\sum^{k}_{i=1}\\Sigma_i \\right\\} \\Omega^{T})^{-1}\\Omega \\left\\{\\sum^{k}_{i=1}\\Gamma_i \\right\\}$\n",
    "\n",
    "As $X_i X^{T}_i$ is $pxp$ and $X_i Y_i$ is $px1$, so our storage is $O(p^2 + p) \\approx O(p^2)$\n",
    "\n",
    "\n",
    "Using this we can now define:\n",
    "$\\hat{\\beta}^{\\Omega}_n = \\Omega^{T}\\beta^{*,\\Omega}_n$ and \n",
    "\n",
    "$\\hat{\\beta}^{\\text{ave}}_n = \\frac{1}{B} \\sum^{B}_{b=1} = \\hat{\\beta}^{\\Omega_{(b)}}_n$ can be evaluated with only one sweep through the data."
   ]
  },
  {
   "cell_type": "code",
   "execution_count": null,
   "id": "parallel-hawaiian",
   "metadata": {},
   "outputs": [],
   "source": []
  },
  {
   "cell_type": "markdown",
   "id": "mighty-franklin",
   "metadata": {},
   "source": [
    "### old solution. Much more complicated. Should not be used."
   ]
  },
  {
   "cell_type": "markdown",
   "id": "dynamic-transaction",
   "metadata": {},
   "source": [
    "We can write $\\text{arg }\\underset{\\beta}{\\text{min}}\\mathbb{P}_n(Y - (\\Omega X)^{T} \\beta)^2$\n",
    "\n",
    "\\begin{align}\n",
    "\\mathbb{P}_n(Y - (\\Omega X)^{T} \\beta)^2 &= \\mathbb{P}_n(Y - X^{T}\\hat{\\beta}_n + X^{T}\\hat{\\beta}_n - (\\Omega X)^{\\intercal} \\beta)^2 \\\\\n",
    "&= \\mathbb{P}_n(Y - X^{T}\\hat{\\beta}_n)^2 + \\mathbb{P}_n(X^{T}\\hat{\\beta}_n - (\\Omega X)^{T} \\beta)^2 \\\\\n",
    "&= \\mathbb{P}_n((Y - X^{T}\\hat{\\beta}_n)^2 +  (\\hat{\\beta}_n - \\Omega^{T} \\beta)^{T}\\mathbb{P}_nXX^{T}(\\hat{\\beta}_n - \\Omega^{T} \\beta)\n",
    "\\end{align}\n",
    "\n",
    "So we can write $\\text{arg}\\underset{\\beta}{\\text{min}}\\mathbb{P}_n(Y - (\\Omega X)^{T} \\beta)^2$ as $\\text{arg}\\underset{\\beta}{\\text{min}}(\\hat{\\beta}_n - \\Omega^{T} \\beta)^{T}\\mathbb{P}_nXX^{T}(\\hat{\\beta}_n - \\Omega^{T} \\beta)$ , \n",
    "\n",
    "\n",
    "\n",
    "and $\\hat{\\beta}^{\\Omega}_n = \\Omega^{T} \\text{arg}\\underset{\\beta}{\\text{min}}(\\hat{\\beta}_n - \\Omega^{T} \\beta)^{T}\\mathbb{P}_nXX^{\\intercal}(\\hat{\\beta}_n - \\Omega^{T} \\beta)$\n",
    "\n",
    "\n",
    "Since only $\\hat{\\beta}_n = (\\mathbb{P}_nXX^{\\intercal})^{-1}\\mathbb{P}_nXY$ and $\\mathbb{P}_nXX^{\\intercal}$ depend on the data, we can split our data $\\{X_i, Y_i\\}^{n}_{i=1}$ we can partition our dataset into $C_1, ..., C_k$ and calculate \n",
    "\n",
    "$\\Sigma_j = \\sum_{i \\in C_j} X_i X^{T}_i$ and $\\Gamma_j = \\sum_{i \\in C_j} X_i Y_i$.\n",
    "\n",
    "Thus, $\\hat{\\beta}_n = \\sum^{k}_{i=1} \\left(\\Sigma_i \\right)^{-1}\\left(\\Gamma_i \\right)$ and \n",
    " $\\hat{\\beta}^{\\Omega}_n = \\Omega^{T} \\text{arg}\\underset{\\beta}{\\text{min}}(\\hat{\\beta}_n - \\Omega^{T} \\beta)^{T}\\left(\\sum^{k}_{i=1}\\Sigma_i \\right)^{-1}  (\\hat{\\beta}_n - \\Omega^{T} \\beta)$, where $\\hat{\\beta}^{\\Omega}_n$ can be evaluated using stochastic gradient descent for each $\\Omega$.\n",
    " \n",
    " \n",
    " As $X_i X^{T}_i$ is $pxp$ and $X_i Y_i$ is $px1$, so our storage is $O(p^2 + p) \\approx O(p^2)$"
   ]
  },
  {
   "cell_type": "markdown",
   "id": "utility-steel",
   "metadata": {},
   "source": [
    "We can analyitcally solve for $\\hat{\\beta}^{\\Omega}_n$ by taking the derivative w.r.t. $\\beta$ in the expression $\\text{arg}\\underset{\\beta}{\\text{min}}(\\hat{\\beta}_n - \\Omega^{T} \\beta)^{T}\\mathbb{P}_nXX^{\\intercal} (\\hat{\\beta}_n - \\Omega^{T} \\beta)$.\n",
    "\n",
    "Expanding $(\\hat{\\beta}_n - \\Omega^{T} \\beta)^{T}\\mathbb{P}_nXX^{\\intercal}   (\\hat{\\beta}_n - \\Omega^{T} \\beta)$ gives    \n",
    "$\\hat{\\beta}^{T}_n \\mathbb{P}_nXX^{\\intercal}  \\hat{\\beta}_n   -  2\\hat{\\beta}^{T}_n\\mathbb{P}_nXX^{\\intercal} \\Omega^{T} \\beta + (\\Omega^{T} \\beta)^{T}\\mathbb{P}_nXX^{\\intercal} \\Omega^{T} \\beta$.\n",
    "\n",
    "Differentiating w.r.t $\\beta$ and setting to 0 gives the following:\n",
    "\n",
    "\\begin{align}\n",
    "0 &= -2\\hat{\\beta}^{T}_n\\mathbb{P}_nXX^{\\intercal} \\Omega^{T} + 2 \\Omega\\mathbb{P}_nXX^{\\intercal} \\Omega^{T} \\beta \\\\ \n",
    "\\Omega\\mathbb{P}_nXX^{\\intercal} \\Omega^{T} \\beta &= \\hat{\\beta}^{T}_n\\mathbb{P}_nXX^{\\intercal} \\Omega^{T} \\\\\n",
    "\\beta &= \\left(\\Omega\\mathbb{P}_nXX^{\\intercal} \\Omega^{T} \\right)^{-1}\\hat{\\beta}^{T}_n\\mathbb{P}_nXX^{\\intercal} \\Omega^{T}\n",
    "\\end{align}\n",
    "\n",
    "\n",
    "Therefore $\\text{arg}\\underset{\\beta}{\\text{min}}(\\hat{\\beta}_n - \\Omega^{T} \\beta)^{T}\\left(\\sum^{k}_{i=1}\\Sigma_i \\right)  (\\hat{\\beta}_n - \\Omega^{T} \\beta) = \\left\\{\\Omega \\left(\\sum^{k}_{i=1}\\Sigma_i \\right)\\Omega^{T} \\right\\}^{-1}\\hat{\\beta}^{T}_n\\left(\\sum^{k}_{i=1}\\Sigma_i \\right)\\Omega^{T}$\n",
    "\n",
    "\n",
    "Let $\\beta^{*,\\Omega}_n = \\left\\{\\Omega \\left(\\sum^{k}_{i=1}\\Sigma_i \\right)\\Omega^{T} \\right\\}^{-1}\\hat{\\beta}^{T}_n\\left(\\sum^{k}_{i=1}\\Sigma_i \\right)\\Omega^{T}$.\n",
    "\n",
    "\n",
    "Now we can write,  $\\hat{\\beta}^{\\Omega}_n = \\Omega^{T}\\beta^{*,\\Omega}_n$."
   ]
  },
  {
   "cell_type": "code",
   "execution_count": null,
   "id": "junior-edition",
   "metadata": {},
   "outputs": [],
   "source": []
  }
 ],
 "metadata": {
  "kernelspec": {
   "display_name": "Python 3",
   "language": "python",
   "name": "python3"
  },
  "language_info": {
   "codemirror_mode": {
    "name": "ipython",
    "version": 3
   },
   "file_extension": ".py",
   "mimetype": "text/x-python",
   "name": "python",
   "nbconvert_exporter": "python",
   "pygments_lexer": "ipython3",
   "version": "3.8.3"
  }
 },
 "nbformat": 4,
 "nbformat_minor": 5
}
