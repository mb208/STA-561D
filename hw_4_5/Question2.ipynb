{
 "cells": [
  {
   "cell_type": "code",
   "execution_count": null,
   "metadata": {},
   "outputs": [],
   "source": []
  },
  {
   "cell_type": "code",
   "execution_count": null,
   "metadata": {},
   "outputs": [],
   "source": []
  },
  {
   "cell_type": "code",
   "execution_count": null,
   "metadata": {},
   "outputs": [],
   "source": []
  },
  {
   "cell_type": "markdown",
   "metadata": {},
   "source": [
    "### 2 (solution 1) simpler answer"
   ]
  },
  {
   "cell_type": "markdown",
   "metadata": {},
   "source": [
    "We solve for  $\\text{arg }\\underset{\\beta}{\\text{min}}\\mathbb{P}_n(Y - (\\Omega X)^{T} \\beta)^2$ through taking the derivative w.r.t to $\\beta$ and setting to 0 as done in the following steps.\n",
    "\n",
    "\\begin{align}\n",
    "0 &= \\mathbb{P}_n(Y - (\\Omega X)^{T} \\beta)\\Omega X \\\\\n",
    "0 &= \\mathbb{P}_n(\\Omega XY - \\Omega X(\\Omega X)^{T} \\beta) \\\\\n",
    "\\beta &= (\\mathbb{P}_n\\Omega X(\\Omega X)^{T})^{-1}\\mathbb{P}_n\\Omega XY \\\\\n",
    "      &= (\\mathbb{P}_n\\Omega X X^{T}\\Omega^{T})^{-1}\\mathbb{P}_n\\Omega XY \\\\\n",
    "      &= (\\Omega \\{\\mathbb{P}_nX X^{T}\\} \\Omega^{T})^{-1}\\Omega \\mathbb{P}_nXY\n",
    "\\end{align}\n",
    "\n",
    "Let $\\beta^{*,\\Omega}_n = (\\Omega \\{\\mathbb{P}_nX X^{T}\\} \\Omega^{T})^{-1}\\Omega \\mathbb{P}_nXY$.\n",
    "\n",
    "Notice that this only depends on the data from $\\mathbb{P}_n X X^{T}$ and $\\mathbb{P}_nX Y$ so we only need to sweep through the data once to construct this estimator.\n",
    "\n",
    "We can partition our dataset, $\\{X_i, Y_i\\}^{n}_{i=1}$ , into $C_1, ..., C_k$ and calculate \n",
    "\n",
    "$\\Sigma_j = \\sum_{i \\in C_j} X_i X^{T}_i$ and $\\Gamma_j = \\sum_{i \\in C_j} X_i Y_i$.\n",
    "\n",
    "Then $\\beta^{*,\\Omega}_n = (\\Omega \\left\\{\\sum^{k}_{i=1}\\Sigma_i \\right\\} \\Omega^{T})^{-1}\\Omega \\left\\{\\sum^{k}_{i=1}\\Gamma_i \\right\\}$\n",
    "\n",
    "As $X_i X^{T}_i$ is $pxp$ and $X_i Y_i$ is $px1$, so our storage is $O(p^2 + p) \\approx O(p^2)$\n",
    "\n",
    "\n",
    "Using this we can now define:\n",
    "$\\hat{\\beta}^{\\Omega}_n = \\Omega^{T}\\beta^{*,\\Omega}_n$ and \n",
    "\n",
    "$\\hat{\\beta}^{\\text{ave}}_n = \\frac{1}{B} \\sum^{B}_{b=1} = \\hat{\\beta}^{\\Omega_{(b)}}_n$ can be evaluated with only one sweep through the data."
   ]
  },
  {
   "cell_type": "code",
   "execution_count": null,
   "metadata": {},
   "outputs": [],
   "source": []
  },
  {
   "cell_type": "markdown",
   "metadata": {},
   "source": [
    "### old solution. Much more complicated. Should not be used."
   ]
  },
  {
   "cell_type": "markdown",
   "metadata": {},
   "source": [
    "We can write $\\text{arg }\\underset{\\beta}{\\text{min}}\\mathbb{P}_n(Y - (\\Omega X)^{T} \\beta)^2$\n",
    "\n",
    "\\begin{align}\n",
    "\\mathbb{P}_n(Y - (\\Omega X)^{T} \\beta)^2 &= \\mathbb{P}_n(Y - X^{T}\\hat{\\beta}_n + X^{T}\\hat{\\beta}_n - (\\Omega X)^{\\intercal} \\beta)^2 \\\\\n",
    "&= \\mathbb{P}_n(Y - X^{T}\\hat{\\beta}_n)^2 + \\mathbb{P}_n(X^{T}\\hat{\\beta}_n - (\\Omega X)^{T} \\beta)^2 \\\\\n",
    "&= \\mathbb{P}_n((Y - X^{T}\\hat{\\beta}_n)^2 +  (\\hat{\\beta}_n - \\Omega^{T} \\beta)^{T}\\mathbb{P}_nXX^{T}(\\hat{\\beta}_n - \\Omega^{T} \\beta)\n",
    "\\end{align}\n",
    "\n",
    "So we can write $\\text{arg}\\underset{\\beta}{\\text{min}}\\mathbb{P}_n(Y - (\\Omega X)^{T} \\beta)^2$ as $\\text{arg}\\underset{\\beta}{\\text{min}}(\\hat{\\beta}_n - \\Omega^{T} \\beta)^{T}\\mathbb{P}_nXX^{T}(\\hat{\\beta}_n - \\Omega^{T} \\beta)$ , \n",
    "\n",
    "\n",
    "\n",
    "and $\\hat{\\beta}^{\\Omega}_n = \\Omega^{T} \\text{arg}\\underset{\\beta}{\\text{min}}(\\hat{\\beta}_n - \\Omega^{T} \\beta)^{T}\\mathbb{P}_nXX^{\\intercal}(\\hat{\\beta}_n - \\Omega^{T} \\beta)$\n",
    "\n",
    "\n",
    "Since only $\\hat{\\beta}_n = (\\mathbb{P}_nXX^{\\intercal})^{-1}\\mathbb{P}_nXY$ and $\\mathbb{P}_nXX^{\\intercal}$ depend on the data, we can split our data $\\{X_i, Y_i\\}^{n}_{i=1}$ we can partition our dataset into $C_1, ..., C_k$ and calculate \n",
    "\n",
    "$\\Sigma_j = \\sum_{i \\in C_j} X_i X^{T}_i$ and $\\Gamma_j = \\sum_{i \\in C_j} X_i Y_i$.\n",
    "\n",
    "Thus, $\\hat{\\beta}_n = \\sum^{k}_{i=1} \\left(\\Sigma_i \\right)^{-1}\\left(\\Gamma_i \\right)$ and \n",
    " $\\hat{\\beta}^{\\Omega}_n = \\Omega^{T} \\text{arg}\\underset{\\beta}{\\text{min}}(\\hat{\\beta}_n - \\Omega^{T} \\beta)^{T}\\left(\\sum^{k}_{i=1}\\Sigma_i \\right)^{-1}  (\\hat{\\beta}_n - \\Omega^{T} \\beta)$, where $\\hat{\\beta}^{\\Omega}_n$ can be evaluated using stochastic gradient descent for each $\\Omega$.\n",
    " \n",
    " \n",
    " As $X_i X^{T}_i$ is $pxp$ and $X_i Y_i$ is $px1$, so our storage is $O(p^2 + p) \\approx O(p^2)$"
   ]
  },
  {
   "cell_type": "markdown",
   "metadata": {},
   "source": [
    "We can analyitcally solve for $\\hat{\\beta}^{\\Omega}_n$ by taking the derivative w.r.t. $\\beta$ in the expression $\\text{arg}\\underset{\\beta}{\\text{min}}(\\hat{\\beta}_n - \\Omega^{T} \\beta)^{T}\\mathbb{P}_nXX^{\\intercal} (\\hat{\\beta}_n - \\Omega^{T} \\beta)$.\n",
    "\n",
    "Expanding $(\\hat{\\beta}_n - \\Omega^{T} \\beta)^{T}\\mathbb{P}_nXX^{\\intercal}   (\\hat{\\beta}_n - \\Omega^{T} \\beta)$ gives    \n",
    "$\\hat{\\beta}^{T}_n \\mathbb{P}_nXX^{\\intercal}  \\hat{\\beta}_n   -  2\\hat{\\beta}^{T}_n\\mathbb{P}_nXX^{\\intercal} \\Omega^{T} \\beta + (\\Omega^{T} \\beta)^{T}\\mathbb{P}_nXX^{\\intercal} \\Omega^{T} \\beta$.\n",
    "\n",
    "Differentiating w.r.t $\\beta$ and setting to 0 gives the following:\n",
    "\n",
    "\\begin{align}\n",
    "0 &= -2\\hat{\\beta}^{T}_n\\mathbb{P}_nXX^{\\intercal} \\Omega^{T} + 2 \\Omega\\mathbb{P}_nXX^{\\intercal} \\Omega^{T} \\beta \\\\ \n",
    "\\Omega\\mathbb{P}_nXX^{\\intercal} \\Omega^{T} \\beta &= \\hat{\\beta}^{T}_n\\mathbb{P}_nXX^{\\intercal} \\Omega^{T} \\\\\n",
    "\\beta &= \\left(\\Omega\\mathbb{P}_nXX^{\\intercal} \\Omega^{T} \\right)^{-1}\\hat{\\beta}^{T}_n\\mathbb{P}_nXX^{\\intercal} \\Omega^{T}\n",
    "\\end{align}\n",
    "\n",
    "\n",
    "Therefore $\\text{arg}\\underset{\\beta}{\\text{min}}(\\hat{\\beta}_n - \\Omega^{T} \\beta)^{T}\\left(\\sum^{k}_{i=1}\\Sigma_i \\right)  (\\hat{\\beta}_n - \\Omega^{T} \\beta) = \\left\\{\\Omega \\left(\\sum^{k}_{i=1}\\Sigma_i \\right)\\Omega^{T} \\right\\}^{-1}\\hat{\\beta}^{T}_n\\left(\\sum^{k}_{i=1}\\Sigma_i \\right)\\Omega^{T}$\n",
    "\n",
    "\n",
    "Let $\\beta^{*,\\Omega}_n = \\left\\{\\Omega \\left(\\sum^{k}_{i=1}\\Sigma_i \\right)\\Omega^{T} \\right\\}^{-1}\\hat{\\beta}^{T}_n\\left(\\sum^{k}_{i=1}\\Sigma_i \\right)\\Omega^{T}$.\n",
    "\n",
    "\n",
    "Now we can write,  $\\hat{\\beta}^{\\Omega}_n = \\Omega^{T}\\beta^{*,\\Omega}_n$."
   ]
  },
  {
   "cell_type": "markdown",
   "metadata": {},
   "source": [
    "### 3."
   ]
  },
  {
   "cell_type": "markdown",
   "metadata": {},
   "source": [
    "From problem 2:\n",
    "\n",
    "We can partition our dataset into $C_1, ..., C_k$ and calculate \n",
    "\n",
    "$\\Sigma_j = \\sum_{i \\in C_j} X_i X^{T}_i$ and $\\Gamma_j = \\sum_{i \\in C_j} X_i Y_i$.\n",
    "\n",
    "Then $\\beta^{*,\\Omega}_n = (\\Omega \\left\\{\\sum^{k}_{i=1}\\Sigma_i \\right\\} \\Omega^{T})^{-1}\\Omega \\left\\{\\sum^{k}_{i=1}\\Gamma_i \\right\\}$\n",
    "\n",
    "We can therefore sweep through the data once and then find each $\\hat{\\beta}_n^{\\Omega^{(b)}}$ at the end, the values of which we may use to calculate the final value of $\\hat{\\beta}_n^{\\text{ave}}$.\n"
   ]
  },
  {
   "cell_type": "code",
   "execution_count": 104,
   "metadata": {},
   "outputs": [
    {
     "data": {
      "image/png": "[encoded data removed]",
      "text/plain": [
       "<Figure size 432x288 with 1 Axes>"
      ]
     },
     "metadata": {
      "needs_background": "light"
     },
     "output_type": "display_data"
    }
   ],
   "source": [
    "import numpy as np\n",
    "import matplotlib.pyplot as plt\n",
    "\n",
    "# model parameters\n",
    "n = 10000\n",
    "p = 100\n",
    "j = 50\n",
    "B = 25\n",
    "k_min = 1\n",
    "k_max = 100\n",
    "\n",
    "# generate sample data\n",
    "X = np.random.normal(size=(p, n))\n",
    "β = np.random.uniform(-3, 3, p) \n",
    "y = X.T @ β + np.random.normal(p)\n",
    "\n",
    "# partitions\n",
    "C = np.arange(n)\n",
    "np.random.shuffle(C)\n",
    "C = C.reshape(j, n // j)\n",
    "\n",
    "# sufficient stats\n",
    "Σ = np.zeros((p, p))\n",
    "Γ = np.zeros(p)\n",
    "\n",
    "for i in range(j):\n",
    "    Σ += X[:, C[i]] @ X[:, C[i]].T\n",
    "    Γ += X[:, C[i]] @ y[C[i]]\n",
    "    \n",
    "# result storage\n",
    "β_ave = np.zeros(p)\n",
    "\n",
    "for _ in range(B):\n",
    "    k = np.random.randint(low=k_min, high=k_max)             # P(k) is uniform on set\n",
    "    Ω = np.random.binomial(n=1, p=0.5, size=(k, p)) * 2 - 1  # Rademacher = binomial * 2 - 1\n",
    "    β_ave += Ω.T @ np.linalg.inv(Ω @ Σ @ Ω.T) @ Ω @ Γ\n",
    "    \n",
    "β_ave /= B\n",
    "\n",
    "plt.scatter(β, β_ave)\n",
    "plt.title(\"True β vs. β_ave\")\n",
    "plt.xlabel(\"β\")\n",
    "plt.ylabel(\"β_ave\")\n",
    "plt.show()"
   ]
  }
 ],
 "metadata": {
  "kernelspec": {
   "display_name": "Python 3",
   "language": "python",
   "name": "python3"
  },
  "language_info": {
   "codemirror_mode": {
    "name": "ipython",
    "version": 3
   },
   "file_extension": ".py",
   "mimetype": "text/x-python",
   "name": "python",
   "nbconvert_exporter": "python",
   "pygments_lexer": "ipython3",
   "version": "3.8.7"
  }
 },
 "nbformat": 4,
 "nbformat_minor": 5
}