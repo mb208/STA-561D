{
 "cells": [
  {
   "cell_type": "markdown",
   "id": "joined-option",
   "metadata": {},
   "source": [
    "- Authors: Marc Brooks, Jack McCarthy, Michael Sarkis, Itamar Barak\n",
    "- NetID: mgb45, Jwm70 , ms939, imb12"
   ]
  },
  {
   "cell_type": "markdown",
   "id": "right-reasoning",
   "metadata": {},
   "source": [
    "### 1."
   ]
  },
  {
   "cell_type": "markdown",
   "id": "backed-harrison",
   "metadata": {},
   "source": [
    "#### Part 1"
   ]
  },
  {
   "cell_type": "markdown",
   "id": "coral-grammar",
   "metadata": {},
   "source": [
    "$$\\begin{aligned}\n",
    "\\mathbb{E}{\\lvert\\lvert k^{-1/2}\\Omega \\textbf{x}\\rvert\\rvert}^2 &= {\\lvert\\lvert\\textbf{x}\\rvert\\rvert}^2\\\\\n",
    "&= \\frac{1}{k}\\mathbb{E}\\left[\\textbf{x}^T\\Omega^T\\Omega\\textbf{x}\\right]\\\\\n",
    "&= tr\\left(\\frac{1}{k}\\mathbb{E}\\left[\\textbf{x}^T\\Omega^T\\Omega\\textbf{x}\\right]\\right)\\\\\n",
    "&= \\frac{1}{k}\\mathbb{E}\\left[tr\\left(\\textbf{x}^T\\Omega^T\\Omega\\textbf{x}\\right)\\right]\\\\\n",
    "&= \\frac{1}{k}\\mathbb{E}\\left[tr\\left(\\Omega^T\\Omega\\textbf{x}\\textbf{x}^T\\right)\\right]\\\\\n",
    "&= \\frac{1}{k}tr\\left(\\mathbb{E}\\left[\\Omega^T\\Omega\\right]\\textbf{x}\\textbf{x}^T\\right)\\\\\\mathbb{E}[\\Omega_{ij}] = 0,\\mathbb{E}[\\Omega_{ij}^2] = 1 \\\\\n",
    "\\text{Each element of }\\Omega \\text{ is independent, thus:}\\\\\n",
    "\\mathbb{E}[\\Omega_{ij}*\\Omega_{\\neq ij}] = 0\\\\\n",
    "&= \\frac{1}{k}tr\\left(\\mathbb{E}\\left[k*\\textbf{I}_p\\right]\\textbf{x}\\textbf{x}^T\\right)\\\\\n",
    "&=tr\\left(\\textbf{x}\\textbf{x}^T\\right)\\\\\n",
    "&=\n",
    "{\\lvert\\lvert\\textbf{x}\\rvert\\rvert}^2\\\\\n",
    "\\end{aligned}\n",
    "$$"
   ]
  },
  {
   "cell_type": "markdown",
   "id": "unique-integrity",
   "metadata": {},
   "source": [
    "#### Part 2"
   ]
  },
  {
   "cell_type": "markdown",
   "id": "regulated-diversity",
   "metadata": {},
   "source": [
    "The only things necessary for part 1 to be true are that the distribution Q has an expected value of 0 and a variance of 1. This makes it such that for any value in $\\Omega$, $\\mathbb{E}[\\Omega_{ij}] = 0,\\mathbb{E}[\\Omega_{ij}^2] = 1$"
   ]
  },
  {
   "cell_type": "markdown",
   "id": "improving-tunnel",
   "metadata": {},
   "source": [
    "### 2."
   ]
  },
  {
   "cell_type": "markdown",
   "id": "congressional-defense",
   "metadata": {},
   "source": [
    "We solve for  $\\text{arg }\\underset{\\beta}{\\text{min}}\\mathbb{P}_n(Y - (\\Omega X)^{T} \\beta)^2$ through taking the derivative w.r.t to $\\beta$ and setting to 0 as done in the following steps.\n",
    "\n",
    "\\begin{align}\n",
    "0 &= \\mathbb{P}_n(Y - (\\Omega X)^{T} \\beta)\\Omega X \\\\\n",
    "0 &= \\mathbb{P}_n(\\Omega XY - \\Omega X(\\Omega X)^{T} \\beta) \\\\\n",
    "\\beta &= (\\mathbb{P}_n\\Omega X(\\Omega X)^{T})^{-1}\\mathbb{P}_n\\Omega XY \\\\\n",
    "      &= (\\mathbb{P}_n\\Omega X X^{T}\\Omega^{T})^{-1}\\mathbb{P}_n\\Omega XY \\\\\n",
    "      &= (\\Omega \\{\\mathbb{P}_nX X^{T}\\} \\Omega^{T})^{-1}\\Omega \\mathbb{P}_nXY\n",
    "\\end{align}\n",
    "\n",
    "Let $\\beta^{*,\\Omega}_n = (\\Omega \\{\\mathbb{P}_nX X^{T}\\} \\Omega^{T})^{-1}\\Omega \\mathbb{P}_nXY$.\n",
    "\n",
    "Notice that this only depends on the data from $\\mathbb{P}_n X X^{T}$ and $\\mathbb{P}_nX Y$ so we only need to sweep through the data once to construct this estimator.\n",
    "\n",
    "We can partition our dataset, $\\{X_i, Y_i\\}^{n}_{i=1}$ , into $C_1, ..., C_k$ and calculate \n",
    "\n",
    "$\\Sigma_j = \\sum_{i \\in C_j} X_i X^{T}_i$ and $\\Gamma_j = \\sum_{i \\in C_j} X_i Y_i$.\n",
    "\n",
    "Then $\\beta^{*,\\Omega}_n = (\\Omega \\left\\{\\sum^{k}_{i=1}\\Sigma_i \\right\\} \\Omega^{T})^{-1}\\Omega \\left\\{\\sum^{k}_{i=1}\\Gamma_i \\right\\}$\n",
    "\n",
    "As $X_i X^{T}_i$ is $pxp$ and $X_i Y_i$ is $px1$, so our storage is $O(p^2 + p) \\approx O(p^2)$\n",
    "\n",
    "\n",
    "Using this we can now define:\n",
    "$\\hat{\\beta}^{\\Omega}_n = \\Omega^{T}\\beta^{*,\\Omega}_n$ and \n",
    "\n",
    "$\\hat{\\beta}^{\\text{ave}}_n = \\frac{1}{B} \\sum^{B}_{b=1} = \\hat{\\beta}^{\\Omega_{(b)}}_n$ can be evaluated with only one sweep through the data."
   ]
  },
  {
   "cell_type": "markdown",
   "id": "major-management",
   "metadata": {},
   "source": [
    "### 3."
   ]
  },
  {
   "cell_type": "markdown",
   "id": "aware-puzzle",
   "metadata": {},
   "source": [
    "From problem 2:\n",
    "\n",
    "We can partition our dataset into $C_1, ..., C_k$ and calculate \n",
    "\n",
    "$\\Sigma_j = \\sum_{i \\in C_j} X_i X^{T}_i$ and $\\Gamma_j = \\sum_{i \\in C_j} X_i Y_i$.\n",
    "\n",
    "Then $\\beta^{*,\\Omega}_n = (\\Omega \\left\\{\\sum^{k}_{i=1}\\Sigma_i \\right\\} \\Omega^{T})^{-1}\\Omega \\left\\{\\sum^{k}_{i=1}\\Gamma_i \\right\\}$\n",
    "\n",
    "We can therefore sweep through the data once and then find each $\\hat{\\beta}_n^{\\Omega^{(b)}}$ at the end, the values of which we may use to calculate the final value of $\\hat{\\beta}_n^{\\text{ave}}$.\n"
   ]
  },
  {
   "cell_type": "code",
   "execution_count": null,
   "id": "abstract-three",
   "metadata": {},
   "outputs": [],
   "source": [
    "import numpy as np\n",
    "import matplotlib.pyplot as plt\n",
    "import warnings\n",
    "warnings.filterwarnings('ignore')\n",
    "\n",
    "# model parameters\n",
    "n = 10000\n",
    "p = 100\n",
    "j = 50\n",
    "B = 25\n",
    "k_min = 1\n",
    "k_max = 100\n",
    "\n",
    "# generate sample data\n",
    "X = np.random.normal(size=(p, n))\n",
    "β = np.random.uniform(-3, 3, p) \n",
    "y = X.T @ β + np.random.normal(p)\n",
    "\n",
    "# partitions\n",
    "C = np.arange(n)\n",
    "np.random.shuffle(C)\n",
    "C = C.reshape(j, n // j)\n",
    "\n",
    "# sufficient stats\n",
    "Σ = np.zeros((p, p))\n",
    "Γ = np.zeros(p)\n",
    "\n",
    "for i in range(j):\n",
    "    Σ += X[:, C[i]] @ X[:, C[i]].T\n",
    "    Γ += X[:, C[i]] @ y[C[i]]\n",
    "    \n",
    "# result storage\n",
    "β_ave = np.zeros(p)\n",
    "\n",
    "for _ in range(B):\n",
    "    k = np.random.randint(low=k_min, high=k_max)             # P(k) is uniform on set\n",
    "    Ω = np.random.binomial(n=1, p=0.5, size=(k, p)) * 2 - 1  # Rademacher = binomial * 2 - 1\n",
    "    β_ave += Ω.T @ np.linalg.inv(Ω @ Σ @ Ω.T) @ Ω @ Γ\n",
    "    \n",
    "β_ave /= B\n",
    "\n",
    "plt.scatter(β, β_ave)\n",
    "plt.title(\"True β vs. β_ave\")\n",
    "plt.xlabel(\"β\")\n",
    "plt.ylabel(\"β_ave\")\n",
    "plt.show()"
   ]
  },
  {
   "cell_type": "markdown",
   "id": "metallic-bosnia",
   "metadata": {},
   "source": [
    "### 4."
   ]
  },
  {
   "cell_type": "code",
   "execution_count": 40,
   "id": "frank-screen",
   "metadata": {},
   "outputs": [
    {
     "name": "stderr",
     "output_type": "stream",
     "text": [
      "100%|██████████| 1000/1000 [02:07<00:00,  7.82it/s]\n",
      "100%|██████████| 1000/1000 [02:46<00:00,  5.89it/s]"
     ]
    }
   ],
   "source": [
    "from numba import njit, prange\n",
    "from tqdm import tqdm\n",
    "from sklearn.metrics import mean_squared_error as mse\n",
    "\n",
    "np.random.seed(12345)\n",
    "\n",
    "# model parameters\n",
    "n = 500\n",
    "p = 50\n",
    "k = 25\n",
    "s = 1000\n",
    "\n",
    "# generate sample data\n",
    "X = np.ascontiguousarray(np.random.normal(size=(p, n)))\n",
    "β = np.random.uniform(-3, 3, p)\n",
    "y = X.T @ β + np.random.normal(p)\n",
    "\n",
    "# generate out-of-sample data\n",
    "X_test = np.random.normal(size=(p, 100)) \n",
    "y_test = X_test.T @ β + np.random.normal(p)\n",
    "\n",
    "@njit(parallel=True)\n",
    "def f_n(X, Ω):\n",
    "    p, n = X.shape\n",
    "    out = 0\n",
    "    for i in prange(n):\n",
    "        for j in prange(n):\n",
    "             out += (X[:, i].T @ X[:, j] - X[:, i].T @ Ω.T @ Ω @ X[:, j])**2\n",
    "    return out\n",
    "\n",
    "min_f = np.Inf\n",
    "Ω_hat = np.zeros((k, p))\n",
    "\n",
    "pbar = tqdm(total=s, position=0)\n",
    "for _ in range(s): \n",
    "    Ω = np.ascontiguousarray(np.random.normal(size=(k, p)))\n",
    "    f = f_n(X, Ω)\n",
    "    if f < min_f:\n",
    "        min_f = f\n",
    "        Ω_hat = Ω\n",
    "    pbar.update()\n",
    "\n",
    "# k-dim embedding\n",
    "β_Ω = Ω.T @ np.linalg.inv(Ω @ X @ X.T @ Ω.T) @ Ω @ X @ y\n",
    "y_n = X_test.T @ β_Ω\n",
    "mse_k = mse(y_test, y_n)\n",
    "\n",
    "# random normal\n",
    "Ω_r = np.random.normal(size=(k, p))\n",
    "β_r = Ω_r.T @ np.linalg.inv(Ω_r @ X @ X.T @ Ω_r.T) @ Ω_r @ X @ y\n",
    "y_r = X_test.T @ β_r\n",
    "mse_r = mse(y_test, y_r)"
   ]
  },
  {
   "cell_type": "code",
   "execution_count": 41,
   "id": "stuck-allen",
   "metadata": {},
   "outputs": [
    {
     "name": "stdout",
     "output_type": "stream",
     "text": [
      "Optimal Ω OOS MSE: 2370.4521847519 \n",
      " Random Ω OOS MSE: 2518.5906209531213\n"
     ]
    }
   ],
   "source": [
    "print(\n",
    "    'Optimal Ω OOS MSE:', mse_k, '\\n',\n",
    "    'Random Ω OOS MSE:', mse_r\n",
    ")"
   ]
  }
 ],
 "metadata": {
  "kernelspec": {
   "display_name": "Python 3",
   "language": "python",
   "name": "python3"
  },
  "language_info": {
   "codemirror_mode": {
    "name": "ipython",
    "version": 3
   },
   "file_extension": ".py",
   "mimetype": "text/x-python",
   "name": "python",
   "nbconvert_exporter": "python",
   "pygments_lexer": "ipython3",
   "version": "3.6.10"
  }
 },
 "nbformat": 4,
 "nbformat_minor": 5
}
