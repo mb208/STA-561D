{
 "cells": [
  {
   "cell_type": "code",
   "execution_count": null,
   "id": "interested-equity",
   "metadata": {},
   "outputs": [],
   "source": []
  },
  {
   "cell_type": "code",
   "execution_count": null,
   "id": "funded-pharmaceutical",
   "metadata": {},
   "outputs": [],
   "source": []
  },
  {
   "cell_type": "code",
   "execution_count": null,
   "id": "disciplinary-sweet",
   "metadata": {},
   "outputs": [],
   "source": []
  },
  {
   "cell_type": "markdown",
   "id": "incident-thong",
   "metadata": {},
   "source": [
    "### 2 "
   ]
  },
  {
   "cell_type": "markdown",
   "id": "dynamic-transaction",
   "metadata": {},
   "source": [
    "We can write $\\text{arg }\\underset{\\beta}{\\text{min}}\\mathbb{P}_n(Y - (\\Omega X)^{T} \\beta)^2$\n",
    "\n",
    "\\begin{align}\n",
    "\\mathbb{P}_n(Y - (\\Omega X)^{T} \\beta)^2 &= \\mathbb{P}_n(Y - X^{T}\\hat{\\beta}_n + X^{T}\\hat{\\beta}_n - (\\Omega X)^{\\intercal} \\beta)^2 \\\\\n",
    "&= \\mathbb{P}_n(Y - X^{T}\\hat{\\beta}_n)^2 + \\mathbb{P}_n(X^{T}\\hat{\\beta}_n - (\\Omega X)^{T} \\beta)^2 \\\\\n",
    "&= \\mathbb{P}_n((Y - X^{T}\\hat{\\beta}_n)^2 +  (\\hat{\\beta}_n - \\Omega \\beta)^{T}\\mathbb{P}_nXX^{T}(\\hat{\\beta}_n - \\Omega \\beta)\n",
    "\\end{align}\n",
    "\n",
    "So we can write $\\text{arg}\\underset{\\beta}{\\text{min}}\\mathbb{P}_n(Y - (\\Omega X)^{T} \\beta)^2$ as $\\text{arg}\\underset{\\beta}{\\text{min}}(\\hat{\\beta}_n - \\Omega \\beta)^{T}\\mathbb{P}_nXX^{T}(\\hat{\\beta}_n - \\Omega \\beta)$\n",
    "\n",
    "\n",
    "\n",
    "So $\\hat{\\beta}^{\\Omega}_n = \\Omega^{T} \\text{arg}\\underset{\\beta}{\\text{min}}(\\hat{\\beta}_n - \\Omega \\beta)^{T}\\mathbb{P}_nXX^{\\intercal}(\\hat{\\beta}_n - \\Omega \\beta)$\n",
    "\n",
    "\n",
    "Since only $\\hat{\\beta}_n = (\\mathbb{P}_nXX^{\\intercal})^{-1}\\mathbb{P}_nXY$ and $\\mathbb{P}_nXX^{\\intercal}$ depend on the data, we can split our data $\\{X_i, Y_i\\}^{n}_{i=1}$ we can partition our dataset into $C_1, ..., C_k$ and calculate \n",
    "\n",
    "$\\Sigma_j = \\sum_{i \\in C_j} X_i X^{T}_i$ and $\\Gamma_j = \\sum_{i \\in C_j} X_i Y_i$.\n",
    "\n",
    "Thus, $\\hat{\\beta}_n = \\sum^{k}_{i=1} \\left(\\Sigma_i \\right)^{-1}\\left(\\Gamma_i \\right)$ and \n",
    " $\\hat{\\beta}^{\\Omega}_n = \\Omega^{T} \\text{arg}\\underset{\\beta}{\\text{min}}(\\hat{\\beta}_n - \\Omega \\beta)^{T}\\left(\\sum^{k}_{i=1}\\Sigma_i \\right)  (\\hat{\\beta}_n - \\Omega \\beta)$, where $\\hat{\\beta}^{\\Omega}_n$ can be evaluated using stochastic gradient descent for each $\\Omega$.\n",
    " \n",
    " \n",
    " As $X_i X^{T}_i$ is $pxp$ and $X_i Y_i$ is $px1$, so our storage is $O(p^2 + p) \\approx O(p^2)$"
   ]
  },
  {
   "cell_type": "code",
   "execution_count": null,
   "id": "derived-turtle",
   "metadata": {},
   "outputs": [],
   "source": []
  }
 ],
 "metadata": {
  "kernelspec": {
   "display_name": "Python 3",
   "language": "python",
   "name": "python3"
  },
  "language_info": {
   "codemirror_mode": {
    "name": "ipython",
    "version": 3
   },
   "file_extension": ".py",
   "mimetype": "text/x-python",
   "name": "python",
   "nbconvert_exporter": "python",
   "pygments_lexer": "ipython3",
   "version": "3.8.3"
  }
 },
 "nbformat": 4,
 "nbformat_minor": 5
}
