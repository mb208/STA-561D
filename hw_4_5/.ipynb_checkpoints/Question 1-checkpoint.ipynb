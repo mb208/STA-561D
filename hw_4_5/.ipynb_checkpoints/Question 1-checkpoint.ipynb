{
 "cells": [
  {
   "cell_type": "markdown",
   "metadata": {},
   "source": [
    "# Question 1"
   ]
  },
  {
   "cell_type": "markdown",
   "metadata": {},
   "source": [
    "## Part 1"
   ]
  },
  {
   "cell_type": "markdown",
   "metadata": {},
   "source": [
    "$$\\begin{aligned}\n",
    "\\mathbb{E}{\\lvert\\lvert k^{-1/2}\\Omega \\textbf{x}\\rvert\\rvert}^2 &= {\\lvert\\lvert\\textbf{x}\\rvert\\rvert}^2\\\\\n",
    "&= \\frac{1}{k}\\mathbb{E}\\left[\\textbf{x}^T\\Omega^T\\Omega\\textbf{x}\\right]\\\\\n",
    "&= tr\\left(\\frac{1}{k}\\mathbb{E}\\left[\\textbf{x}^T\\Omega^T\\Omega\\textbf{x}\\right]\\right)\\\\\n",
    "&= \\frac{1}{k}\\mathbb{E}\\left[tr\\left(\\textbf{x}^T\\Omega^T\\Omega\\textbf{x}\\right)\\right]\\\\\n",
    "&= \\frac{1}{k}\\mathbb{E}\\left[tr\\left(\\Omega^T\\Omega\\textbf{x}\\textbf{x}^T\\right)\\right]\\\\\n",
    "&= \\frac{1}{k}tr\\left(\\mathbb{E}\\left[\\Omega^T\\Omega\\right]\\textbf{x}\\textbf{x}^T\\right)\\\\\\mathbb{E}[\\Omega_{ij}] = 0,\\mathbb{E}[\\Omega_{ij}^2] = 1 \\\\\n",
    "\\text{Each element of }\\Omega \\text{ is independent, thus:}\\\\\n",
    "\\mathbb{E}[\\Omega_{ij}*\\Omega_{\\neq ij}] = 0\\\\\n",
    "&= \\frac{1}{k}tr\\left(\\mathbb{E}\\left[k*\\textbf{I}_p\\right]\\textbf{x}\\textbf{x}^T\\right)\\\\\n",
    "&=tr\\left(\\textbf{x}\\textbf{x}^T\\right)\\\\\n",
    "&= {\\lvert\\lvert\\textbf{x}\\rvert\\rvert}^2\\\\\n",
    "\\end{aligned}\n",
    "$$"
   ]
  },
  {
   "cell_type": "markdown",
   "metadata": {},
   "source": [
    "## Part 2"
   ]
  },
  {
   "cell_type": "markdown",
   "metadata": {},
   "source": [
    "The only things necessary for part 1 to be true are that the distribution Q has an expected value of 0 and a variance of 1. This makes it such that for any value in $\\Omega$, $\\mathbb{E}[\\Omega_{ij}] = 0,\\mathbb{E}[\\Omega_{ij}^2] = 1$"
   ]
  }
 ],
 "metadata": {
  "kernelspec": {
   "display_name": "Python 3",
   "language": "python",
   "name": "python3"
  },
  "language_info": {
   "codemirror_mode": {
    "name": "ipython",
    "version": 3
   },
   "file_extension": ".py",
   "mimetype": "text/x-python",
   "name": "python",
   "nbconvert_exporter": "python",
   "pygments_lexer": "ipython3",
   "version": "3.8.5"
  }
 },
 "nbformat": 4,
 "nbformat_minor": 4
}
